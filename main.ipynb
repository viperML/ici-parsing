{
 "cells": [
  {
   "attachments": {},
   "cell_type": "markdown",
   "metadata": {},
   "source": [
    "![Alt text](data/Screenshot%202023-04-03%20100217.png)"
   ]
  },
  {
   "cell_type": "code",
   "execution_count": 13,
   "metadata": {},
   "outputs": [
    {
     "name": "stderr",
     "output_type": "stream",
     "text": [
      "\u001b[32m\u001b[1m   Resolving\u001b[22m\u001b[39m package versions...\n",
      "\u001b[32m\u001b[1m  No Changes\u001b[22m\u001b[39m to `~/.local/share/julia/environments/v1.8/Project.toml`\n",
      "\u001b[32m\u001b[1m  No Changes\u001b[22m\u001b[39m to `~/.local/share/julia/environments/v1.8/Manifest.toml`\n",
      "\u001b[32m\u001b[1m   Resolving\u001b[22m\u001b[39m package versions...\n",
      "\u001b[32m\u001b[1m  No Changes\u001b[22m\u001b[39m to `~/.local/share/julia/environments/v1.8/Project.toml`\n",
      "\u001b[32m\u001b[1m  No Changes\u001b[22m\u001b[39m to `~/.local/share/julia/environments/v1.8/Manifest.toml`\n"
     ]
    }
   ],
   "source": [
    "using Pkg\n",
    "\n",
    "Pkg.add(\"CSV\")\n",
    "using CSV\n",
    "\n",
    "Pkg.add(\"DataFrames\")\n",
    "using DataFrames\n",
    "\n",
    "import Base: tryparse\n",
    "import Dates: DateTime"
   ]
  },
  {
   "cell_type": "code",
   "execution_count": 20,
   "metadata": {},
   "outputs": [
    {
     "data": {
      "text/html": [
       "<div><div style = \"float: left;\"><span>1131×3 DataFrame</span></div><div style = \"float: right;\"><span style = \"font-style: italic;\">1106 rows omitted</span></div><div style = \"clear: both;\"></div></div><div class = \"data-frame\" style = \"overflow-x: scroll;\"><table class = \"data-frame\" style = \"margin-bottom: 6px;\"><thead><tr class = \"header\"><th class = \"rowNumber\" style = \"font-weight: bold; text-align: right;\">Row</th><th style = \"text-align: left;\">name</th><th style = \"text-align: left;\">value</th><th style = \"text-align: left;\">ts</th></tr><tr class = \"subheader headerLastRow\"><th class = \"rowNumber\" style = \"font-weight: bold; text-align: right;\"></th><th title = \"Station\" style = \"text-align: left;\">Station</th><th title = \"Float64\" style = \"text-align: left;\">Float64</th><th title = \"DateTime\" style = \"text-align: left;\">DateTime</th></tr></thead><tbody><tr><td class = \"rowNumber\" style = \"font-weight: bold; text-align: right;\">1</td><td style = \"text-align: left;\">Estepona</td><td style = \"text-align: right;\">0.0</td><td style = \"text-align: left;\">2020-07-29T01:00:00</td></tr><tr><td class = \"rowNumber\" style = \"font-weight: bold; text-align: right;\">2</td><td style = \"text-align: left;\">Estepona</td><td style = \"text-align: right;\">0.0</td><td style = \"text-align: left;\">2020-07-29T02:00:00</td></tr><tr><td class = \"rowNumber\" style = \"font-weight: bold; text-align: right;\">3</td><td style = \"text-align: left;\">Estepona</td><td style = \"text-align: right;\">0.0</td><td style = \"text-align: left;\">2020-07-29T03:00:00</td></tr><tr><td class = \"rowNumber\" style = \"font-weight: bold; text-align: right;\">4</td><td style = \"text-align: left;\">Estepona</td><td style = \"text-align: right;\">0.0</td><td style = \"text-align: left;\">2020-07-29T04:00:00</td></tr><tr><td class = \"rowNumber\" style = \"font-weight: bold; text-align: right;\">5</td><td style = \"text-align: left;\">Estepona</td><td style = \"text-align: right;\">0.0</td><td style = \"text-align: left;\">2020-07-29T05:00:00</td></tr><tr><td class = \"rowNumber\" style = \"font-weight: bold; text-align: right;\">6</td><td style = \"text-align: left;\">Estepona</td><td style = \"text-align: right;\">0.0</td><td style = \"text-align: left;\">2020-07-29T06:00:00</td></tr><tr><td class = \"rowNumber\" style = \"font-weight: bold; text-align: right;\">7</td><td style = \"text-align: left;\">Estepona</td><td style = \"text-align: right;\">0.0</td><td style = \"text-align: left;\">2020-07-29T07:00:00</td></tr><tr><td class = \"rowNumber\" style = \"font-weight: bold; text-align: right;\">8</td><td style = \"text-align: left;\">Estepona</td><td style = \"text-align: right;\">0.0</td><td style = \"text-align: left;\">2020-07-29T08:00:00</td></tr><tr><td class = \"rowNumber\" style = \"font-weight: bold; text-align: right;\">9</td><td style = \"text-align: left;\">Estepona</td><td style = \"text-align: right;\">0.0</td><td style = \"text-align: left;\">2020-07-29T09:00:00</td></tr><tr><td class = \"rowNumber\" style = \"font-weight: bold; text-align: right;\">10</td><td style = \"text-align: left;\">Estepona</td><td style = \"text-align: right;\">0.0</td><td style = \"text-align: left;\">2020-07-29T10:00:00</td></tr><tr><td class = \"rowNumber\" style = \"font-weight: bold; text-align: right;\">11</td><td style = \"text-align: left;\">Estepona</td><td style = \"text-align: right;\">0.0</td><td style = \"text-align: left;\">2020-07-29T11:00:00</td></tr><tr><td class = \"rowNumber\" style = \"font-weight: bold; text-align: right;\">12</td><td style = \"text-align: left;\">Estepona</td><td style = \"text-align: right;\">0.0</td><td style = \"text-align: left;\">2020-07-29T12:00:00</td></tr><tr><td class = \"rowNumber\" style = \"font-weight: bold; text-align: right;\">13</td><td style = \"text-align: left;\">Estepona</td><td style = \"text-align: right;\">0.0</td><td style = \"text-align: left;\">2020-07-29T13:00:00</td></tr><tr><td style = \"text-align: right;\">&vellip;</td><td style = \"text-align: right;\">&vellip;</td><td style = \"text-align: right;\">&vellip;</td><td style = \"text-align: right;\">&vellip;</td></tr><tr><td class = \"rowNumber\" style = \"font-weight: bold; text-align: right;\">1120</td><td style = \"text-align: left;\">Estepona</td><td style = \"text-align: right;\">35.1</td><td style = \"text-align: left;\">2020-08-03T12:00:00</td></tr><tr><td class = \"rowNumber\" style = \"font-weight: bold; text-align: right;\">1121</td><td style = \"text-align: left;\">Estepona</td><td style = \"text-align: right;\">37.1</td><td style = \"text-align: left;\">2020-08-03T13:00:00</td></tr><tr><td class = \"rowNumber\" style = \"font-weight: bold; text-align: right;\">1122</td><td style = \"text-align: left;\">Estepona</td><td style = \"text-align: right;\">37.0</td><td style = \"text-align: left;\">2020-08-03T14:00:00</td></tr><tr><td class = \"rowNumber\" style = \"font-weight: bold; text-align: right;\">1123</td><td style = \"text-align: left;\">Estepona</td><td style = \"text-align: right;\">37.2</td><td style = \"text-align: left;\">2020-08-03T15:00:00</td></tr><tr><td class = \"rowNumber\" style = \"font-weight: bold; text-align: right;\">1124</td><td style = \"text-align: left;\">Estepona</td><td style = \"text-align: right;\">36.2</td><td style = \"text-align: left;\">2020-08-03T16:00:00</td></tr><tr><td class = \"rowNumber\" style = \"font-weight: bold; text-align: right;\">1125</td><td style = \"text-align: left;\">Estepona</td><td style = \"text-align: right;\">35.0</td><td style = \"text-align: left;\">2020-08-03T17:00:00</td></tr><tr><td class = \"rowNumber\" style = \"font-weight: bold; text-align: right;\">1126</td><td style = \"text-align: left;\">Estepona</td><td style = \"text-align: right;\">33.6</td><td style = \"text-align: left;\">2020-08-03T18:00:00</td></tr><tr><td class = \"rowNumber\" style = \"font-weight: bold; text-align: right;\">1127</td><td style = \"text-align: left;\">Estepona</td><td style = \"text-align: right;\">31.1</td><td style = \"text-align: left;\">2020-08-03T19:00:00</td></tr><tr><td class = \"rowNumber\" style = \"font-weight: bold; text-align: right;\">1128</td><td style = \"text-align: left;\">Estepona</td><td style = \"text-align: right;\">29.6</td><td style = \"text-align: left;\">2020-08-03T20:00:00</td></tr><tr><td class = \"rowNumber\" style = \"font-weight: bold; text-align: right;\">1129</td><td style = \"text-align: left;\">Estepona</td><td style = \"text-align: right;\">27.0</td><td style = \"text-align: left;\">2020-08-03T21:00:00</td></tr><tr><td class = \"rowNumber\" style = \"font-weight: bold; text-align: right;\">1130</td><td style = \"text-align: left;\">Estepona</td><td style = \"text-align: right;\">25.3</td><td style = \"text-align: left;\">2020-08-03T22:00:00</td></tr><tr><td class = \"rowNumber\" style = \"font-weight: bold; text-align: right;\">1131</td><td style = \"text-align: left;\">Estepona</td><td style = \"text-align: right;\">25.5</td><td style = \"text-align: left;\">2020-08-03T23:00:00</td></tr></tbody></table></div>"
      ],
      "text/latex": [
       "\\begin{tabular}{r|ccc}\n",
       "\t& name & value & ts\\\\\n",
       "\t\\hline\n",
       "\t& Station & Float64 & DateTime\\\\\n",
       "\t\\hline\n",
       "\t1 & Estepona & 0.0 & 2020-07-29T01:00:00 \\\\\n",
       "\t2 & Estepona & 0.0 & 2020-07-29T02:00:00 \\\\\n",
       "\t3 & Estepona & 0.0 & 2020-07-29T03:00:00 \\\\\n",
       "\t4 & Estepona & 0.0 & 2020-07-29T04:00:00 \\\\\n",
       "\t5 & Estepona & 0.0 & 2020-07-29T05:00:00 \\\\\n",
       "\t6 & Estepona & 0.0 & 2020-07-29T06:00:00 \\\\\n",
       "\t7 & Estepona & 0.0 & 2020-07-29T07:00:00 \\\\\n",
       "\t8 & Estepona & 0.0 & 2020-07-29T08:00:00 \\\\\n",
       "\t9 & Estepona & 0.0 & 2020-07-29T09:00:00 \\\\\n",
       "\t10 & Estepona & 0.0 & 2020-07-29T10:00:00 \\\\\n",
       "\t11 & Estepona & 0.0 & 2020-07-29T11:00:00 \\\\\n",
       "\t12 & Estepona & 0.0 & 2020-07-29T12:00:00 \\\\\n",
       "\t13 & Estepona & 0.0 & 2020-07-29T13:00:00 \\\\\n",
       "\t14 & Estepona & 0.0 & 2020-07-29T14:00:00 \\\\\n",
       "\t15 & Estepona & 0.0 & 2020-07-29T15:00:00 \\\\\n",
       "\t16 & Estepona & 0.0 & 2020-07-29T16:00:00 \\\\\n",
       "\t17 & Estepona & 0.0 & 2020-07-29T17:00:00 \\\\\n",
       "\t18 & Estepona & 0.0 & 2020-07-29T18:00:00 \\\\\n",
       "\t19 & Estepona & 0.0 & 2020-07-29T19:00:00 \\\\\n",
       "\t20 & Estepona & 0.0 & 2020-07-29T20:00:00 \\\\\n",
       "\t21 & Estepona & 0.0 & 2020-07-29T21:00:00 \\\\\n",
       "\t22 & Estepona & 0.0 & 2020-07-29T22:00:00 \\\\\n",
       "\t23 & Estepona & 0.0 & 2020-07-29T23:00:00 \\\\\n",
       "\t24 & Estepona & 0.0 & 2020-07-30T00:00:00 \\\\\n",
       "\t25 & Estepona & 0.0 & 2020-07-30T01:00:00 \\\\\n",
       "\t26 & Estepona & 0.0 & 2020-07-30T02:00:00 \\\\\n",
       "\t27 & Estepona & 0.0 & 2020-07-30T03:00:00 \\\\\n",
       "\t28 & Estepona & 0.0 & 2020-07-30T04:00:00 \\\\\n",
       "\t29 & Estepona & 0.0 & 2020-07-30T05:00:00 \\\\\n",
       "\t30 & Estepona & 0.0 & 2020-07-30T06:00:00 \\\\\n",
       "\t$\\dots$ & $\\dots$ & $\\dots$ & $\\dots$ \\\\\n",
       "\\end{tabular}\n"
      ],
      "text/plain": [
       "\u001b[1m1131×3 DataFrame\u001b[0m\n",
       "\u001b[1m  Row \u001b[0m│\u001b[1m name     \u001b[0m\u001b[1m value   \u001b[0m\u001b[1m ts                  \u001b[0m\n",
       "      │\u001b[90m Station  \u001b[0m\u001b[90m Float64 \u001b[0m\u001b[90m DateTime            \u001b[0m\n",
       "──────┼────────────────────────────────────────\n",
       "    1 │ Estepona      0.0  2020-07-29T01:00:00\n",
       "    2 │ Estepona      0.0  2020-07-29T02:00:00\n",
       "    3 │ Estepona      0.0  2020-07-29T03:00:00\n",
       "    4 │ Estepona      0.0  2020-07-29T04:00:00\n",
       "    5 │ Estepona      0.0  2020-07-29T05:00:00\n",
       "    6 │ Estepona      0.0  2020-07-29T06:00:00\n",
       "    7 │ Estepona      0.0  2020-07-29T07:00:00\n",
       "    8 │ Estepona      0.0  2020-07-29T08:00:00\n",
       "    9 │ Estepona      0.0  2020-07-29T09:00:00\n",
       "   10 │ Estepona      0.0  2020-07-29T10:00:00\n",
       "   11 │ Estepona      0.0  2020-07-29T11:00:00\n",
       "  ⋮   │    ⋮         ⋮              ⋮\n",
       " 1122 │ Estepona     37.0  2020-08-03T14:00:00\n",
       " 1123 │ Estepona     37.2  2020-08-03T15:00:00\n",
       " 1124 │ Estepona     36.2  2020-08-03T16:00:00\n",
       " 1125 │ Estepona     35.0  2020-08-03T17:00:00\n",
       " 1126 │ Estepona     33.6  2020-08-03T18:00:00\n",
       " 1127 │ Estepona     31.1  2020-08-03T19:00:00\n",
       " 1128 │ Estepona     29.6  2020-08-03T20:00:00\n",
       " 1129 │ Estepona     27.0  2020-08-03T21:00:00\n",
       " 1130 │ Estepona     25.3  2020-08-03T22:00:00\n",
       " 1131 │ Estepona     25.5  2020-08-03T23:00:00\n",
       "\u001b[36m                              1110 rows omitted\u001b[0m"
      ]
     },
     "execution_count": 20,
     "metadata": {},
     "output_type": "execute_result"
    }
   ],
   "source": [
    "@enum Station begin\n",
    "    RíoSanPedro\n",
    "    Montecoche\n",
    "    Grazalema\n",
    "    Estepona\n",
    "end\n",
    "\n",
    "\n",
    "function tryparse(::Type{Station}, s::String)\n",
    "    if s == \"ESTEPONA\"\n",
    "        Estepona::Station\n",
    "    elseif s == \"ES2 - La Teja - Montecoche\"\n",
    "        Montecoche::Station\n",
    "    else\n",
    "        nothing\n",
    "    end\n",
    "end\n",
    "\n",
    "\n",
    "\n",
    "data = CSV.File(\n",
    "    open(\"data/Estepona_2907_a_0308__2020.csv\");\n",
    "    normalizenames=true,\n",
    "    select=[:name, :value, :ts],\n",
    "    types=Dict(:name => Station, :ts => DateTime),\n",
    "    dateformat=\"yyyy-mm-dd HH:MM:SS.s\"\n",
    ") |> DataFrame\n"
   ]
  }
 ],
 "metadata": {
  "kernelspec": {
   "display_name": "Julia 1.8.5",
   "language": "julia",
   "name": "julia-1.8"
  },
  "language_info": {
   "file_extension": ".jl",
   "mimetype": "application/julia",
   "name": "julia",
   "version": "1.8.5"
  },
  "orig_nbformat": 4
 },
 "nbformat": 4,
 "nbformat_minor": 2
}
