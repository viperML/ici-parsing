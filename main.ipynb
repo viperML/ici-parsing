{
 "cells": [
  {
   "attachments": {},
   "cell_type": "markdown",
   "metadata": {},
   "source": [
    "![Alt text](data/Screenshot%202023-04-03%20100217.png)"
   ]
  },
  {
   "cell_type": "code",
   "execution_count": 19,
   "metadata": {},
   "outputs": [
    {
     "name": "stderr",
     "output_type": "stream",
     "text": [
      "\u001b[32m\u001b[1m   Resolving\u001b[22m\u001b[39m package versions...\n",
      "\u001b[32m\u001b[1m  No Changes\u001b[22m\u001b[39m to `~/.local/share/julia/environments/v1.8/Project.toml`\n",
      "\u001b[32m\u001b[1m  No Changes\u001b[22m\u001b[39m to `~/.local/share/julia/environments/v1.8/Manifest.toml`\n",
      "\u001b[32m\u001b[1m   Resolving\u001b[22m\u001b[39m package versions...\n",
      "\u001b[32m\u001b[1m  No Changes\u001b[22m\u001b[39m to `~/.local/share/julia/environments/v1.8/Project.toml`\n",
      "\u001b[32m\u001b[1m  No Changes\u001b[22m\u001b[39m to `~/.local/share/julia/environments/v1.8/Manifest.toml`\n"
     ]
    }
   ],
   "source": [
    "using Pkg\n",
    "\n",
    "Pkg.add(\"CSV\")\n",
    "using CSV\n",
    "\n",
    "Pkg.add(\"DataFrames\")\n",
    "using DataFrames\n",
    "\n",
    "import Base: tryparse\n",
    "import Dates: DateTime"
   ]
  },
  {
   "cell_type": "code",
   "execution_count": 20,
   "metadata": {},
   "outputs": [
    {
     "data": {
      "text/html": [
       "<div><div style = \"float: left;\"><span>1131×3 DataFrame</span></div><div style = \"float: right;\"><span style = \"font-style: italic;\">1106 rows omitted</span></div><div style = \"clear: both;\"></div></div><div class = \"data-frame\" style = \"overflow-x: scroll;\"><table class = \"data-frame\" style = \"margin-bottom: 6px;\"><thead><tr class = \"header\"><th class = \"rowNumber\" style = \"font-weight: bold; text-align: right;\">Row</th><th style = \"text-align: left;\">name</th><th style = \"text-align: left;\">value</th><th style = \"text-align: left;\">ts</th></tr><tr class = \"subheader headerLastRow\"><th class = \"rowNumber\" style = \"font-weight: bold; text-align: right;\"></th><th title = \"Station\" style = \"text-align: left;\">Station</th><th title = \"Float64\" style = \"text-align: left;\">Float64</th><th title = \"DateTime\" style = \"text-align: left;\">DateTime</th></tr></thead><tbody><tr><td class = \"rowNumber\" style = \"font-weight: bold; text-align: right;\">1</td><td style = \"text-align: left;\">Estepona</td><td style = \"text-align: right;\">0.0</td><td style = \"text-align: left;\">2020-07-29T01:00:00</td></tr><tr><td class = \"rowNumber\" style = \"font-weight: bold; text-align: right;\">2</td><td style = \"text-align: left;\">Estepona</td><td style = \"text-align: right;\">0.0</td><td style = \"text-align: left;\">2020-07-29T02:00:00</td></tr><tr><td class = \"rowNumber\" style = \"font-weight: bold; text-align: right;\">3</td><td style = \"text-align: left;\">Estepona</td><td style = \"text-align: right;\">0.0</td><td style = \"text-align: left;\">2020-07-29T03:00:00</td></tr><tr><td class = \"rowNumber\" style = \"font-weight: bold; text-align: right;\">4</td><td style = \"text-align: left;\">Estepona</td><td style = \"text-align: right;\">0.0</td><td style = \"text-align: left;\">2020-07-29T04:00:00</td></tr><tr><td class = \"rowNumber\" style = \"font-weight: bold; text-align: right;\">5</td><td style = \"text-align: left;\">Estepona</td><td style = \"text-align: right;\">0.0</td><td style = \"text-align: left;\">2020-07-29T05:00:00</td></tr><tr><td class = \"rowNumber\" style = \"font-weight: bold; text-align: right;\">6</td><td style = \"text-align: left;\">Estepona</td><td style = \"text-align: right;\">0.0</td><td style = \"text-align: left;\">2020-07-29T06:00:00</td></tr><tr><td class = \"rowNumber\" style = \"font-weight: bold; text-align: right;\">7</td><td style = \"text-align: left;\">Estepona</td><td style = \"text-align: right;\">0.0</td><td style = \"text-align: left;\">2020-07-29T07:00:00</td></tr><tr><td class = \"rowNumber\" style = \"font-weight: bold; text-align: right;\">8</td><td style = \"text-align: left;\">Estepona</td><td style = \"text-align: right;\">0.0</td><td style = \"text-align: left;\">2020-07-29T08:00:00</td></tr><tr><td class = \"rowNumber\" style = \"font-weight: bold; text-align: right;\">9</td><td style = \"text-align: left;\">Estepona</td><td style = \"text-align: right;\">0.0</td><td style = \"text-align: left;\">2020-07-29T09:00:00</td></tr><tr><td class = \"rowNumber\" style = \"font-weight: bold; text-align: right;\">10</td><td style = \"text-align: left;\">Estepona</td><td style = \"text-align: right;\">0.0</td><td style = \"text-align: left;\">2020-07-29T10:00:00</td></tr><tr><td class = \"rowNumber\" style = \"font-weight: bold; text-align: right;\">11</td><td style = \"text-align: left;\">Estepona</td><td style = \"text-align: right;\">0.0</td><td style = \"text-align: left;\">2020-07-29T11:00:00</td></tr><tr><td class = \"rowNumber\" style = \"font-weight: bold; text-align: right;\">12</td><td style = \"text-align: left;\">Estepona</td><td style = \"text-align: right;\">0.0</td><td style = \"text-align: left;\">2020-07-29T12:00:00</td></tr><tr><td class = \"rowNumber\" style = \"font-weight: bold; text-align: right;\">13</td><td style = \"text-align: left;\">Estepona</td><td style = \"text-align: right;\">0.0</td><td style = \"text-align: left;\">2020-07-29T13:00:00</td></tr><tr><td style = \"text-align: right;\">&vellip;</td><td style = \"text-align: right;\">&vellip;</td><td style = \"text-align: right;\">&vellip;</td><td style = \"text-align: right;\">&vellip;</td></tr><tr><td class = \"rowNumber\" style = \"font-weight: bold; text-align: right;\">1120</td><td style = \"text-align: left;\">Estepona</td><td style = \"text-align: right;\">35.1</td><td style = \"text-align: left;\">2020-08-03T12:00:00</td></tr><tr><td class = \"rowNumber\" style = \"font-weight: bold; text-align: right;\">1121</td><td style = \"text-align: left;\">Estepona</td><td style = \"text-align: right;\">37.1</td><td style = \"text-align: left;\">2020-08-03T13:00:00</td></tr><tr><td class = \"rowNumber\" style = \"font-weight: bold; text-align: right;\">1122</td><td style = \"text-align: left;\">Estepona</td><td style = \"text-align: right;\">37.0</td><td style = \"text-align: left;\">2020-08-03T14:00:00</td></tr><tr><td class = \"rowNumber\" style = \"font-weight: bold; text-align: right;\">1123</td><td style = \"text-align: left;\">Estepona</td><td style = \"text-align: right;\">37.2</td><td style = \"text-align: left;\">2020-08-03T15:00:00</td></tr><tr><td class = \"rowNumber\" style = \"font-weight: bold; text-align: right;\">1124</td><td style = \"text-align: left;\">Estepona</td><td style = \"text-align: right;\">36.2</td><td style = \"text-align: left;\">2020-08-03T16:00:00</td></tr><tr><td class = \"rowNumber\" style = \"font-weight: bold; text-align: right;\">1125</td><td style = \"text-align: left;\">Estepona</td><td style = \"text-align: right;\">35.0</td><td style = \"text-align: left;\">2020-08-03T17:00:00</td></tr><tr><td class = \"rowNumber\" style = \"font-weight: bold; text-align: right;\">1126</td><td style = \"text-align: left;\">Estepona</td><td style = \"text-align: right;\">33.6</td><td style = \"text-align: left;\">2020-08-03T18:00:00</td></tr><tr><td class = \"rowNumber\" style = \"font-weight: bold; text-align: right;\">1127</td><td style = \"text-align: left;\">Estepona</td><td style = \"text-align: right;\">31.1</td><td style = \"text-align: left;\">2020-08-03T19:00:00</td></tr><tr><td class = \"rowNumber\" style = \"font-weight: bold; text-align: right;\">1128</td><td style = \"text-align: left;\">Estepona</td><td style = \"text-align: right;\">29.6</td><td style = \"text-align: left;\">2020-08-03T20:00:00</td></tr><tr><td class = \"rowNumber\" style = \"font-weight: bold; text-align: right;\">1129</td><td style = \"text-align: left;\">Estepona</td><td style = \"text-align: right;\">27.0</td><td style = \"text-align: left;\">2020-08-03T21:00:00</td></tr><tr><td class = \"rowNumber\" style = \"font-weight: bold; text-align: right;\">1130</td><td style = \"text-align: left;\">Estepona</td><td style = \"text-align: right;\">25.3</td><td style = \"text-align: left;\">2020-08-03T22:00:00</td></tr><tr><td class = \"rowNumber\" style = \"font-weight: bold; text-align: right;\">1131</td><td style = \"text-align: left;\">Estepona</td><td style = \"text-align: right;\">25.5</td><td style = \"text-align: left;\">2020-08-03T23:00:00</td></tr></tbody></table></div>"
      ],
      "text/latex": [
       "\\begin{tabular}{r|ccc}\n",
       "\t& name & value & ts\\\\\n",
       "\t\\hline\n",
       "\t& Station & Float64 & DateTime\\\\\n",
       "\t\\hline\n",
       "\t1 & Estepona & 0.0 & 2020-07-29T01:00:00 \\\\\n",
       "\t2 & Estepona & 0.0 & 2020-07-29T02:00:00 \\\\\n",
       "\t3 & Estepona & 0.0 & 2020-07-29T03:00:00 \\\\\n",
       "\t4 & Estepona & 0.0 & 2020-07-29T04:00:00 \\\\\n",
       "\t5 & Estepona & 0.0 & 2020-07-29T05:00:00 \\\\\n",
       "\t6 & Estepona & 0.0 & 2020-07-29T06:00:00 \\\\\n",
       "\t7 & Estepona & 0.0 & 2020-07-29T07:00:00 \\\\\n",
       "\t8 & Estepona & 0.0 & 2020-07-29T08:00:00 \\\\\n",
       "\t9 & Estepona & 0.0 & 2020-07-29T09:00:00 \\\\\n",
       "\t10 & Estepona & 0.0 & 2020-07-29T10:00:00 \\\\\n",
       "\t11 & Estepona & 0.0 & 2020-07-29T11:00:00 \\\\\n",
       "\t12 & Estepona & 0.0 & 2020-07-29T12:00:00 \\\\\n",
       "\t13 & Estepona & 0.0 & 2020-07-29T13:00:00 \\\\\n",
       "\t14 & Estepona & 0.0 & 2020-07-29T14:00:00 \\\\\n",
       "\t15 & Estepona & 0.0 & 2020-07-29T15:00:00 \\\\\n",
       "\t16 & Estepona & 0.0 & 2020-07-29T16:00:00 \\\\\n",
       "\t17 & Estepona & 0.0 & 2020-07-29T17:00:00 \\\\\n",
       "\t18 & Estepona & 0.0 & 2020-07-29T18:00:00 \\\\\n",
       "\t19 & Estepona & 0.0 & 2020-07-29T19:00:00 \\\\\n",
       "\t20 & Estepona & 0.0 & 2020-07-29T20:00:00 \\\\\n",
       "\t21 & Estepona & 0.0 & 2020-07-29T21:00:00 \\\\\n",
       "\t22 & Estepona & 0.0 & 2020-07-29T22:00:00 \\\\\n",
       "\t23 & Estepona & 0.0 & 2020-07-29T23:00:00 \\\\\n",
       "\t24 & Estepona & 0.0 & 2020-07-30T00:00:00 \\\\\n",
       "\t25 & Estepona & 0.0 & 2020-07-30T01:00:00 \\\\\n",
       "\t26 & Estepona & 0.0 & 2020-07-30T02:00:00 \\\\\n",
       "\t27 & Estepona & 0.0 & 2020-07-30T03:00:00 \\\\\n",
       "\t28 & Estepona & 0.0 & 2020-07-30T04:00:00 \\\\\n",
       "\t29 & Estepona & 0.0 & 2020-07-30T05:00:00 \\\\\n",
       "\t30 & Estepona & 0.0 & 2020-07-30T06:00:00 \\\\\n",
       "\t$\\dots$ & $\\dots$ & $\\dots$ & $\\dots$ \\\\\n",
       "\\end{tabular}\n"
      ],
      "text/plain": [
       "\u001b[1m1131×3 DataFrame\u001b[0m\n",
       "\u001b[1m  Row \u001b[0m│\u001b[1m name     \u001b[0m\u001b[1m value   \u001b[0m\u001b[1m ts                  \u001b[0m\n",
       "      │\u001b[90m Station  \u001b[0m\u001b[90m Float64 \u001b[0m\u001b[90m DateTime            \u001b[0m\n",
       "──────┼────────────────────────────────────────\n",
       "    1 │ Estepona      0.0  2020-07-29T01:00:00\n",
       "    2 │ Estepona      0.0  2020-07-29T02:00:00\n",
       "    3 │ Estepona      0.0  2020-07-29T03:00:00\n",
       "    4 │ Estepona      0.0  2020-07-29T04:00:00\n",
       "    5 │ Estepona      0.0  2020-07-29T05:00:00\n",
       "    6 │ Estepona      0.0  2020-07-29T06:00:00\n",
       "    7 │ Estepona      0.0  2020-07-29T07:00:00\n",
       "    8 │ Estepona      0.0  2020-07-29T08:00:00\n",
       "    9 │ Estepona      0.0  2020-07-29T09:00:00\n",
       "   10 │ Estepona      0.0  2020-07-29T10:00:00\n",
       "   11 │ Estepona      0.0  2020-07-29T11:00:00\n",
       "  ⋮   │    ⋮         ⋮              ⋮\n",
       " 1122 │ Estepona     37.0  2020-08-03T14:00:00\n",
       " 1123 │ Estepona     37.2  2020-08-03T15:00:00\n",
       " 1124 │ Estepona     36.2  2020-08-03T16:00:00\n",
       " 1125 │ Estepona     35.0  2020-08-03T17:00:00\n",
       " 1126 │ Estepona     33.6  2020-08-03T18:00:00\n",
       " 1127 │ Estepona     31.1  2020-08-03T19:00:00\n",
       " 1128 │ Estepona     29.6  2020-08-03T20:00:00\n",
       " 1129 │ Estepona     27.0  2020-08-03T21:00:00\n",
       " 1130 │ Estepona     25.3  2020-08-03T22:00:00\n",
       " 1131 │ Estepona     25.5  2020-08-03T23:00:00\n",
       "\u001b[36m                              1110 rows omitted\u001b[0m"
      ]
     },
     "execution_count": 20,
     "metadata": {},
     "output_type": "execute_result"
    }
   ],
   "source": [
    "@enum Station begin\n",
    "    RíoSanPedro\n",
    "    Montecoche\n",
    "    Grazalema\n",
    "    Estepona\n",
    "end\n",
    "\n",
    "\n",
    "function tryparse(::Type{Station}, s::String)\n",
    "    if s == \"ESTEPONA\"\n",
    "        Estepona::Station\n",
    "    elseif s == \"ES2 - La Teja - Montecoche\"\n",
    "        Montecoche::Station\n",
    "    else\n",
    "        nothing\n",
    "    end\n",
    "end\n",
    "\n",
    "\n",
    "\n",
    "data = CSV.File(\n",
    "    open(\"data/Estepona_2907_a_0308__2020.csv\");\n",
    "    normalizenames=true,\n",
    "    select=[:name, :value, :ts],\n",
    "    types=Dict(:name => Station, :ts => DateTime),\n",
    "    dateformat=\"yyyy-mm-dd HH:MM:SS.s\"\n",
    ") |> DataFrame\n"
   ]
  },
  {
   "cell_type": "code",
   "execution_count": 21,
   "metadata": {},
   "outputs": [
    {
     "name": "stderr",
     "output_type": "stream",
     "text": [
      "\u001b[32m\u001b[1m   Resolving\u001b[22m\u001b[39m package versions...\n",
      "\u001b[32m\u001b[1m  No Changes\u001b[22m\u001b[39m to `~/.local/share/julia/environments/v1.8/Project.toml`\n",
      "\u001b[32m\u001b[1m  No Changes\u001b[22m\u001b[39m to `~/.local/share/julia/environments/v1.8/Manifest.toml`\n"
     ]
    }
   ],
   "source": [
    "Pkg.add(\"VegaLite\")\n",
    "using VegaLite"
   ]
  },
  {
   "cell_type": "code",
   "execution_count": 22,
   "metadata": {},
   "outputs": [
    {
     "data": {
      "application/vnd.vegalite.v4+json": {
       "data": {
        "values": [
         {
          "ts": "2020-07-29T01:00:00",
          "value": 0
         },
         {
          "ts": "2020-07-29T02:00:00",
          "value": 0
         },
         {
          "ts": "2020-07-29T03:00:00",
          "value": 0
         },
         {
          "ts": "2020-07-29T04:00:00",
          "value": 0
         },
         {
          "ts": "2020-07-29T05:00:00",
          "value": 0
         },
         {
          "ts": "2020-07-29T06:00:00",
          "value": 0
         },
         {
          "ts": "2020-07-29T07:00:00",
          "value": 0
         },
         {
          "ts": "2020-07-29T08:00:00",
          "value": 0
         },
         {
          "ts": "2020-07-29T09:00:00",
          "value": 0
         },
         {
          "ts": "2020-07-29T10:00:00",
          "value": 0
         },
         {
          "ts": "2020-07-29T11:00:00",
          "value": 0
         },
         {
          "ts": "2020-07-29T12:00:00",
          "value": 0
         },
         {
          "ts": "2020-07-29T13:00:00",
          "value": 0
         },
         {
          "ts": "2020-07-29T14:00:00",
          "value": 0
         },
         {
          "ts": "2020-07-29T15:00:00",
          "value": 0
         },
         {
          "ts": "2020-07-29T16:00:00",
          "value": 0
         },
         {
          "ts": "2020-07-29T17:00:00",
          "value": 0
         },
         {
          "ts": "2020-07-29T18:00:00",
          "value": 0
         },
         {
          "ts": "2020-07-29T19:00:00",
          "value": 0
         },
         {
          "ts": "2020-07-29T20:00:00",
          "value": 0
         },
         {
          "ts": "2020-07-29T21:00:00",
          "value": 0
         },
         {
          "ts": "2020-07-29T22:00:00",
          "value": 0
         },
         {
          "ts": "2020-07-29T23:00:00",
          "value": 0
         },
         {
          "ts": "2020-07-30T00:00:00",
          "value": 0
         },
         {
          "ts": "2020-07-30T01:00:00",
          "value": 0
         },
         {
          "ts": "2020-07-30T02:00:00",
          "value": 0
         },
         {
          "ts": "2020-07-30T03:00:00",
          "value": 0
         },
         {
          "ts": "2020-07-30T04:00:00",
          "value": 0
         },
         {
          "ts": "2020-07-30T05:00:00",
          "value": 0
         },
         {
          "ts": "2020-07-30T06:00:00",
          "value": 0
         },
         {
          "ts": "2020-07-30T07:00:00",
          "value": 0
         },
         {
          "ts": "2020-07-30T08:00:00",
          "value": 0
         },
         {
          "ts": "2020-07-30T09:00:00",
          "value": 0
         },
         {
          "ts": "2020-07-30T10:00:00",
          "value": 0
         },
         {
          "ts": "2020-07-30T11:00:00",
          "value": 0
         },
         {
          "ts": "2020-07-30T12:00:00",
          "value": 0
         },
         {
          "ts": "2020-07-30T13:00:00",
          "value": 0
         },
         {
          "ts": "2020-07-30T14:00:00",
          "value": 0
         },
         {
          "ts": "2020-07-30T15:00:00",
          "value": 0
         },
         {
          "ts": "2020-07-30T16:00:00",
          "value": 0
         },
         {
          "ts": "2020-07-30T17:00:00",
          "value": 0
         },
         {
          "ts": "2020-07-30T18:00:00",
          "value": 0
         },
         {
          "ts": "2020-07-30T19:00:00",
          "value": 0
         },
         {
          "ts": "2020-07-30T20:00:00",
          "value": 0
         },
         {
          "ts": "2020-07-30T21:00:00",
          "value": 0
         },
         {
          "ts": "2020-07-30T22:00:00",
          "value": 0
         },
         {
          "ts": "2020-07-30T23:00:00",
          "value": 0
         },
         {
          "ts": "2020-07-31T00:00:00",
          "value": 0
         },
         {
          "ts": "2020-07-31T01:00:00",
          "value": 0
         },
         {
          "ts": "2020-07-31T02:00:00",
          "value": 0
         },
         {
          "ts": "2020-07-31T03:00:00",
          "value": 0
         },
         {
          "ts": "2020-07-31T04:00:00",
          "value": 0
         },
         {
          "ts": "2020-07-31T05:00:00",
          "value": 0
         },
         {
          "ts": "2020-07-31T06:00:00",
          "value": 0
         },
         {
          "ts": "2020-07-31T07:00:00",
          "value": 0
         },
         {
          "ts": "2020-07-31T08:00:00",
          "value": 0
         },
         {
          "ts": "2020-07-31T09:00:00",
          "value": 0
         },
         {
          "ts": "2020-07-31T10:00:00",
          "value": 0
         },
         {
          "ts": "2020-07-31T11:00:00",
          "value": 0
         },
         {
          "ts": "2020-07-31T12:00:00",
          "value": 0
         },
         {
          "ts": "2020-07-31T13:00:00",
          "value": 0
         },
         {
          "ts": "2020-07-31T14:00:00",
          "value": 0
         },
         {
          "ts": "2020-07-31T15:00:00",
          "value": 0
         },
         {
          "ts": "2020-07-31T16:00:00",
          "value": 0
         },
         {
          "ts": "2020-07-31T17:00:00",
          "value": 0
         },
         {
          "ts": "2020-07-31T18:00:00",
          "value": 0
         },
         {
          "ts": "2020-07-31T19:00:00",
          "value": 0
         },
         {
          "ts": "2020-07-31T20:00:00",
          "value": 0
         },
         {
          "ts": "2020-07-31T21:00:00",
          "value": 0
         },
         {
          "ts": "2020-07-31T22:00:00",
          "value": 0
         },
         {
          "ts": "2020-07-31T23:00:00",
          "value": 0
         },
         {
          "ts": "2020-08-01T00:00:00",
          "value": 0
         },
         {
          "ts": "2020-08-01T01:00:00",
          "value": 0
         },
         {
          "ts": "2020-08-01T02:00:00",
          "value": 0
         },
         {
          "ts": "2020-08-01T03:00:00",
          "value": 0
         },
         {
          "ts": "2020-08-01T04:00:00",
          "value": 0
         },
         {
          "ts": "2020-08-01T05:00:00",
          "value": 0
         },
         {
          "ts": "2020-08-01T06:00:00",
          "value": 0
         },
         {
          "ts": "2020-08-01T07:00:00",
          "value": 0
         },
         {
          "ts": "2020-08-01T08:00:00",
          "value": 0
         },
         {
          "ts": "2020-08-01T09:00:00",
          "value": 0
         },
         {
          "ts": "2020-08-01T10:00:00",
          "value": 0
         },
         {
          "ts": "2020-08-01T11:00:00",
          "value": 0
         },
         {
          "ts": "2020-08-01T12:00:00",
          "value": 0
         },
         {
          "ts": "2020-08-01T13:00:00",
          "value": 0
         },
         {
          "ts": "2020-08-01T14:00:00",
          "value": 0
         },
         {
          "ts": "2020-08-01T15:00:00",
          "value": 0
         },
         {
          "ts": "2020-08-01T16:00:00",
          "value": 0
         },
         {
          "ts": "2020-08-01T17:00:00",
          "value": 0
         },
         {
          "ts": "2020-08-01T18:00:00",
          "value": 0
         },
         {
          "ts": "2020-08-01T19:00:00",
          "value": 0
         },
         {
          "ts": "2020-08-01T20:00:00",
          "value": 0
         },
         {
          "ts": "2020-08-01T21:00:00",
          "value": 0
         },
         {
          "ts": "2020-08-01T22:00:00",
          "value": 0
         },
         {
          "ts": "2020-08-01T23:00:00",
          "value": 0
         },
         {
          "ts": "2020-08-02T00:00:00",
          "value": 0
         },
         {
          "ts": "2020-08-02T01:00:00",
          "value": 0
         },
         {
          "ts": "2020-08-02T02:00:00",
          "value": 0
         },
         {
          "ts": "2020-08-02T03:00:00",
          "value": 0
         },
         {
          "ts": "2020-08-02T04:00:00",
          "value": 0
         },
         {
          "ts": "2020-08-02T05:00:00",
          "value": 0
         },
         {
          "ts": "2020-08-02T06:00:00",
          "value": 0
         },
         {
          "ts": "2020-08-02T07:00:00",
          "value": 0
         },
         {
          "ts": "2020-08-02T08:00:00",
          "value": 0
         },
         {
          "ts": "2020-08-02T09:00:00",
          "value": 0
         },
         {
          "ts": "2020-08-02T10:00:00",
          "value": 0
         },
         {
          "ts": "2020-08-02T11:00:00",
          "value": 0
         },
         {
          "ts": "2020-08-02T12:00:00",
          "value": 0
         },
         {
          "ts": "2020-08-02T13:00:00",
          "value": 0
         },
         {
          "ts": "2020-08-02T14:00:00",
          "value": 0
         },
         {
          "ts": "2020-08-02T15:00:00",
          "value": 0
         },
         {
          "ts": "2020-08-02T16:00:00",
          "value": 0
         },
         {
          "ts": "2020-08-02T17:00:00",
          "value": 0
         },
         {
          "ts": "2020-08-02T18:00:00",
          "value": 0
         },
         {
          "ts": "2020-08-02T19:00:00",
          "value": 0
         },
         {
          "ts": "2020-08-02T20:00:00",
          "value": 0
         },
         {
          "ts": "2020-08-02T21:00:00",
          "value": 0
         },
         {
          "ts": "2020-08-02T22:00:00",
          "value": 0
         },
         {
          "ts": "2020-08-02T23:00:00",
          "value": 0
         },
         {
          "ts": "2020-08-03T00:00:00",
          "value": 0
         },
         {
          "ts": "2020-08-03T01:00:00",
          "value": 0
         },
         {
          "ts": "2020-08-03T02:00:00",
          "value": 0
         },
         {
          "ts": "2020-08-03T03:00:00",
          "value": 0
         },
         {
          "ts": "2020-08-03T04:00:00",
          "value": 0
         },
         {
          "ts": "2020-08-03T05:00:00",
          "value": 0
         },
         {
          "ts": "2020-08-03T06:00:00",
          "value": 0
         },
         {
          "ts": "2020-08-03T07:00:00",
          "value": 0
         },
         {
          "ts": "2020-08-03T08:00:00",
          "value": 0
         },
         {
          "ts": "2020-08-03T09:00:00",
          "value": 0
         },
         {
          "ts": "2020-08-03T10:00:00",
          "value": 0
         },
         {
          "ts": "2020-08-03T11:00:00",
          "value": 0
         },
         {
          "ts": "2020-08-03T12:00:00",
          "value": 0
         },
         {
          "ts": "2020-08-03T13:00:00",
          "value": 0
         },
         {
          "ts": "2020-08-03T14:00:00",
          "value": 0
         },
         {
          "ts": "2020-08-03T15:00:00",
          "value": 0
         },
         {
          "ts": "2020-08-03T16:00:00",
          "value": 0
         },
         {
          "ts": "2020-08-03T17:00:00",
          "value": 0
         },
         {
          "ts": "2020-08-03T18:00:00",
          "value": 0
         },
         {
          "ts": "2020-08-03T19:00:00",
          "value": 0
         },
         {
          "ts": "2020-08-03T20:00:00",
          "value": 0
         },
         {
          "ts": "2020-08-03T21:00:00",
          "value": 0
         },
         {
          "ts": "2020-08-03T22:00:00",
          "value": 0
         },
         {
          "ts": "2020-08-03T23:00:00",
          "value": 0
         },
         {
          "ts": "2020-07-29T01:00:00",
          "value": 1.1
         },
         {
          "ts": "2020-07-29T02:00:00",
          "value": 0.6
         },
         {
          "ts": "2020-07-29T03:00:00",
          "value": 0.7
         },
         {
          "ts": "2020-07-29T04:00:00",
          "value": 0.8
         },
         {
          "ts": "2020-07-29T05:00:00",
          "value": 0.3
         },
         {
          "ts": "2020-07-29T06:00:00",
          "value": 0.9
         },
         {
          "ts": "2020-07-29T07:00:00",
          "value": 1.8
         },
         {
          "ts": "2020-07-29T08:00:00",
          "value": 2.7
         },
         {
          "ts": "2020-07-29T09:00:00",
          "value": 4.7
         },
         {
          "ts": "2020-07-29T10:00:00",
          "value": 3.8
         },
         {
          "ts": "2020-07-29T11:00:00",
          "value": 2.3
         },
         {
          "ts": "2020-07-29T12:00:00",
          "value": 3.3
         },
         {
          "ts": "2020-07-29T13:00:00",
          "value": 2.9
         },
         {
          "ts": "2020-07-29T14:00:00",
          "value": 3.2
         },
         {
          "ts": "2020-07-29T15:00:00",
          "value": 3.1
         },
         {
          "ts": "2020-07-29T16:00:00",
          "value": 2.9
         },
         {
          "ts": "2020-07-29T17:00:00",
          "value": 2.9
         },
         {
          "ts": "2020-07-29T18:00:00",
          "value": 2.3
         },
         {
          "ts": "2020-07-29T19:00:00",
          "value": 2.5
         },
         {
          "ts": "2020-07-29T20:00:00",
          "value": 3.2
         },
         {
          "ts": "2020-07-29T21:00:00",
          "value": 2.5
         },
         {
          "ts": "2020-07-29T22:00:00",
          "value": 2.5
         },
         {
          "ts": "2020-07-29T23:00:00",
          "value": 2.8
         },
         {
          "ts": "2020-07-30T00:00:00",
          "value": 2.5
         },
         {
          "ts": "2020-07-30T01:00:00",
          "value": 2.1
         },
         {
          "ts": "2020-07-30T02:00:00",
          "value": 2.5
         },
         {
          "ts": "2020-07-30T03:00:00",
          "value": 2.1
         },
         {
          "ts": "2020-07-30T04:00:00",
          "value": 2.2
         },
         {
          "ts": "2020-07-30T05:00:00",
          "value": 2.2
         },
         {
          "ts": "2020-07-30T06:00:00",
          "value": 2.6
         },
         {
          "ts": "2020-07-30T07:00:00",
          "value": 3.3
         },
         {
          "ts": "2020-07-30T08:00:00",
          "value": 5.5
         },
         {
          "ts": "2020-07-30T09:00:00",
          "value": 4.9
         },
         {
          "ts": "2020-07-30T10:00:00",
          "value": 5.5
         },
         {
          "ts": "2020-07-30T11:00:00",
          "value": 4.6
         },
         {
          "ts": "2020-07-30T12:00:00",
          "value": 4.3
         },
         {
          "ts": "2020-07-30T13:00:00",
          "value": 4.6
         },
         {
          "ts": "2020-07-30T14:00:00",
          "value": 5
         },
         {
          "ts": "2020-07-30T15:00:00",
          "value": 4.1
         },
         {
          "ts": "2020-07-30T16:00:00",
          "value": 4
         },
         {
          "ts": "2020-07-30T17:00:00",
          "value": 3.4
         },
         {
          "ts": "2020-07-30T18:00:00",
          "value": 3.3
         },
         {
          "ts": "2020-07-30T19:00:00",
          "value": 3.2
         },
         {
          "ts": "2020-07-30T20:00:00",
          "value": 2.9
         },
         {
          "ts": "2020-07-30T21:00:00",
          "value": 2.8
         },
         {
          "ts": "2020-07-30T22:00:00",
          "value": 1.8
         },
         {
          "ts": "2020-07-30T23:00:00",
          "value": 2.5
         },
         {
          "ts": "2020-07-31T00:00:00",
          "value": 1.3
         },
         {
          "ts": "2020-07-31T01:00:00",
          "value": 0.7
         },
         {
          "ts": "2020-07-31T02:00:00",
          "value": 0.5
         },
         {
          "ts": "2020-07-31T03:00:00",
          "value": 0.9
         },
         {
          "ts": "2020-07-31T04:00:00",
          "value": 0.7
         },
         {
          "ts": "2020-07-31T05:00:00",
          "value": 0.6
         },
         {
          "ts": "2020-07-31T06:00:00",
          "value": 0.4
         },
         {
          "ts": "2020-07-31T07:00:00",
          "value": 0.5
         },
         {
          "ts": "2020-07-31T08:00:00",
          "value": 0.9
         },
         {
          "ts": "2020-07-31T09:00:00",
          "value": 1.2
         },
         {
          "ts": "2020-07-31T10:00:00",
          "value": 1.6
         },
         {
          "ts": "2020-07-31T11:00:00",
          "value": 1.3
         },
         {
          "ts": "2020-07-31T12:00:00",
          "value": 1.7
         },
         {
          "ts": "2020-07-31T13:00:00",
          "value": 1.2
         },
         {
          "ts": "2020-07-31T14:00:00",
          "value": 1.4
         },
         {
          "ts": "2020-07-31T15:00:00",
          "value": 1.2
         },
         {
          "ts": "2020-07-31T16:00:00",
          "value": 1
         },
         {
          "ts": "2020-07-31T17:00:00",
          "value": 1.9
         },
         {
          "ts": "2020-07-31T18:00:00",
          "value": 1.3
         },
         {
          "ts": "2020-07-31T19:00:00",
          "value": 1.6
         },
         {
          "ts": "2020-07-31T20:00:00",
          "value": 0.9
         },
         {
          "ts": "2020-07-31T21:00:00",
          "value": 0.7
         },
         {
          "ts": "2020-07-31T22:00:00",
          "value": 1.5
         },
         {
          "ts": "2020-07-31T23:00:00",
          "value": 1.2
         },
         {
          "ts": "2020-08-01T00:00:00",
          "value": 1.6
         },
         {
          "ts": "2020-08-01T01:00:00",
          "value": 1
         },
         {
          "ts": "2020-08-01T02:00:00",
          "value": 1.7
         },
         {
          "ts": "2020-08-01T03:00:00",
          "value": 1.5
         },
         {
          "ts": "2020-08-01T04:00:00",
          "value": 1
         },
         {
          "ts": "2020-08-01T05:00:00",
          "value": 0.6
         },
         {
          "ts": "2020-08-01T06:00:00",
          "value": 1.9
         },
         {
          "ts": "2020-08-01T07:00:00",
          "value": 0.5
         },
         {
          "ts": "2020-08-01T08:00:00",
          "value": 1
         },
         {
          "ts": "2020-08-01T09:00:00",
          "value": 2.3
         },
         {
          "ts": "2020-08-01T10:00:00",
          "value": 2.2
         },
         {
          "ts": "2020-08-01T11:00:00",
          "value": 1.8
         },
         {
          "ts": "2020-08-01T12:00:00",
          "value": 2.6
         },
         {
          "ts": "2020-08-01T13:00:00",
          "value": 2.2
         },
         {
          "ts": "2020-08-01T14:00:00",
          "value": 2.3
         },
         {
          "ts": "2020-08-01T15:00:00",
          "value": 2
         },
         {
          "ts": "2020-08-01T16:00:00",
          "value": 2.2
         },
         {
          "ts": "2020-08-01T17:00:00",
          "value": 2.8
         },
         {
          "ts": "2020-08-01T18:00:00",
          "value": 2.1
         },
         {
          "ts": "2020-08-01T19:00:00",
          "value": 1.2
         },
         {
          "ts": "2020-08-01T20:00:00",
          "value": 0.8
         },
         {
          "ts": "2020-08-01T21:00:00",
          "value": 0.7
         },
         {
          "ts": "2020-08-01T22:00:00",
          "value": 0.8
         },
         {
          "ts": "2020-08-01T23:00:00",
          "value": 1
         },
         {
          "ts": "2020-08-02T00:00:00",
          "value": 1.4
         },
         {
          "ts": "2020-08-02T01:00:00",
          "value": 1.7
         },
         {
          "ts": "2020-08-02T02:00:00",
          "value": 1.8
         },
         {
          "ts": "2020-08-02T03:00:00",
          "value": 1.5
         },
         {
          "ts": "2020-08-02T04:00:00",
          "value": 1.1
         },
         {
          "ts": "2020-08-02T05:00:00",
          "value": 0.9
         },
         {
          "ts": "2020-08-02T06:00:00",
          "value": 1.3
         },
         {
          "ts": "2020-08-02T07:00:00",
          "value": 0.8
         },
         {
          "ts": "2020-08-02T08:00:00",
          "value": 1.1
         },
         {
          "ts": "2020-08-02T09:00:00",
          "value": 1.8
         },
         {
          "ts": "2020-08-02T10:00:00",
          "value": 2.7
         },
         {
          "ts": "2020-08-02T11:00:00",
          "value": 2.5
         },
         {
          "ts": "2020-08-02T12:00:00",
          "value": 2.8
         },
         {
          "ts": "2020-08-02T13:00:00",
          "value": 4
         },
         {
          "ts": "2020-08-02T14:00:00",
          "value": 4.5
         },
         {
          "ts": "2020-08-02T15:00:00",
          "value": 5.8
         },
         {
          "ts": "2020-08-02T16:00:00",
          "value": 4.5
         },
         {
          "ts": "2020-08-02T17:00:00",
          "value": 4.7
         },
         {
          "ts": "2020-08-02T18:00:00",
          "value": 6.5
         },
         {
          "ts": "2020-08-02T19:00:00",
          "value": 5.9
         },
         {
          "ts": "2020-08-02T20:00:00",
          "value": 7.8
         },
         {
          "ts": "2020-08-02T21:00:00",
          "value": 7.1
         },
         {
          "ts": "2020-08-02T22:00:00",
          "value": 5.7
         },
         {
          "ts": "2020-08-02T23:00:00",
          "value": 6.1
         },
         {
          "ts": "2020-08-03T00:00:00",
          "value": 6
         },
         {
          "ts": "2020-08-03T01:00:00",
          "value": 6.3
         },
         {
          "ts": "2020-08-03T02:00:00",
          "value": 3.6
         },
         {
          "ts": "2020-08-03T03:00:00",
          "value": 4.9
         },
         {
          "ts": "2020-08-03T04:00:00",
          "value": 4.6
         },
         {
          "ts": "2020-08-03T05:00:00",
          "value": 2.7
         },
         {
          "ts": "2020-08-03T06:00:00",
          "value": 6.3
         },
         {
          "ts": "2020-08-03T07:00:00",
          "value": 6
         },
         {
          "ts": "2020-08-03T08:00:00",
          "value": 6.4
         },
         {
          "ts": "2020-08-03T09:00:00",
          "value": 6.4
         },
         {
          "ts": "2020-08-03T10:00:00",
          "value": 7.9
         },
         {
          "ts": "2020-08-03T11:00:00",
          "value": 6.4
         },
         {
          "ts": "2020-08-03T12:00:00",
          "value": 5.8
         },
         {
          "ts": "2020-08-03T13:00:00",
          "value": 6.4
         },
         {
          "ts": "2020-08-03T14:00:00",
          "value": 6.6
         },
         {
          "ts": "2020-08-03T15:00:00",
          "value": 6.4
         },
         {
          "ts": "2020-08-03T16:00:00",
          "value": 6.5
         },
         {
          "ts": "2020-08-03T17:00:00",
          "value": 5.4
         },
         {
          "ts": "2020-08-03T18:00:00",
          "value": 5.7
         },
         {
          "ts": "2020-08-03T19:00:00",
          "value": 4
         },
         {
          "ts": "2020-08-03T20:00:00",
          "value": 1.4
         },
         {
          "ts": "2020-08-03T21:00:00",
          "value": 1
         },
         {
          "ts": "2020-08-03T22:00:00",
          "value": 0.5
         },
         {
          "ts": "2020-08-03T23:00:00",
          "value": 3.2
         },
         {
          "ts": "2020-07-29T01:00:00",
          "value": 43
         },
         {
          "ts": "2020-07-29T02:00:00",
          "value": 258
         },
         {
          "ts": "2020-07-29T03:00:00",
          "value": 260
         },
         {
          "ts": "2020-07-29T04:00:00",
          "value": 237
         },
         {
          "ts": "2020-07-29T05:00:00",
          "value": 251
         },
         {
          "ts": "2020-07-29T06:00:00",
          "value": 74
         },
         {
          "ts": "2020-07-29T07:00:00",
          "value": 87
         },
         {
          "ts": "2020-07-29T08:00:00",
          "value": 78
         },
         {
          "ts": "2020-07-29T09:00:00",
          "value": 78
         },
         {
          "ts": "2020-07-29T10:00:00",
          "value": 80
         },
         {
          "ts": "2020-07-29T11:00:00",
          "value": 95
         },
         {
          "ts": "2020-07-29T12:00:00",
          "value": 86
         },
         {
          "ts": "2020-07-29T13:00:00",
          "value": 91
         },
         {
          "ts": "2020-07-29T14:00:00",
          "value": 88
         },
         {
          "ts": "2020-07-29T15:00:00",
          "value": 80
         },
         {
          "ts": "2020-07-29T16:00:00",
          "value": 79
         },
         {
          "ts": "2020-07-29T17:00:00",
          "value": 77
         },
         {
          "ts": "2020-07-29T18:00:00",
          "value": 76
         },
         {
          "ts": "2020-07-29T19:00:00",
          "value": 60
         },
         {
          "ts": "2020-07-29T20:00:00",
          "value": 64
         },
         {
          "ts": "2020-07-29T21:00:00",
          "value": 61
         },
         {
          "ts": "2020-07-29T22:00:00",
          "value": 54
         },
         {
          "ts": "2020-07-29T23:00:00",
          "value": 53
         },
         {
          "ts": "2020-07-30T00:00:00",
          "value": 56
         },
         {
          "ts": "2020-07-30T01:00:00",
          "value": 55
         },
         {
          "ts": "2020-07-30T02:00:00",
          "value": 49
         },
         {
          "ts": "2020-07-30T03:00:00",
          "value": 56
         },
         {
          "ts": "2020-07-30T04:00:00",
          "value": 55
         },
         {
          "ts": "2020-07-30T05:00:00",
          "value": 55
         },
         {
          "ts": "2020-07-30T06:00:00",
          "value": 54
         },
         {
          "ts": "2020-07-30T07:00:00",
          "value": 65
         },
         {
          "ts": "2020-07-30T08:00:00",
          "value": 72
         },
         {
          "ts": "2020-07-30T09:00:00",
          "value": 75
         },
         {
          "ts": "2020-07-30T10:00:00",
          "value": 77
         },
         {
          "ts": "2020-07-30T11:00:00",
          "value": 72
         },
         {
          "ts": "2020-07-30T12:00:00",
          "value": 71
         },
         {
          "ts": "2020-07-30T13:00:00",
          "value": 77
         },
         {
          "ts": "2020-07-30T14:00:00",
          "value": 71
         },
         {
          "ts": "2020-07-30T15:00:00",
          "value": 74
         },
         {
          "ts": "2020-07-30T16:00:00",
          "value": 82
         },
         {
          "ts": "2020-07-30T17:00:00",
          "value": 77
         },
         {
          "ts": "2020-07-30T18:00:00",
          "value": 77
         },
         {
          "ts": "2020-07-30T19:00:00",
          "value": 70
         },
         {
          "ts": "2020-07-30T20:00:00",
          "value": 74
         },
         {
          "ts": "2020-07-30T21:00:00",
          "value": 64
         },
         {
          "ts": "2020-07-30T22:00:00",
          "value": 59
         },
         {
          "ts": "2020-07-30T23:00:00",
          "value": 70
         },
         {
          "ts": "2020-07-31T00:00:00",
          "value": 108
         },
         {
          "ts": "2020-07-31T01:00:00",
          "value": 57
         },
         {
          "ts": "2020-07-31T02:00:00",
          "value": 35
         },
         {
          "ts": "2020-07-31T03:00:00",
          "value": 267
         },
         {
          "ts": "2020-07-31T04:00:00",
          "value": 301
         },
         {
          "ts": "2020-07-31T05:00:00",
          "value": 290
         },
         {
          "ts": "2020-07-31T06:00:00",
          "value": 331
         },
         {
          "ts": "2020-07-31T07:00:00",
          "value": 133
         },
         {
          "ts": "2020-07-31T08:00:00",
          "value": 143
         },
         {
          "ts": "2020-07-31T09:00:00",
          "value": 116
         },
         {
          "ts": "2020-07-31T10:00:00",
          "value": 89
         },
         {
          "ts": "2020-07-31T11:00:00",
          "value": 91
         },
         {
          "ts": "2020-07-31T12:00:00",
          "value": 125
         },
         {
          "ts": "2020-07-31T13:00:00",
          "value": 118
         },
         {
          "ts": "2020-07-31T14:00:00",
          "value": 118
         },
         {
          "ts": "2020-07-31T15:00:00",
          "value": 190
         },
         {
          "ts": "2020-07-31T16:00:00",
          "value": 206
         },
         {
          "ts": "2020-07-31T17:00:00",
          "value": 228
         },
         {
          "ts": "2020-07-31T18:00:00",
          "value": 216
         },
         {
          "ts": "2020-07-31T19:00:00",
          "value": 246
         },
         {
          "ts": "2020-07-31T20:00:00",
          "value": 223
         },
         {
          "ts": "2020-07-31T21:00:00",
          "value": 222
         },
         {
          "ts": "2020-07-31T22:00:00",
          "value": 249
         },
         {
          "ts": "2020-07-31T23:00:00",
          "value": 199
         },
         {
          "ts": "2020-08-01T00:00:00",
          "value": 252
         },
         {
          "ts": "2020-08-01T01:00:00",
          "value": 90
         },
         {
          "ts": "2020-08-01T02:00:00",
          "value": 64
         },
         {
          "ts": "2020-08-01T03:00:00",
          "value": 69
         },
         {
          "ts": "2020-08-01T04:00:00",
          "value": 227
         },
         {
          "ts": "2020-08-01T05:00:00",
          "value": 131
         },
         {
          "ts": "2020-08-01T06:00:00",
          "value": 45
         },
         {
          "ts": "2020-08-01T07:00:00",
          "value": 157
         },
         {
          "ts": "2020-08-01T08:00:00",
          "value": 75
         },
         {
          "ts": "2020-08-01T09:00:00",
          "value": 69
         },
         {
          "ts": "2020-08-01T10:00:00",
          "value": 85
         },
         {
          "ts": "2020-08-01T11:00:00",
          "value": 88
         },
         {
          "ts": "2020-08-01T12:00:00",
          "value": 84
         },
         {
          "ts": "2020-08-01T13:00:00",
          "value": 86
         },
         {
          "ts": "2020-08-01T14:00:00",
          "value": 68
         },
         {
          "ts": "2020-08-01T15:00:00",
          "value": 67
         },
         {
          "ts": "2020-08-01T16:00:00",
          "value": 72
         },
         {
          "ts": "2020-08-01T17:00:00",
          "value": 72
         },
         {
          "ts": "2020-08-01T18:00:00",
          "value": 63
         },
         {
          "ts": "2020-08-01T19:00:00",
          "value": 91
         },
         {
          "ts": "2020-08-01T20:00:00",
          "value": 57
         },
         {
          "ts": "2020-08-01T21:00:00",
          "value": 170
         },
         {
          "ts": "2020-08-01T22:00:00",
          "value": 298
         },
         {
          "ts": "2020-08-01T23:00:00",
          "value": 301
         },
         {
          "ts": "2020-08-02T00:00:00",
          "value": 64
         },
         {
          "ts": "2020-08-02T01:00:00",
          "value": 55
         },
         {
          "ts": "2020-08-02T02:00:00",
          "value": 43
         },
         {
          "ts": "2020-08-02T03:00:00",
          "value": 270
         },
         {
          "ts": "2020-08-02T04:00:00",
          "value": 149
         },
         {
          "ts": "2020-08-02T05:00:00",
          "value": 337
         },
         {
          "ts": "2020-08-02T06:00:00",
          "value": 318
         },
         {
          "ts": "2020-08-02T07:00:00",
          "value": 311
         },
         {
          "ts": "2020-08-02T08:00:00",
          "value": 127
         },
         {
          "ts": "2020-08-02T09:00:00",
          "value": 84
         },
         {
          "ts": "2020-08-02T10:00:00",
          "value": 68
         },
         {
          "ts": "2020-08-02T11:00:00",
          "value": 68
         },
         {
          "ts": "2020-08-02T12:00:00",
          "value": 70
         },
         {
          "ts": "2020-08-02T13:00:00",
          "value": 273
         },
         {
          "ts": "2020-08-02T14:00:00",
          "value": 262
         },
         {
          "ts": "2020-08-02T15:00:00",
          "value": 264
         },
         {
          "ts": "2020-08-02T16:00:00",
          "value": 282
         },
         {
          "ts": "2020-08-02T17:00:00",
          "value": 254
         },
         {
          "ts": "2020-08-02T18:00:00",
          "value": 249
         },
         {
          "ts": "2020-08-02T19:00:00",
          "value": 247
         },
         {
          "ts": "2020-08-02T20:00:00",
          "value": 241
         },
         {
          "ts": "2020-08-02T21:00:00",
          "value": 243
         },
         {
          "ts": "2020-08-02T22:00:00",
          "value": 254
         },
         {
          "ts": "2020-08-02T23:00:00",
          "value": 249
         },
         {
          "ts": "2020-08-03T00:00:00",
          "value": 270
         },
         {
          "ts": "2020-08-03T01:00:00",
          "value": 251
         },
         {
          "ts": "2020-08-03T02:00:00",
          "value": 243
         },
         {
          "ts": "2020-08-03T03:00:00",
          "value": 259
         },
         {
          "ts": "2020-08-03T04:00:00",
          "value": 250
         },
         {
          "ts": "2020-08-03T05:00:00",
          "value": 241
         },
         {
          "ts": "2020-08-03T06:00:00",
          "value": 258
         },
         {
          "ts": "2020-08-03T07:00:00",
          "value": 242
         },
         {
          "ts": "2020-08-03T08:00:00",
          "value": 249
         },
         {
          "ts": "2020-08-03T09:00:00",
          "value": 249
         },
         {
          "ts": "2020-08-03T10:00:00",
          "value": 251
         },
         {
          "ts": "2020-08-03T11:00:00",
          "value": 258
         },
         {
          "ts": "2020-08-03T12:00:00",
          "value": 249
         },
         {
          "ts": "2020-08-03T13:00:00",
          "value": 262
         },
         {
          "ts": "2020-08-03T14:00:00",
          "value": 254
         },
         {
          "ts": "2020-08-03T15:00:00",
          "value": 253
         },
         {
          "ts": "2020-08-03T16:00:00",
          "value": 264
         },
         {
          "ts": "2020-08-03T17:00:00",
          "value": 258
         },
         {
          "ts": "2020-08-03T18:00:00",
          "value": 249
         },
         {
          "ts": "2020-08-03T19:00:00",
          "value": 255
         },
         {
          "ts": "2020-08-03T20:00:00",
          "value": 270
         },
         {
          "ts": "2020-08-03T21:00:00",
          "value": 60
         },
         {
          "ts": "2020-08-03T22:00:00",
          "value": 287
         },
         {
          "ts": "2020-08-03T23:00:00",
          "value": 50
         },
         {
          "ts": "2020-07-29T01:00:00",
          "value": 71
         },
         {
          "ts": "2020-07-29T02:00:00",
          "value": 72
         },
         {
          "ts": "2020-07-29T03:00:00",
          "value": 75
         },
         {
          "ts": "2020-07-29T04:00:00",
          "value": 76
         },
         {
          "ts": "2020-07-29T05:00:00",
          "value": 78
         },
         {
          "ts": "2020-07-29T06:00:00",
          "value": 79
         },
         {
          "ts": "2020-07-29T07:00:00",
          "value": 72
         },
         {
          "ts": "2020-07-29T08:00:00",
          "value": 69
         },
         {
          "ts": "2020-07-29T09:00:00",
          "value": 69
         },
         {
          "ts": "2020-07-29T10:00:00",
          "value": 65
         },
         {
          "ts": "2020-07-29T11:00:00",
          "value": 67
         },
         {
          "ts": "2020-07-29T12:00:00",
          "value": 60
         },
         {
          "ts": "2020-07-29T13:00:00",
          "value": 56
         },
         {
          "ts": "2020-07-29T14:00:00",
          "value": 48
         },
         {
          "ts": "2020-07-29T15:00:00",
          "value": 54
         },
         {
          "ts": "2020-07-29T16:00:00",
          "value": 57
         },
         {
          "ts": "2020-07-29T17:00:00",
          "value": 60
         },
         {
          "ts": "2020-07-29T18:00:00",
          "value": 64
         },
         {
          "ts": "2020-07-29T19:00:00",
          "value": 69
         },
         {
          "ts": "2020-07-29T20:00:00",
          "value": 72
         },
         {
          "ts": "2020-07-29T21:00:00",
          "value": 74
         },
         {
          "ts": "2020-07-29T22:00:00",
          "value": 71
         },
         {
          "ts": "2020-07-29T23:00:00",
          "value": 72
         },
         {
          "ts": "2020-07-30T00:00:00",
          "value": 72
         },
         {
          "ts": "2020-07-30T01:00:00",
          "value": 72
         },
         {
          "ts": "2020-07-30T02:00:00",
          "value": 73
         },
         {
          "ts": "2020-07-30T03:00:00",
          "value": 73
         },
         {
          "ts": "2020-07-30T04:00:00",
          "value": 72
         },
         {
          "ts": "2020-07-30T05:00:00",
          "value": 74
         },
         {
          "ts": "2020-07-30T06:00:00",
          "value": 73
         },
         {
          "ts": "2020-07-30T07:00:00",
          "value": 71
         },
         {
          "ts": "2020-07-30T08:00:00",
          "value": 70
         },
         {
          "ts": "2020-07-30T09:00:00",
          "value": 64
         },
         {
          "ts": "2020-07-30T10:00:00",
          "value": 63
         },
         {
          "ts": "2020-07-30T11:00:00",
          "value": 59
         },
         {
          "ts": "2020-07-30T12:00:00",
          "value": 57
         },
         {
          "ts": "2020-07-30T13:00:00",
          "value": 60
         },
         {
          "ts": "2020-07-30T14:00:00",
          "value": 54
         },
         {
          "ts": "2020-07-30T15:00:00",
          "value": 57
         },
         {
          "ts": "2020-07-30T16:00:00",
          "value": 60
         },
         {
          "ts": "2020-07-30T17:00:00",
          "value": 60
         },
         {
          "ts": "2020-07-30T18:00:00",
          "value": 65
         },
         {
          "ts": "2020-07-30T19:00:00",
          "value": 72
         },
         {
          "ts": "2020-07-30T20:00:00",
          "value": 77
         },
         {
          "ts": "2020-07-30T21:00:00",
          "value": 79
         },
         {
          "ts": "2020-07-30T22:00:00",
          "value": 80
         },
         {
          "ts": "2020-07-30T23:00:00",
          "value": 80
         },
         {
          "ts": "2020-07-31T00:00:00",
          "value": 80
         },
         {
          "ts": "2020-07-31T01:00:00",
          "value": 82
         },
         {
          "ts": "2020-07-31T02:00:00",
          "value": 83
         },
         {
          "ts": "2020-07-31T03:00:00",
          "value": 84
         },
         {
          "ts": "2020-07-31T04:00:00",
          "value": 84
         },
         {
          "ts": "2020-07-31T05:00:00",
          "value": 84
         },
         {
          "ts": "2020-07-31T06:00:00",
          "value": 84
         },
         {
          "ts": "2020-07-31T07:00:00",
          "value": 83
         },
         {
          "ts": "2020-07-31T08:00:00",
          "value": 80
         },
         {
          "ts": "2020-07-31T09:00:00",
          "value": 67
         },
         {
          "ts": "2020-07-31T10:00:00",
          "value": 63
         },
         {
          "ts": "2020-07-31T11:00:00",
          "value": 61
         },
         {
          "ts": "2020-07-31T12:00:00",
          "value": 58
         },
         {
          "ts": "2020-07-31T13:00:00",
          "value": 65
         },
         {
          "ts": "2020-07-31T14:00:00",
          "value": 60
         },
         {
          "ts": "2020-07-31T15:00:00",
          "value": 64
         },
         {
          "ts": "2020-07-31T16:00:00",
          "value": 57
         },
         {
          "ts": "2020-07-31T17:00:00",
          "value": 57
         },
         {
          "ts": "2020-07-31T18:00:00",
          "value": 59
         },
         {
          "ts": "2020-07-31T19:00:00",
          "value": 66
         },
         {
          "ts": "2020-07-31T20:00:00",
          "value": 69
         },
         {
          "ts": "2020-07-31T21:00:00",
          "value": 73
         },
         {
          "ts": "2020-07-31T22:00:00",
          "value": 76
         },
         {
          "ts": "2020-07-31T23:00:00",
          "value": 76
         },
         {
          "ts": "2020-08-01T00:00:00",
          "value": 76
         },
         {
          "ts": "2020-08-01T01:00:00",
          "value": 77
         },
         {
          "ts": "2020-08-01T02:00:00",
          "value": 76
         },
         {
          "ts": "2020-08-01T03:00:00",
          "value": 77
         },
         {
          "ts": "2020-08-01T04:00:00",
          "value": 77
         },
         {
          "ts": "2020-08-01T05:00:00",
          "value": 78
         },
         {
          "ts": "2020-08-01T06:00:00",
          "value": 81
         },
         {
          "ts": "2020-08-01T07:00:00",
          "value": 79
         },
         {
          "ts": "2020-08-01T08:00:00",
          "value": 74
         },
         {
          "ts": "2020-08-01T09:00:00",
          "value": 66
         },
         {
          "ts": "2020-08-01T10:00:00",
          "value": 62
         },
         {
          "ts": "2020-08-01T11:00:00",
          "value": 56
         },
         {
          "ts": "2020-08-01T12:00:00",
          "value": 57
         },
         {
          "ts": "2020-08-01T13:00:00",
          "value": 55
         },
         {
          "ts": "2020-08-01T14:00:00",
          "value": 49
         },
         {
          "ts": "2020-08-01T15:00:00",
          "value": 47
         },
         {
          "ts": "2020-08-01T16:00:00",
          "value": 38
         },
         {
          "ts": "2020-08-01T17:00:00",
          "value": 51
         },
         {
          "ts": "2020-08-01T18:00:00",
          "value": 54
         },
         {
          "ts": "2020-08-01T19:00:00",
          "value": 58
         },
         {
          "ts": "2020-08-01T20:00:00",
          "value": 61
         },
         {
          "ts": "2020-08-01T21:00:00",
          "value": 64
         },
         {
          "ts": "2020-08-01T22:00:00",
          "value": 64
         },
         {
          "ts": "2020-08-01T23:00:00",
          "value": 66
         },
         {
          "ts": "2020-08-02T00:00:00",
          "value": 56
         },
         {
          "ts": "2020-08-02T01:00:00",
          "value": 55
         },
         {
          "ts": "2020-08-02T02:00:00",
          "value": 60
         },
         {
          "ts": "2020-08-02T03:00:00",
          "value": 60
         },
         {
          "ts": "2020-08-02T04:00:00",
          "value": 59
         },
         {
          "ts": "2020-08-02T05:00:00",
          "value": 58
         },
         {
          "ts": "2020-08-02T06:00:00",
          "value": 50
         },
         {
          "ts": "2020-08-02T07:00:00",
          "value": 46
         },
         {
          "ts": "2020-08-02T08:00:00",
          "value": 49
         },
         {
          "ts": "2020-08-02T09:00:00",
          "value": 49
         },
         {
          "ts": "2020-08-02T10:00:00",
          "value": 43
         },
         {
          "ts": "2020-08-02T11:00:00",
          "value": 44
         },
         {
          "ts": "2020-08-02T12:00:00",
          "value": 42
         },
         {
          "ts": "2020-08-02T13:00:00",
          "value": 9
         },
         {
          "ts": "2020-08-02T14:00:00",
          "value": 8
         },
         {
          "ts": "2020-08-02T15:00:00",
          "value": 7
         },
         {
          "ts": "2020-08-02T16:00:00",
          "value": 7
         },
         {
          "ts": "2020-08-02T17:00:00",
          "value": 6
         },
         {
          "ts": "2020-08-02T18:00:00",
          "value": 14
         },
         {
          "ts": "2020-08-02T19:00:00",
          "value": 15
         },
         {
          "ts": "2020-08-02T20:00:00",
          "value": 19
         },
         {
          "ts": "2020-08-02T21:00:00",
          "value": 20
         },
         {
          "ts": "2020-08-02T22:00:00",
          "value": 14
         },
         {
          "ts": "2020-08-02T23:00:00",
          "value": 20
         },
         {
          "ts": "2020-08-03T00:00:00",
          "value": 16
         },
         {
          "ts": "2020-08-03T01:00:00",
          "value": 24
         },
         {
          "ts": "2020-08-03T02:00:00",
          "value": 27
         },
         {
          "ts": "2020-08-03T03:00:00",
          "value": 37
         },
         {
          "ts": "2020-08-03T04:00:00",
          "value": 44
         },
         {
          "ts": "2020-08-03T05:00:00",
          "value": 48
         },
         {
          "ts": "2020-08-03T06:00:00",
          "value": 61
         },
         {
          "ts": "2020-08-03T07:00:00",
          "value": 51
         },
         {
          "ts": "2020-08-03T08:00:00",
          "value": 39
         },
         {
          "ts": "2020-08-03T09:00:00",
          "value": 31
         },
         {
          "ts": "2020-08-03T10:00:00",
          "value": 29
         },
         {
          "ts": "2020-08-03T11:00:00",
          "value": 26
         },
         {
          "ts": "2020-08-03T12:00:00",
          "value": 23
         },
         {
          "ts": "2020-08-03T13:00:00",
          "value": 19
         },
         {
          "ts": "2020-08-03T14:00:00",
          "value": 20
         },
         {
          "ts": "2020-08-03T15:00:00",
          "value": 21
         },
         {
          "ts": "2020-08-03T16:00:00",
          "value": 23
         },
         {
          "ts": "2020-08-03T17:00:00",
          "value": 25
         },
         {
          "ts": "2020-08-03T18:00:00",
          "value": 25
         },
         {
          "ts": "2020-08-03T19:00:00",
          "value": 29
         },
         {
          "ts": "2020-08-03T20:00:00",
          "value": 30
         },
         {
          "ts": "2020-08-03T21:00:00",
          "value": 42
         },
         {
          "ts": "2020-08-03T22:00:00",
          "value": 50
         },
         {
          "ts": "2020-08-03T23:00:00",
          "value": 55
         },
         {
          "ts": "2020-07-29T01:00:00",
          "value": 1011.2
         },
         {
          "ts": "2020-07-29T02:00:00",
          "value": 1011.2
         },
         {
          "ts": "2020-07-29T03:00:00",
          "value": 1011
         },
         {
          "ts": "2020-07-29T04:00:00",
          "value": 1011
         },
         {
          "ts": "2020-07-29T05:00:00",
          "value": 1011.4
         },
         {
          "ts": "2020-07-29T06:00:00",
          "value": 1011.5
         },
         {
          "ts": "2020-07-29T07:00:00",
          "value": 1012.1
         },
         {
          "ts": "2020-07-29T08:00:00",
          "value": 1012.6
         },
         {
          "ts": "2020-07-29T09:00:00",
          "value": 1013
         },
         {
          "ts": "2020-07-29T10:00:00",
          "value": 1013.6
         },
         {
          "ts": "2020-07-29T11:00:00",
          "value": 1013.7
         },
         {
          "ts": "2020-07-29T12:00:00",
          "value": 1013.3
         },
         {
          "ts": "2020-07-29T13:00:00",
          "value": 1012.9
         },
         {
          "ts": "2020-07-29T14:00:00",
          "value": 1012.6
         },
         {
          "ts": "2020-07-29T15:00:00",
          "value": 1012.2
         },
         {
          "ts": "2020-07-29T16:00:00",
          "value": 1011.6
         },
         {
          "ts": "2020-07-29T17:00:00",
          "value": 1011
         },
         {
          "ts": "2020-07-29T18:00:00",
          "value": 1011.4
         },
         {
          "ts": "2020-07-29T19:00:00",
          "value": 1011.6
         },
         {
          "ts": "2020-07-29T20:00:00",
          "value": 1011.7
         },
         {
          "ts": "2020-07-29T21:00:00",
          "value": 1012.2
         },
         {
          "ts": "2020-07-29T22:00:00",
          "value": 1013.1
         },
         {
          "ts": "2020-07-29T23:00:00",
          "value": 1012.9
         },
         {
          "ts": "2020-07-30T00:00:00",
          "value": 1012.5
         },
         {
          "ts": "2020-07-30T01:00:00",
          "value": 1011.8
         },
         {
          "ts": "2020-07-30T02:00:00",
          "value": 1011.4
         },
         {
          "ts": "2020-07-30T03:00:00",
          "value": 1011.4
         },
         {
          "ts": "2020-07-30T04:00:00",
          "value": 1011.5
         },
         {
          "ts": "2020-07-30T05:00:00",
          "value": 1011.8
         },
         {
          "ts": "2020-07-30T06:00:00",
          "value": 1012.2
         },
         {
          "ts": "2020-07-30T07:00:00",
          "value": 1012.6
         },
         {
          "ts": "2020-07-30T08:00:00",
          "value": 1013.4
         },
         {
          "ts": "2020-07-30T09:00:00",
          "value": 1013.8
         },
         {
          "ts": "2020-07-30T10:00:00",
          "value": 1013.8
         },
         {
          "ts": "2020-07-30T11:00:00",
          "value": 1013.7
         },
         {
          "ts": "2020-07-30T12:00:00",
          "value": 1013.6
         },
         {
          "ts": "2020-07-30T13:00:00",
          "value": 1013.3
         },
         {
          "ts": "2020-07-30T14:00:00",
          "value": 1013
         },
         {
          "ts": "2020-07-30T15:00:00",
          "value": 1012.8
         },
         {
          "ts": "2020-07-30T16:00:00",
          "value": 1012.5
         },
         {
          "ts": "2020-07-30T17:00:00",
          "value": 1012.2
         },
         {
          "ts": "2020-07-30T18:00:00",
          "value": 1012.1
         },
         {
          "ts": "2020-07-30T19:00:00",
          "value": 1012.5
         },
         {
          "ts": "2020-07-30T20:00:00",
          "value": 1013.2
         },
         {
          "ts": "2020-07-30T21:00:00",
          "value": 1013.7
         },
         {
          "ts": "2020-07-30T22:00:00",
          "value": 1014.1
         },
         {
          "ts": "2020-07-30T23:00:00",
          "value": 1013.9
         },
         {
          "ts": "2020-07-31T00:00:00",
          "value": 1014.3
         },
         {
          "ts": "2020-07-31T01:00:00",
          "value": 1014
         },
         {
          "ts": "2020-07-31T02:00:00",
          "value": 1013.6
         },
         {
          "ts": "2020-07-31T03:00:00",
          "value": 1013.5
         },
         {
          "ts": "2020-07-31T04:00:00",
          "value": 1013.3
         },
         {
          "ts": "2020-07-31T05:00:00",
          "value": 1013.5
         },
         {
          "ts": "2020-07-31T06:00:00",
          "value": 1014
         },
         {
          "ts": "2020-07-31T07:00:00",
          "value": 1014.3
         },
         {
          "ts": "2020-07-31T08:00:00",
          "value": 1014.6
         },
         {
          "ts": "2020-07-31T09:00:00",
          "value": 1015
         },
         {
          "ts": "2020-07-31T10:00:00",
          "value": 1015.2
         },
         {
          "ts": "2020-07-31T11:00:00",
          "value": 1015.5
         },
         {
          "ts": "2020-07-31T12:00:00",
          "value": 1015.4
         },
         {
          "ts": "2020-07-31T13:00:00",
          "value": 1015.1
         },
         {
          "ts": "2020-07-31T14:00:00",
          "value": 1014.9
         },
         {
          "ts": "2020-07-31T15:00:00",
          "value": 1014.6
         },
         {
          "ts": "2020-07-31T16:00:00",
          "value": 1013.9
         },
         {
          "ts": "2020-07-31T17:00:00",
          "value": 1013.7
         },
         {
          "ts": "2020-07-31T18:00:00",
          "value": 1013.3
         },
         {
          "ts": "2020-07-31T19:00:00",
          "value": 1013.7
         },
         {
          "ts": "2020-07-31T20:00:00",
          "value": 1013.9
         },
         {
          "ts": "2020-07-31T21:00:00",
          "value": 1014.3
         },
         {
          "ts": "2020-07-31T22:00:00",
          "value": 1015.2
         },
         {
          "ts": "2020-07-31T23:00:00",
          "value": 1015.9
         },
         {
          "ts": "2020-08-01T00:00:00",
          "value": 1014.9
         },
         {
          "ts": "2020-08-01T01:00:00",
          "value": 1014.4
         },
         {
          "ts": "2020-08-01T02:00:00",
          "value": 1014.1
         },
         {
          "ts": "2020-08-01T03:00:00",
          "value": 1014.6
         },
         {
          "ts": "2020-08-01T04:00:00",
          "value": 1013.7
         },
         {
          "ts": "2020-08-01T05:00:00",
          "value": 1013.7
         },
         {
          "ts": "2020-08-01T06:00:00",
          "value": 1014
         },
         {
          "ts": "2020-08-01T07:00:00",
          "value": 1014.3
         },
         {
          "ts": "2020-08-01T08:00:00",
          "value": 1014.3
         },
         {
          "ts": "2020-08-01T09:00:00",
          "value": 1014.5
         },
         {
          "ts": "2020-08-01T10:00:00",
          "value": 1014.7
         },
         {
          "ts": "2020-08-01T11:00:00",
          "value": 1014.7
         },
         {
          "ts": "2020-08-01T12:00:00",
          "value": 1014.6
         },
         {
          "ts": "2020-08-01T13:00:00",
          "value": 1014.3
         },
         {
          "ts": "2020-08-01T14:00:00",
          "value": 1013.5
         },
         {
          "ts": "2020-08-01T15:00:00",
          "value": 1013
         },
         {
          "ts": "2020-08-01T16:00:00",
          "value": 1012.5
         },
         {
          "ts": "2020-08-01T17:00:00",
          "value": 1011.9
         },
         {
          "ts": "2020-08-01T18:00:00",
          "value": 1011.7
         },
         {
          "ts": "2020-08-01T19:00:00",
          "value": 1012.2
         },
         {
          "ts": "2020-08-01T20:00:00",
          "value": 1012.3
         },
         {
          "ts": "2020-08-01T21:00:00",
          "value": 1013
         },
         {
          "ts": "2020-08-01T22:00:00",
          "value": 1013.2
         },
         {
          "ts": "2020-08-01T23:00:00",
          "value": 1013
         },
         {
          "ts": "2020-08-02T00:00:00",
          "value": 1012.7
         },
         {
          "ts": "2020-08-02T01:00:00",
          "value": 1012.4
         },
         {
          "ts": "2020-08-02T02:00:00",
          "value": 1012.2
         },
         {
          "ts": "2020-08-02T03:00:00",
          "value": 1012.3
         },
         {
          "ts": "2020-08-02T04:00:00",
          "value": 1012.3
         },
         {
          "ts": "2020-08-02T05:00:00",
          "value": 1012.1
         },
         {
          "ts": "2020-08-02T06:00:00",
          "value": 1012.2
         },
         {
          "ts": "2020-08-02T07:00:00",
          "value": 1012.3
         },
         {
          "ts": "2020-08-02T08:00:00",
          "value": 1012.4
         },
         {
          "ts": "2020-08-02T09:00:00",
          "value": 1012.6
         },
         {
          "ts": "2020-08-02T10:00:00",
          "value": 1012.5
         },
         {
          "ts": "2020-08-02T11:00:00",
          "value": 1012.6
         },
         {
          "ts": "2020-08-02T12:00:00",
          "value": 1012.4
         },
         {
          "ts": "2020-08-02T13:00:00",
          "value": 1011.7
         },
         {
          "ts": "2020-08-02T14:00:00",
          "value": 1011.3
         },
         {
          "ts": "2020-08-02T15:00:00",
          "value": 1010.9
         },
         {
          "ts": "2020-08-02T16:00:00",
          "value": 1010.6
         },
         {
          "ts": "2020-08-02T17:00:00",
          "value": 1010.3
         },
         {
          "ts": "2020-08-02T18:00:00",
          "value": 1010.6
         },
         {
          "ts": "2020-08-02T19:00:00",
          "value": 1010.6
         },
         {
          "ts": "2020-08-02T20:00:00",
          "value": 1010.9
         },
         {
          "ts": "2020-08-02T21:00:00",
          "value": 1011.3
         },
         {
          "ts": "2020-08-02T22:00:00",
          "value": 1011.7
         },
         {
          "ts": "2020-08-02T23:00:00",
          "value": 1012.1
         },
         {
          "ts": "2020-08-03T00:00:00",
          "value": 1011.7
         },
         {
          "ts": "2020-08-03T01:00:00",
          "value": 1011.5
         },
         {
          "ts": "2020-08-03T02:00:00",
          "value": 1011.7
         },
         {
          "ts": "2020-08-03T03:00:00",
          "value": 1011.5
         },
         {
          "ts": "2020-08-03T04:00:00",
          "value": 1011.3
         },
         {
          "ts": "2020-08-03T05:00:00",
          "value": 1011.6
         },
         {
          "ts": "2020-08-03T06:00:00",
          "value": 1011.4
         },
         {
          "ts": "2020-08-03T07:00:00",
          "value": 1011.2
         },
         {
          "ts": "2020-08-03T08:00:00",
          "value": 1011.4
         },
         {
          "ts": "2020-08-03T09:00:00",
          "value": 1011
         },
         {
          "ts": "2020-08-03T10:00:00",
          "value": 1011
         },
         {
          "ts": "2020-08-03T11:00:00",
          "value": 1010.7
         },
         {
          "ts": "2020-08-03T12:00:00",
          "value": 1010.2
         },
         {
          "ts": "2020-08-03T13:00:00",
          "value": 1009.4
         },
         {
          "ts": "2020-08-03T14:00:00",
          "value": 1009
         },
         {
          "ts": "2020-08-03T15:00:00",
          "value": 1008.6
         },
         {
          "ts": "2020-08-03T16:00:00",
          "value": 1008.4
         },
         {
          "ts": "2020-08-03T17:00:00",
          "value": 1008.5
         },
         {
          "ts": "2020-08-03T18:00:00",
          "value": 1008.6
         },
         {
          "ts": "2020-08-03T19:00:00",
          "value": 1008.8
         },
         {
          "ts": "2020-08-03T20:00:00",
          "value": 1009.1
         },
         {
          "ts": "2020-08-03T21:00:00",
          "value": 1009.7
         },
         {
          "ts": "2020-08-03T22:00:00",
          "value": 1010.2
         },
         {
          "ts": "2020-08-03T23:00:00",
          "value": 1010.9
         },
         {
          "ts": "2020-07-29T01:00:00",
          "value": 24.7
         },
         {
          "ts": "2020-07-29T02:00:00",
          "value": 24.2
         },
         {
          "ts": "2020-07-29T03:00:00",
          "value": 23.6
         },
         {
          "ts": "2020-07-29T04:00:00",
          "value": 23.1
         },
         {
          "ts": "2020-07-29T05:00:00",
          "value": 22.7
         },
         {
          "ts": "2020-07-29T06:00:00",
          "value": 23.1
         },
         {
          "ts": "2020-07-29T07:00:00",
          "value": 24.3
         },
         {
          "ts": "2020-07-29T08:00:00",
          "value": 26.3
         },
         {
          "ts": "2020-07-29T09:00:00",
          "value": 29.9
         },
         {
          "ts": "2020-07-29T10:00:00",
          "value": 33.2
         },
         {
          "ts": "2020-07-29T11:00:00",
          "value": 36.6
         },
         {
          "ts": "2020-07-29T12:00:00",
          "value": 39.7
         },
         {
          "ts": "2020-07-29T15:00:00",
          "value": 40.9
         },
         {
          "ts": "2020-07-29T16:00:00",
          "value": 38.6
         },
         {
          "ts": "2020-07-29T17:00:00",
          "value": 35.5
         },
         {
          "ts": "2020-07-29T18:00:00",
          "value": 33.1
         },
         {
          "ts": "2020-07-29T19:00:00",
          "value": 31.1
         },
         {
          "ts": "2020-07-29T20:00:00",
          "value": 29.4
         },
         {
          "ts": "2020-07-29T21:00:00",
          "value": 28.6
         },
         {
          "ts": "2020-07-29T22:00:00",
          "value": 28.1
         },
         {
          "ts": "2020-07-29T23:00:00",
          "value": 27.8
         },
         {
          "ts": "2020-07-30T00:00:00",
          "value": 27.4
         },
         {
          "ts": "2020-07-30T01:00:00",
          "value": 27.2
         },
         {
          "ts": "2020-07-30T02:00:00",
          "value": 26.8
         },
         {
          "ts": "2020-07-30T03:00:00",
          "value": 26.6
         },
         {
          "ts": "2020-07-30T04:00:00",
          "value": 26.5
         },
         {
          "ts": "2020-07-30T05:00:00",
          "value": 26.2
         },
         {
          "ts": "2020-07-30T06:00:00",
          "value": 26.3
         },
         {
          "ts": "2020-07-30T07:00:00",
          "value": 27.2
         },
         {
          "ts": "2020-07-30T08:00:00",
          "value": 28.5
         },
         {
          "ts": "2020-07-30T09:00:00",
          "value": 31.5
         },
         {
          "ts": "2020-07-30T10:00:00",
          "value": 34.4
         },
         {
          "ts": "2020-07-30T11:00:00",
          "value": 37.7
         },
         {
          "ts": "2020-07-30T12:00:00",
          "value": 40.8
         },
         {
          "ts": "2020-07-30T15:00:00",
          "value": 40.3
         },
         {
          "ts": "2020-07-30T16:00:00",
          "value": 38.1
         },
         {
          "ts": "2020-07-30T17:00:00",
          "value": 35.7
         },
         {
          "ts": "2020-07-30T18:00:00",
          "value": 32.9
         },
         {
          "ts": "2020-07-30T19:00:00",
          "value": 30.6
         },
         {
          "ts": "2020-07-30T20:00:00",
          "value": 29
         },
         {
          "ts": "2020-07-30T21:00:00",
          "value": 28.1
         },
         {
          "ts": "2020-07-30T22:00:00",
          "value": 27.4
         },
         {
          "ts": "2020-07-30T23:00:00",
          "value": 27
         },
         {
          "ts": "2020-07-31T00:00:00",
          "value": 25.9
         },
         {
          "ts": "2020-07-31T01:00:00",
          "value": 25.2
         },
         {
          "ts": "2020-07-31T02:00:00",
          "value": 24.9
         },
         {
          "ts": "2020-07-31T03:00:00",
          "value": 24.8
         },
         {
          "ts": "2020-07-31T04:00:00",
          "value": 24.4
         },
         {
          "ts": "2020-07-31T05:00:00",
          "value": 24.1
         },
         {
          "ts": "2020-07-31T06:00:00",
          "value": 24.2
         },
         {
          "ts": "2020-07-31T07:00:00",
          "value": 25.6
         },
         {
          "ts": "2020-07-31T08:00:00",
          "value": 27.7
         },
         {
          "ts": "2020-07-31T09:00:00",
          "value": 30.5
         },
         {
          "ts": "2020-07-31T10:00:00",
          "value": 34.5
         },
         {
          "ts": "2020-07-31T11:00:00",
          "value": 37.2
         },
         {
          "ts": "2020-07-31T12:00:00",
          "value": 40.4
         },
         {
          "ts": "2020-07-31T13:00:00",
          "value": 37.9
         },
         {
          "ts": "2020-07-31T14:00:00",
          "value": 37.9
         },
         {
          "ts": "2020-07-31T15:00:00",
          "value": 37.4
         },
         {
          "ts": "2020-07-31T16:00:00",
          "value": 37.7
         },
         {
          "ts": "2020-07-31T17:00:00",
          "value": 35.6
         },
         {
          "ts": "2020-07-31T18:00:00",
          "value": 33.2
         },
         {
          "ts": "2020-07-31T19:00:00",
          "value": 30.7
         },
         {
          "ts": "2020-07-31T20:00:00",
          "value": 28.1
         },
         {
          "ts": "2020-07-31T21:00:00",
          "value": 27
         },
         {
          "ts": "2020-07-31T22:00:00",
          "value": 27
         },
         {
          "ts": "2020-07-31T23:00:00",
          "value": 26.8
         },
         {
          "ts": "2020-08-01T00:00:00",
          "value": 26.1
         },
         {
          "ts": "2020-08-01T01:00:00",
          "value": 25.9
         },
         {
          "ts": "2020-08-01T02:00:00",
          "value": 25.8
         },
         {
          "ts": "2020-08-01T03:00:00",
          "value": 25.5
         },
         {
          "ts": "2020-08-01T04:00:00",
          "value": 25.1
         },
         {
          "ts": "2020-08-01T05:00:00",
          "value": 24.8
         },
         {
          "ts": "2020-08-01T06:00:00",
          "value": 25.3
         },
         {
          "ts": "2020-08-01T07:00:00",
          "value": 26.6
         },
         {
          "ts": "2020-08-01T08:00:00",
          "value": 27.8
         },
         {
          "ts": "2020-08-01T09:00:00",
          "value": 29.8
         },
         {
          "ts": "2020-08-01T10:00:00",
          "value": 33.7
         },
         {
          "ts": "2020-08-01T11:00:00",
          "value": 37.3
         },
         {
          "ts": "2020-08-01T12:00:00",
          "value": 40.2
         },
         {
          "ts": "2020-08-01T15:00:00",
          "value": 41.4
         },
         {
          "ts": "2020-08-01T16:00:00",
          "value": 40.1
         },
         {
          "ts": "2020-08-01T17:00:00",
          "value": 36.7
         },
         {
          "ts": "2020-08-01T18:00:00",
          "value": 34
         },
         {
          "ts": "2020-08-01T19:00:00",
          "value": 31.4
         },
         {
          "ts": "2020-08-01T20:00:00",
          "value": 29.1
         },
         {
          "ts": "2020-08-01T21:00:00",
          "value": 27.5
         },
         {
          "ts": "2020-08-01T22:00:00",
          "value": 26.7
         },
         {
          "ts": "2020-08-01T23:00:00",
          "value": 26.1
         },
         {
          "ts": "2020-08-02T00:00:00",
          "value": 25.6
         },
         {
          "ts": "2020-08-02T01:00:00",
          "value": 25
         },
         {
          "ts": "2020-08-02T02:00:00",
          "value": 25
         },
         {
          "ts": "2020-08-02T03:00:00",
          "value": 24.4
         },
         {
          "ts": "2020-08-02T04:00:00",
          "value": 23.7
         },
         {
          "ts": "2020-08-02T05:00:00",
          "value": 23.5
         },
         {
          "ts": "2020-08-02T06:00:00",
          "value": 23.7
         },
         {
          "ts": "2020-08-02T07:00:00",
          "value": 25.3
         },
         {
          "ts": "2020-08-02T08:00:00",
          "value": 28
         },
         {
          "ts": "2020-08-02T09:00:00",
          "value": 31.6
         },
         {
          "ts": "2020-08-02T10:00:00",
          "value": 35.2
         },
         {
          "ts": "2020-08-02T11:00:00",
          "value": 38.8
         },
         {
          "ts": "2020-08-02T12:00:00",
          "value": 42.5
         },
         {
          "ts": "2020-08-02T17:00:00",
          "value": 43.4
         },
         {
          "ts": "2020-08-02T18:00:00",
          "value": 38.7
         },
         {
          "ts": "2020-08-02T19:00:00",
          "value": 35
         },
         {
          "ts": "2020-08-02T20:00:00",
          "value": 31.9
         },
         {
          "ts": "2020-08-02T21:00:00",
          "value": 30.2
         },
         {
          "ts": "2020-08-02T22:00:00",
          "value": 29
         },
         {
          "ts": "2020-08-02T23:00:00",
          "value": 28.4
         },
         {
          "ts": "2020-08-03T00:00:00",
          "value": 28.4
         },
         {
          "ts": "2020-08-03T01:00:00",
          "value": 27.4
         },
         {
          "ts": "2020-08-03T02:00:00",
          "value": 26.6
         },
         {
          "ts": "2020-08-03T03:00:00",
          "value": 25.9
         },
         {
          "ts": "2020-08-03T04:00:00",
          "value": 25.4
         },
         {
          "ts": "2020-08-03T05:00:00",
          "value": 24.8
         },
         {
          "ts": "2020-08-03T06:00:00",
          "value": 25.1
         },
         {
          "ts": "2020-08-03T07:00:00",
          "value": 25.9
         },
         {
          "ts": "2020-08-03T08:00:00",
          "value": 28.2
         },
         {
          "ts": "2020-08-03T09:00:00",
          "value": 33.3
         },
         {
          "ts": "2020-08-03T10:00:00",
          "value": 37.1
         },
         {
          "ts": "2020-08-03T11:00:00",
          "value": 41
         },
         {
          "ts": "2020-08-03T12:00:00",
          "value": 45.1
         },
         {
          "ts": "2020-08-03T16:00:00",
          "value": 43.3
         },
         {
          "ts": "2020-08-03T17:00:00",
          "value": 40.6
         },
         {
          "ts": "2020-08-03T18:00:00",
          "value": 37.1
         },
         {
          "ts": "2020-08-03T19:00:00",
          "value": 34
         },
         {
          "ts": "2020-08-03T20:00:00",
          "value": 31.3
         },
         {
          "ts": "2020-08-03T21:00:00",
          "value": 29.5
         },
         {
          "ts": "2020-08-03T22:00:00",
          "value": 27.5
         },
         {
          "ts": "2020-08-03T23:00:00",
          "value": 27.7
         },
         {
          "ts": "2020-07-29T01:00:00",
          "value": 26.8
         },
         {
          "ts": "2020-07-29T02:00:00",
          "value": 26.7
         },
         {
          "ts": "2020-07-29T03:00:00",
          "value": 26.6
         },
         {
          "ts": "2020-07-29T04:00:00",
          "value": 26.5
         },
         {
          "ts": "2020-07-29T05:00:00",
          "value": 26.4
         },
         {
          "ts": "2020-07-29T06:00:00",
          "value": 26.3
         },
         {
          "ts": "2020-07-29T07:00:00",
          "value": 26.2
         },
         {
          "ts": "2020-07-29T08:00:00",
          "value": 26
         },
         {
          "ts": "2020-07-29T09:00:00",
          "value": 26
         },
         {
          "ts": "2020-07-29T10:00:00",
          "value": 25.9
         },
         {
          "ts": "2020-07-29T11:00:00",
          "value": 25.9
         },
         {
          "ts": "2020-07-29T12:00:00",
          "value": 25.9
         },
         {
          "ts": "2020-07-29T13:00:00",
          "value": 26
         },
         {
          "ts": "2020-07-29T14:00:00",
          "value": 26.2
         },
         {
          "ts": "2020-07-29T15:00:00",
          "value": 26.4
         },
         {
          "ts": "2020-07-29T16:00:00",
          "value": 26.6
         },
         {
          "ts": "2020-07-29T17:00:00",
          "value": 26.8
         },
         {
          "ts": "2020-07-29T18:00:00",
          "value": 26.9
         },
         {
          "ts": "2020-07-29T19:00:00",
          "value": 27
         },
         {
          "ts": "2020-07-29T20:00:00",
          "value": 27.1
         },
         {
          "ts": "2020-07-29T21:00:00",
          "value": 27.1
         },
         {
          "ts": "2020-07-29T22:00:00",
          "value": 27
         },
         {
          "ts": "2020-07-29T23:00:00",
          "value": 27
         },
         {
          "ts": "2020-07-30T00:00:00",
          "value": 26.9
         },
         {
          "ts": "2020-07-30T01:00:00",
          "value": 26.9
         },
         {
          "ts": "2020-07-30T02:00:00",
          "value": 26.8
         },
         {
          "ts": "2020-07-30T03:00:00",
          "value": 26.7
         },
         {
          "ts": "2020-07-30T04:00:00",
          "value": 26.7
         },
         {
          "ts": "2020-07-30T05:00:00",
          "value": 26.6
         },
         {
          "ts": "2020-07-30T06:00:00",
          "value": 26.5
         },
         {
          "ts": "2020-07-30T07:00:00",
          "value": 26.4
         },
         {
          "ts": "2020-07-30T08:00:00",
          "value": 26.4
         },
         {
          "ts": "2020-07-30T09:00:00",
          "value": 26.3
         },
         {
          "ts": "2020-07-30T10:00:00",
          "value": 26.3
         },
         {
          "ts": "2020-07-30T11:00:00",
          "value": 26.3
         },
         {
          "ts": "2020-07-30T12:00:00",
          "value": 26.3
         },
         {
          "ts": "2020-07-30T13:00:00",
          "value": 26.4
         },
         {
          "ts": "2020-07-30T14:00:00",
          "value": 26.6
         },
         {
          "ts": "2020-07-30T15:00:00",
          "value": 26.7
         },
         {
          "ts": "2020-07-30T16:00:00",
          "value": 26.9
         },
         {
          "ts": "2020-07-30T17:00:00",
          "value": 27.1
         },
         {
          "ts": "2020-07-30T18:00:00",
          "value": 27.2
         },
         {
          "ts": "2020-07-30T19:00:00",
          "value": 27.3
         },
         {
          "ts": "2020-07-30T20:00:00",
          "value": 27.3
         },
         {
          "ts": "2020-07-30T21:00:00",
          "value": 27.3
         },
         {
          "ts": "2020-07-30T22:00:00",
          "value": 27.3
         },
         {
          "ts": "2020-07-30T23:00:00",
          "value": 27.2
         },
         {
          "ts": "2020-07-31T00:00:00",
          "value": 27.1
         },
         {
          "ts": "2020-07-31T01:00:00",
          "value": 27
         },
         {
          "ts": "2020-07-31T02:00:00",
          "value": 27
         },
         {
          "ts": "2020-07-31T03:00:00",
          "value": 26.8
         },
         {
          "ts": "2020-07-31T04:00:00",
          "value": 26.8
         },
         {
          "ts": "2020-07-31T05:00:00",
          "value": 26.6
         },
         {
          "ts": "2020-07-31T06:00:00",
          "value": 26.5
         },
         {
          "ts": "2020-07-31T07:00:00",
          "value": 26.4
         },
         {
          "ts": "2020-07-31T08:00:00",
          "value": 26.4
         },
         {
          "ts": "2020-07-31T09:00:00",
          "value": 26.3
         },
         {
          "ts": "2020-07-31T10:00:00",
          "value": 26.2
         },
         {
          "ts": "2020-07-31T11:00:00",
          "value": 26.2
         },
         {
          "ts": "2020-07-31T12:00:00",
          "value": 26.2
         },
         {
          "ts": "2020-07-31T13:00:00",
          "value": 26.3
         },
         {
          "ts": "2020-07-31T14:00:00",
          "value": 26.4
         },
         {
          "ts": "2020-07-31T15:00:00",
          "value": 26.6
         },
         {
          "ts": "2020-07-31T16:00:00",
          "value": 26.7
         },
         {
          "ts": "2020-07-31T17:00:00",
          "value": 26.8
         },
         {
          "ts": "2020-07-31T18:00:00",
          "value": 26.8
         },
         {
          "ts": "2020-07-31T19:00:00",
          "value": 26.9
         },
         {
          "ts": "2020-07-31T20:00:00",
          "value": 26.9
         },
         {
          "ts": "2020-07-31T21:00:00",
          "value": 26.9
         },
         {
          "ts": "2020-07-31T22:00:00",
          "value": 26.9
         },
         {
          "ts": "2020-07-31T23:00:00",
          "value": 26.9
         },
         {
          "ts": "2020-08-01T00:00:00",
          "value": 26.8
         },
         {
          "ts": "2020-08-01T01:00:00",
          "value": 26.7
         },
         {
          "ts": "2020-08-01T02:00:00",
          "value": 26.7
         },
         {
          "ts": "2020-08-01T03:00:00",
          "value": 26.6
         },
         {
          "ts": "2020-08-01T04:00:00",
          "value": 26.5
         },
         {
          "ts": "2020-08-01T05:00:00",
          "value": 26.4
         },
         {
          "ts": "2020-08-01T06:00:00",
          "value": 26.4
         },
         {
          "ts": "2020-08-01T07:00:00",
          "value": 26.3
         },
         {
          "ts": "2020-08-01T08:00:00",
          "value": 26.2
         },
         {
          "ts": "2020-08-01T09:00:00",
          "value": 26.2
         },
         {
          "ts": "2020-08-01T10:00:00",
          "value": 26.1
         },
         {
          "ts": "2020-08-01T11:00:00",
          "value": 26.1
         },
         {
          "ts": "2020-08-01T12:00:00",
          "value": 26.2
         },
         {
          "ts": "2020-08-01T13:00:00",
          "value": 26.3
         },
         {
          "ts": "2020-08-01T14:00:00",
          "value": 26.4
         },
         {
          "ts": "2020-08-01T15:00:00",
          "value": 26.6
         },
         {
          "ts": "2020-08-01T16:00:00",
          "value": 26.8
         },
         {
          "ts": "2020-08-01T17:00:00",
          "value": 27
         },
         {
          "ts": "2020-08-01T18:00:00",
          "value": 27.2
         },
         {
          "ts": "2020-08-01T19:00:00",
          "value": 27.3
         },
         {
          "ts": "2020-08-01T20:00:00",
          "value": 27.3
         },
         {
          "ts": "2020-08-01T21:00:00",
          "value": 27.3
         },
         {
          "ts": "2020-08-01T22:00:00",
          "value": 27.3
         },
         {
          "ts": "2020-08-01T23:00:00",
          "value": 27.2
         },
         {
          "ts": "2020-08-02T00:00:00",
          "value": 27.1
         },
         {
          "ts": "2020-08-02T01:00:00",
          "value": 27
         },
         {
          "ts": "2020-08-02T02:00:00",
          "value": 26.9
         },
         {
          "ts": "2020-08-02T03:00:00",
          "value": 26.8
         },
         {
          "ts": "2020-08-02T04:00:00",
          "value": 26.7
         },
         {
          "ts": "2020-08-02T05:00:00",
          "value": 26.6
         },
         {
          "ts": "2020-08-02T06:00:00",
          "value": 26.5
         },
         {
          "ts": "2020-08-02T07:00:00",
          "value": 26.4
         },
         {
          "ts": "2020-08-02T08:00:00",
          "value": 26.3
         },
         {
          "ts": "2020-08-02T09:00:00",
          "value": 26.2
         },
         {
          "ts": "2020-08-02T10:00:00",
          "value": 26.1
         },
         {
          "ts": "2020-08-02T11:00:00",
          "value": 26.2
         },
         {
          "ts": "2020-08-02T12:00:00",
          "value": 26.2
         },
         {
          "ts": "2020-08-02T13:00:00",
          "value": 26.3
         },
         {
          "ts": "2020-08-02T14:00:00",
          "value": 26.5
         },
         {
          "ts": "2020-08-02T15:00:00",
          "value": 26.7
         },
         {
          "ts": "2020-08-02T16:00:00",
          "value": 27
         },
         {
          "ts": "2020-08-02T17:00:00",
          "value": 27.2
         },
         {
          "ts": "2020-08-02T18:00:00",
          "value": 27.4
         },
         {
          "ts": "2020-08-02T19:00:00",
          "value": 27.5
         },
         {
          "ts": "2020-08-02T20:00:00",
          "value": 27.6
         },
         {
          "ts": "2020-08-02T21:00:00",
          "value": 27.7
         },
         {
          "ts": "2020-08-02T22:00:00",
          "value": 27.7
         },
         {
          "ts": "2020-08-02T23:00:00",
          "value": 27.6
         },
         {
          "ts": "2020-08-03T00:00:00",
          "value": 27.5
         },
         {
          "ts": "2020-08-03T01:00:00",
          "value": 27.4
         },
         {
          "ts": "2020-08-03T02:00:00",
          "value": 27.3
         },
         {
          "ts": "2020-08-03T03:00:00",
          "value": 27.3
         },
         {
          "ts": "2020-08-03T04:00:00",
          "value": 27.2
         },
         {
          "ts": "2020-08-03T05:00:00",
          "value": 27.1
         },
         {
          "ts": "2020-08-03T06:00:00",
          "value": 27
         },
         {
          "ts": "2020-08-03T07:00:00",
          "value": 26.9
         },
         {
          "ts": "2020-08-03T08:00:00",
          "value": 26.8
         },
         {
          "ts": "2020-08-03T09:00:00",
          "value": 26.7
         },
         {
          "ts": "2020-08-03T10:00:00",
          "value": 26.6
         },
         {
          "ts": "2020-08-03T11:00:00",
          "value": 26.6
         },
         {
          "ts": "2020-08-03T12:00:00",
          "value": 26.6
         },
         {
          "ts": "2020-08-03T13:00:00",
          "value": 26.6
         },
         {
          "ts": "2020-08-03T14:00:00",
          "value": 26.8
         },
         {
          "ts": "2020-08-03T15:00:00",
          "value": 27
         },
         {
          "ts": "2020-08-03T16:00:00",
          "value": 27.2
         },
         {
          "ts": "2020-08-03T17:00:00",
          "value": 27.4
         },
         {
          "ts": "2020-08-03T18:00:00",
          "value": 27.6
         },
         {
          "ts": "2020-08-03T19:00:00",
          "value": 27.7
         },
         {
          "ts": "2020-08-03T20:00:00",
          "value": 27.8
         },
         {
          "ts": "2020-08-03T21:00:00",
          "value": 27.8
         },
         {
          "ts": "2020-08-03T22:00:00",
          "value": 27.8
         },
         {
          "ts": "2020-08-03T23:00:00",
          "value": 27.7
         },
         {
          "ts": "2020-07-29T01:00:00",
          "value": 23.5
         },
         {
          "ts": "2020-07-29T02:00:00",
          "value": 23.2
         },
         {
          "ts": "2020-07-29T03:00:00",
          "value": 22.6
         },
         {
          "ts": "2020-07-29T04:00:00",
          "value": 21.9
         },
         {
          "ts": "2020-07-29T05:00:00",
          "value": 21.7
         },
         {
          "ts": "2020-07-29T06:00:00",
          "value": 21.9
         },
         {
          "ts": "2020-07-29T07:00:00",
          "value": 23.3
         },
         {
          "ts": "2020-07-29T08:00:00",
          "value": 24.8
         },
         {
          "ts": "2020-07-29T09:00:00",
          "value": 26.2
         },
         {
          "ts": "2020-07-29T10:00:00",
          "value": 26.9
         },
         {
          "ts": "2020-07-29T11:00:00",
          "value": 27
         },
         {
          "ts": "2020-07-29T12:00:00",
          "value": 27.7
         },
         {
          "ts": "2020-07-29T13:00:00",
          "value": 28.6
         },
         {
          "ts": "2020-07-29T14:00:00",
          "value": 29.3
         },
         {
          "ts": "2020-07-29T15:00:00",
          "value": 29.8
         },
         {
          "ts": "2020-07-29T16:00:00",
          "value": 28.8
         },
         {
          "ts": "2020-07-29T17:00:00",
          "value": 28.4
         },
         {
          "ts": "2020-07-29T18:00:00",
          "value": 27.7
         },
         {
          "ts": "2020-07-29T19:00:00",
          "value": 26.7
         },
         {
          "ts": "2020-07-29T20:00:00",
          "value": 26
         },
         {
          "ts": "2020-07-29T21:00:00",
          "value": 25.9
         },
         {
          "ts": "2020-07-29T22:00:00",
          "value": 26
         },
         {
          "ts": "2020-07-29T23:00:00",
          "value": 26.1
         },
         {
          "ts": "2020-07-30T00:00:00",
          "value": 25.9
         },
         {
          "ts": "2020-07-30T01:00:00",
          "value": 25.9
         },
         {
          "ts": "2020-07-30T02:00:00",
          "value": 25.7
         },
         {
          "ts": "2020-07-30T03:00:00",
          "value": 25.6
         },
         {
          "ts": "2020-07-30T04:00:00",
          "value": 25.7
         },
         {
          "ts": "2020-07-30T05:00:00",
          "value": 25.2
         },
         {
          "ts": "2020-07-30T06:00:00",
          "value": 25.5
         },
         {
          "ts": "2020-07-30T07:00:00",
          "value": 26.3
         },
         {
          "ts": "2020-07-30T08:00:00",
          "value": 26.4
         },
         {
          "ts": "2020-07-30T09:00:00",
          "value": 27.9
         },
         {
          "ts": "2020-07-30T10:00:00",
          "value": 28.4
         },
         {
          "ts": "2020-07-30T11:00:00",
          "value": 29.1
         },
         {
          "ts": "2020-07-30T12:00:00",
          "value": 29.7
         },
         {
          "ts": "2020-07-30T13:00:00",
          "value": 28.9
         },
         {
          "ts": "2020-07-30T14:00:00",
          "value": 30.3
         },
         {
          "ts": "2020-07-30T15:00:00",
          "value": 29.7
         },
         {
          "ts": "2020-07-30T16:00:00",
          "value": 28.9
         },
         {
          "ts": "2020-07-30T17:00:00",
          "value": 28.9
         },
         {
          "ts": "2020-07-30T18:00:00",
          "value": 27.7
         },
         {
          "ts": "2020-07-30T19:00:00",
          "value": 25.9
         },
         {
          "ts": "2020-07-30T20:00:00",
          "value": 24.9
         },
         {
          "ts": "2020-07-30T21:00:00",
          "value": 24.7
         },
         {
          "ts": "2020-07-30T22:00:00",
          "value": 24.3
         },
         {
          "ts": "2020-07-30T23:00:00",
          "value": 24.4
         },
         {
          "ts": "2020-07-31T00:00:00",
          "value": 23.6
         },
         {
          "ts": "2020-07-31T01:00:00",
          "value": 23.6
         },
         {
          "ts": "2020-07-31T02:00:00",
          "value": 23.7
         },
         {
          "ts": "2020-07-31T03:00:00",
          "value": 23.7
         },
         {
          "ts": "2020-07-31T04:00:00",
          "value": 23.5
         },
         {
          "ts": "2020-07-31T05:00:00",
          "value": 23.4
         },
         {
          "ts": "2020-07-31T06:00:00",
          "value": 23.5
         },
         {
          "ts": "2020-07-31T07:00:00",
          "value": 24.3
         },
         {
          "ts": "2020-07-31T08:00:00",
          "value": 25.5
         },
         {
          "ts": "2020-07-31T09:00:00",
          "value": 27.4
         },
         {
          "ts": "2020-07-31T10:00:00",
          "value": 29
         },
         {
          "ts": "2020-07-31T11:00:00",
          "value": 29.4
         },
         {
          "ts": "2020-07-31T12:00:00",
          "value": 29.9
         },
         {
          "ts": "2020-07-31T13:00:00",
          "value": 28.4
         },
         {
          "ts": "2020-07-31T14:00:00",
          "value": 28.9
         },
         {
          "ts": "2020-07-31T15:00:00",
          "value": 28.8
         },
         {
          "ts": "2020-07-31T16:00:00",
          "value": 30.3
         },
         {
          "ts": "2020-07-31T17:00:00",
          "value": 29.9
         },
         {
          "ts": "2020-07-31T18:00:00",
          "value": 29
         },
         {
          "ts": "2020-07-31T19:00:00",
          "value": 26.9
         },
         {
          "ts": "2020-07-31T20:00:00",
          "value": 25.8
         },
         {
          "ts": "2020-07-31T21:00:00",
          "value": 25
         },
         {
          "ts": "2020-07-31T22:00:00",
          "value": 24.8
         },
         {
          "ts": "2020-07-31T23:00:00",
          "value": 24.9
         },
         {
          "ts": "2020-08-01T00:00:00",
          "value": 24.6
         },
         {
          "ts": "2020-08-01T01:00:00",
          "value": 24.5
         },
         {
          "ts": "2020-08-01T02:00:00",
          "value": 24.6
         },
         {
          "ts": "2020-08-01T03:00:00",
          "value": 24
         },
         {
          "ts": "2020-08-01T04:00:00",
          "value": 24
         },
         {
          "ts": "2020-08-01T05:00:00",
          "value": 23.7
         },
         {
          "ts": "2020-08-01T06:00:00",
          "value": 23.9
         },
         {
          "ts": "2020-08-01T07:00:00",
          "value": 24.8
         },
         {
          "ts": "2020-08-01T08:00:00",
          "value": 25.8
         },
         {
          "ts": "2020-08-01T09:00:00",
          "value": 27.1
         },
         {
          "ts": "2020-08-01T10:00:00",
          "value": 28.8
         },
         {
          "ts": "2020-08-01T11:00:00",
          "value": 29.9
         },
         {
          "ts": "2020-08-01T12:00:00",
          "value": 29.5
         },
         {
          "ts": "2020-08-01T13:00:00",
          "value": 29.7
         },
         {
          "ts": "2020-08-01T14:00:00",
          "value": 31.7
         },
         {
          "ts": "2020-08-01T15:00:00",
          "value": 31.7
         },
         {
          "ts": "2020-08-01T16:00:00",
          "value": 32.7
         },
         {
          "ts": "2020-08-01T17:00:00",
          "value": 30.6
         },
         {
          "ts": "2020-08-01T18:00:00",
          "value": 29.9
         },
         {
          "ts": "2020-08-01T19:00:00",
          "value": 27.8
         },
         {
          "ts": "2020-08-01T20:00:00",
          "value": 26.9
         },
         {
          "ts": "2020-08-01T21:00:00",
          "value": 26.3
         },
         {
          "ts": "2020-08-01T22:00:00",
          "value": 26
         },
         {
          "ts": "2020-08-01T23:00:00",
          "value": 25.7
         },
         {
          "ts": "2020-08-02T00:00:00",
          "value": 24.7
         },
         {
          "ts": "2020-08-02T01:00:00",
          "value": 24.4
         },
         {
          "ts": "2020-08-02T02:00:00",
          "value": 25.3
         },
         {
          "ts": "2020-08-02T03:00:00",
          "value": 24.4
         },
         {
          "ts": "2020-08-02T04:00:00",
          "value": 24.3
         },
         {
          "ts": "2020-08-02T05:00:00",
          "value": 24
         },
         {
          "ts": "2020-08-02T06:00:00",
          "value": 24.7
         },
         {
          "ts": "2020-08-02T07:00:00",
          "value": 26.7
         },
         {
          "ts": "2020-08-02T08:00:00",
          "value": 28.9
         },
         {
          "ts": "2020-08-02T09:00:00",
          "value": 30
         },
         {
          "ts": "2020-08-02T10:00:00",
          "value": 31.2
         },
         {
          "ts": "2020-08-02T11:00:00",
          "value": 31.8
         },
         {
          "ts": "2020-08-02T12:00:00",
          "value": 32.8
         },
         {
          "ts": "2020-08-02T13:00:00",
          "value": 42.4
         },
         {
          "ts": "2020-08-02T14:00:00",
          "value": 43.7
         },
         {
          "ts": "2020-08-02T15:00:00",
          "value": 43.3
         },
         {
          "ts": "2020-08-02T16:00:00",
          "value": 42.1
         },
         {
          "ts": "2020-08-02T17:00:00",
          "value": 42.5
         },
         {
          "ts": "2020-08-02T18:00:00",
          "value": 36.6
         },
         {
          "ts": "2020-08-02T19:00:00",
          "value": 34.1
         },
         {
          "ts": "2020-08-02T20:00:00",
          "value": 31
         },
         {
          "ts": "2020-08-02T21:00:00",
          "value": 29.6
         },
         {
          "ts": "2020-08-02T22:00:00",
          "value": 29.9
         },
         {
          "ts": "2020-08-02T23:00:00",
          "value": 28.8
         },
         {
          "ts": "2020-08-03T00:00:00",
          "value": 30.8
         },
         {
          "ts": "2020-08-03T01:00:00",
          "value": 27.9
         },
         {
          "ts": "2020-08-03T02:00:00",
          "value": 26.8
         },
         {
          "ts": "2020-08-03T03:00:00",
          "value": 25.4
         },
         {
          "ts": "2020-08-03T04:00:00",
          "value": 24.3
         },
         {
          "ts": "2020-08-03T05:00:00",
          "value": 24
         },
         {
          "ts": "2020-08-03T06:00:00",
          "value": 23.8
         },
         {
          "ts": "2020-08-03T07:00:00",
          "value": 25.1
         },
         {
          "ts": "2020-08-03T08:00:00",
          "value": 27.7
         },
         {
          "ts": "2020-08-03T09:00:00",
          "value": 30.2
         },
         {
          "ts": "2020-08-03T10:00:00",
          "value": 31.2
         },
         {
          "ts": "2020-08-03T11:00:00",
          "value": 33.1
         },
         {
          "ts": "2020-08-03T12:00:00",
          "value": 35.1
         },
         {
          "ts": "2020-08-03T13:00:00",
          "value": 37.1
         },
         {
          "ts": "2020-08-03T14:00:00",
          "value": 37
         },
         {
          "ts": "2020-08-03T15:00:00",
          "value": 37.2
         },
         {
          "ts": "2020-08-03T16:00:00",
          "value": 36.2
         },
         {
          "ts": "2020-08-03T17:00:00",
          "value": 35
         },
         {
          "ts": "2020-08-03T18:00:00",
          "value": 33.6
         },
         {
          "ts": "2020-08-03T19:00:00",
          "value": 31.1
         },
         {
          "ts": "2020-08-03T20:00:00",
          "value": 29.6
         },
         {
          "ts": "2020-08-03T21:00:00",
          "value": 27
         },
         {
          "ts": "2020-08-03T22:00:00",
          "value": 25.3
         },
         {
          "ts": "2020-08-03T23:00:00",
          "value": 25.5
         }
        ]
       },
       "encoding": {
        "x": {
         "field": "ts",
         "type": "temporal"
        },
        "y": {
         "field": "value",
         "type": "quantitative"
        }
       },
       "height": 600,
       "mark": "point",
       "width": 600
      },
      "text/plain": [
       "@vlplot(\n",
       "    width=600,\n",
       "    height=600,\n",
       "    mark=\"point\",\n",
       "    encoding={\n",
       "        x={\n",
       "            field=\"ts\"\n",
       "        },\n",
       "        y={\n",
       "            field=\"value\"\n",
       "        }\n",
       "    },\n",
       "    data={\n",
       "        values=...\n",
       "    }\n",
       ")"
      ]
     },
     "execution_count": 22,
     "metadata": {},
     "output_type": "execute_result"
    }
   ],
   "source": [
    "data |> (d -> select(d, [:ts, :value])) |> @vlplot(\n",
    "    :point, \n",
    "    x=:ts, \n",
    "    y=:value,\n",
    "    width=600,\n",
    "    height=600\n",
    ")"
   ]
  }
 ],
 "metadata": {
  "kernelspec": {
   "display_name": "Julia 1.8.5",
   "language": "julia",
   "name": "julia-1.8"
  },
  "language_info": {
   "file_extension": ".jl",
   "mimetype": "application/julia",
   "name": "julia",
   "version": "1.8.5"
  },
  "orig_nbformat": 4
 },
 "nbformat": 4,
 "nbformat_minor": 2
}
