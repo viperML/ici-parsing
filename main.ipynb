{
 "cells": [
  {
   "attachments": {},
   "cell_type": "markdown",
   "metadata": {},
   "source": [
    "## Instrumentación computacional inteligente\n",
    "## Estudio de datos de estaciones meteorológicas\n",
    "\n",
    "### Fernando Ayats Llamas\n",
    "### 2023-04-11"
   ]
  },
  {
   "cell_type": "code",
   "execution_count": 1,
   "metadata": {
    "tags": [
     "hide-cell"
    ]
   },
   "outputs": [
    {
     "name": "stderr",
     "output_type": "stream",
     "text": [
      "\u001b[32m\u001b[1m  Activating\u001b[22m\u001b[39m project at `c:\\Users\\ayats\\Documents\\ici-parsing`\n"
     ]
    },
    {
     "data": {
      "application/vnd.webio.node+json": {
       "children": [],
       "instanceArgs": {
        "namespace": "html",
        "tag": "div"
       },
       "nodeType": "DOM",
       "props": {},
       "type": "node"
      },
      "text/html": [
       "<div style=\"padding: 1em; background-color: #f8d6da; border: 1px solid #f5c6cb; font-weight: bold;\">\n",
       "<p>The WebIO Jupyter extension was not detected. See the\n",
       "<a href=\"https://juliagizmos.github.io/WebIO.jl/latest/providers/ijulia/\" target=\"_blank\">\n",
       "    WebIO Jupyter integration documentation\n",
       "</a>\n",
       "for more information.\n",
       "</div>\n"
      ],
      "text/plain": [
       "WebIO._IJuliaInit()"
      ]
     },
     "metadata": {},
     "output_type": "display_data"
    }
   ],
   "source": [
    "using Pkg\n",
    "Pkg.activate(@__DIR__);\n",
    "Pkg.instantiate()\n",
    "\n",
    "using PlotlyJS\n",
    "using CSV, DataFrames\n",
    "\n",
    "import Dates: DateTime"
   ]
  },
  {
   "cell_type": "code",
   "execution_count": 2,
   "metadata": {},
   "outputs": [
    {
     "data": {
      "text/html": [
       "<div><div style = \"float: left;\"><span>120×2 DataFrame</span></div><div style = \"float: right;\"><span style = \"font-style: italic;\">95 rows omitted</span></div><div style = \"clear: both;\"></div></div><div class = \"data-frame\" style = \"overflow-x: scroll;\"><table class = \"data-frame\" style = \"margin-bottom: 6px;\"><thead><tr class = \"header\"><th class = \"rowNumber\" style = \"font-weight: bold; text-align: right;\">Row</th><th style = \"text-align: left;\">value</th><th style = \"text-align: left;\">ts</th></tr><tr class = \"subheader headerLastRow\"><th class = \"rowNumber\" style = \"font-weight: bold; text-align: right;\"></th><th title = \"Float64\" style = \"text-align: left;\">Float64</th><th title = \"DateTime\" style = \"text-align: left;\">DateTime</th></tr></thead><tbody><tr><td class = \"rowNumber\" style = \"font-weight: bold; text-align: right;\">1</td><td style = \"text-align: right;\">5.4</td><td style = \"text-align: left;\">2021-01-01T01:00:00</td></tr><tr><td class = \"rowNumber\" style = \"font-weight: bold; text-align: right;\">2</td><td style = \"text-align: right;\">4.2</td><td style = \"text-align: left;\">2021-01-01T02:00:00</td></tr><tr><td class = \"rowNumber\" style = \"font-weight: bold; text-align: right;\">3</td><td style = \"text-align: right;\">4.1</td><td style = \"text-align: left;\">2021-01-01T03:00:00</td></tr><tr><td class = \"rowNumber\" style = \"font-weight: bold; text-align: right;\">4</td><td style = \"text-align: right;\">4.1</td><td style = \"text-align: left;\">2021-01-01T04:00:00</td></tr><tr><td class = \"rowNumber\" style = \"font-weight: bold; text-align: right;\">5</td><td style = \"text-align: right;\">3.8</td><td style = \"text-align: left;\">2021-01-01T05:00:00</td></tr><tr><td class = \"rowNumber\" style = \"font-weight: bold; text-align: right;\">6</td><td style = \"text-align: right;\">3.3</td><td style = \"text-align: left;\">2021-01-01T06:00:00</td></tr><tr><td class = \"rowNumber\" style = \"font-weight: bold; text-align: right;\">7</td><td style = \"text-align: right;\">2.7</td><td style = \"text-align: left;\">2021-01-01T07:00:00</td></tr><tr><td class = \"rowNumber\" style = \"font-weight: bold; text-align: right;\">8</td><td style = \"text-align: right;\">2.9</td><td style = \"text-align: left;\">2021-01-01T08:00:00</td></tr><tr><td class = \"rowNumber\" style = \"font-weight: bold; text-align: right;\">9</td><td style = \"text-align: right;\">3.6</td><td style = \"text-align: left;\">2021-01-01T09:00:00</td></tr><tr><td class = \"rowNumber\" style = \"font-weight: bold; text-align: right;\">10</td><td style = \"text-align: right;\">4.2</td><td style = \"text-align: left;\">2021-01-01T10:00:00</td></tr><tr><td class = \"rowNumber\" style = \"font-weight: bold; text-align: right;\">11</td><td style = \"text-align: right;\">4.8</td><td style = \"text-align: left;\">2021-01-01T11:00:00</td></tr><tr><td class = \"rowNumber\" style = \"font-weight: bold; text-align: right;\">12</td><td style = \"text-align: right;\">5.5</td><td style = \"text-align: left;\">2021-01-01T12:00:00</td></tr><tr><td class = \"rowNumber\" style = \"font-weight: bold; text-align: right;\">13</td><td style = \"text-align: right;\">6.5</td><td style = \"text-align: left;\">2021-01-01T13:00:00</td></tr><tr><td style = \"text-align: right;\">&vellip;</td><td style = \"text-align: right;\">&vellip;</td><td style = \"text-align: right;\">&vellip;</td></tr><tr><td class = \"rowNumber\" style = \"font-weight: bold; text-align: right;\">109</td><td style = \"text-align: right;\">7.3</td><td style = \"text-align: left;\">2021-01-05T13:00:00</td></tr><tr><td class = \"rowNumber\" style = \"font-weight: bold; text-align: right;\">110</td><td style = \"text-align: right;\">6.6</td><td style = \"text-align: left;\">2021-01-05T14:00:00</td></tr><tr><td class = \"rowNumber\" style = \"font-weight: bold; text-align: right;\">111</td><td style = \"text-align: right;\">6.9</td><td style = \"text-align: left;\">2021-01-05T15:00:00</td></tr><tr><td class = \"rowNumber\" style = \"font-weight: bold; text-align: right;\">112</td><td style = \"text-align: right;\">6.1</td><td style = \"text-align: left;\">2021-01-05T16:00:00</td></tr><tr><td class = \"rowNumber\" style = \"font-weight: bold; text-align: right;\">113</td><td style = \"text-align: right;\">5.6</td><td style = \"text-align: left;\">2021-01-05T17:00:00</td></tr><tr><td class = \"rowNumber\" style = \"font-weight: bold; text-align: right;\">114</td><td style = \"text-align: right;\">5.1</td><td style = \"text-align: left;\">2021-01-05T18:00:00</td></tr><tr><td class = \"rowNumber\" style = \"font-weight: bold; text-align: right;\">115</td><td style = \"text-align: right;\">4.7</td><td style = \"text-align: left;\">2021-01-05T19:00:00</td></tr><tr><td class = \"rowNumber\" style = \"font-weight: bold; text-align: right;\">116</td><td style = \"text-align: right;\">3.9</td><td style = \"text-align: left;\">2021-01-05T20:00:00</td></tr><tr><td class = \"rowNumber\" style = \"font-weight: bold; text-align: right;\">117</td><td style = \"text-align: right;\">2.9</td><td style = \"text-align: left;\">2021-01-05T21:00:00</td></tr><tr><td class = \"rowNumber\" style = \"font-weight: bold; text-align: right;\">118</td><td style = \"text-align: right;\">1.5</td><td style = \"text-align: left;\">2021-01-05T22:00:00</td></tr><tr><td class = \"rowNumber\" style = \"font-weight: bold; text-align: right;\">119</td><td style = \"text-align: right;\">2.3</td><td style = \"text-align: left;\">2021-01-05T23:00:00</td></tr><tr><td class = \"rowNumber\" style = \"font-weight: bold; text-align: right;\">120</td><td style = \"text-align: right;\">2.3</td><td style = \"text-align: left;\">2021-01-06T00:00:00</td></tr></tbody></table></div>"
      ],
      "text/latex": [
       "\\begin{tabular}{r|cc}\n",
       "\t& value & ts\\\\\n",
       "\t\\hline\n",
       "\t& Float64 & DateTime\\\\\n",
       "\t\\hline\n",
       "\t1 & 5.4 & 2021-01-01T01:00:00 \\\\\n",
       "\t2 & 4.2 & 2021-01-01T02:00:00 \\\\\n",
       "\t3 & 4.1 & 2021-01-01T03:00:00 \\\\\n",
       "\t4 & 4.1 & 2021-01-01T04:00:00 \\\\\n",
       "\t5 & 3.8 & 2021-01-01T05:00:00 \\\\\n",
       "\t6 & 3.3 & 2021-01-01T06:00:00 \\\\\n",
       "\t7 & 2.7 & 2021-01-01T07:00:00 \\\\\n",
       "\t8 & 2.9 & 2021-01-01T08:00:00 \\\\\n",
       "\t9 & 3.6 & 2021-01-01T09:00:00 \\\\\n",
       "\t10 & 4.2 & 2021-01-01T10:00:00 \\\\\n",
       "\t11 & 4.8 & 2021-01-01T11:00:00 \\\\\n",
       "\t12 & 5.5 & 2021-01-01T12:00:00 \\\\\n",
       "\t13 & 6.5 & 2021-01-01T13:00:00 \\\\\n",
       "\t14 & 6.4 & 2021-01-01T14:00:00 \\\\\n",
       "\t15 & 4.3 & 2021-01-01T15:00:00 \\\\\n",
       "\t16 & 3.4 & 2021-01-01T16:00:00 \\\\\n",
       "\t17 & 3.5 & 2021-01-01T17:00:00 \\\\\n",
       "\t18 & 3.6 & 2021-01-01T18:00:00 \\\\\n",
       "\t19 & 3.6 & 2021-01-01T19:00:00 \\\\\n",
       "\t20 & 3.7 & 2021-01-01T20:00:00 \\\\\n",
       "\t21 & 3.7 & 2021-01-01T21:00:00 \\\\\n",
       "\t22 & 3.6 & 2021-01-01T22:00:00 \\\\\n",
       "\t23 & 3.5 & 2021-01-01T23:00:00 \\\\\n",
       "\t24 & 3.0 & 2021-01-02T00:00:00 \\\\\n",
       "\t25 & 2.4 & 2021-01-02T01:00:00 \\\\\n",
       "\t26 & 2.0 & 2021-01-02T02:00:00 \\\\\n",
       "\t27 & 1.6 & 2021-01-02T03:00:00 \\\\\n",
       "\t28 & 1.0 & 2021-01-02T04:00:00 \\\\\n",
       "\t29 & 0.4 & 2021-01-02T05:00:00 \\\\\n",
       "\t30 & 1.0 & 2021-01-02T06:00:00 \\\\\n",
       "\t$\\dots$ & $\\dots$ & $\\dots$ \\\\\n",
       "\\end{tabular}\n"
      ],
      "text/plain": [
       "\u001b[1m120×2 DataFrame\u001b[0m\n",
       "\u001b[1m Row \u001b[0m│\u001b[1m value   \u001b[0m\u001b[1m ts                  \u001b[0m\n",
       "     │\u001b[90m Float64 \u001b[0m\u001b[90m DateTime            \u001b[0m\n",
       "─────┼──────────────────────────────\n",
       "   1 │     5.4  2021-01-01T01:00:00\n",
       "   2 │     4.2  2021-01-01T02:00:00\n",
       "   3 │     4.1  2021-01-01T03:00:00\n",
       "   4 │     4.1  2021-01-01T04:00:00\n",
       "   5 │     3.8  2021-01-01T05:00:00\n",
       "   6 │     3.3  2021-01-01T06:00:00\n",
       "   7 │     2.7  2021-01-01T07:00:00\n",
       "   8 │     2.9  2021-01-01T08:00:00\n",
       "   9 │     3.6  2021-01-01T09:00:00\n",
       "  10 │     4.2  2021-01-01T10:00:00\n",
       "  11 │     4.8  2021-01-01T11:00:00\n",
       "  ⋮  │    ⋮              ⋮\n",
       " 111 │     6.9  2021-01-05T15:00:00\n",
       " 112 │     6.1  2021-01-05T16:00:00\n",
       " 113 │     5.6  2021-01-05T17:00:00\n",
       " 114 │     5.1  2021-01-05T18:00:00\n",
       " 115 │     4.7  2021-01-05T19:00:00\n",
       " 116 │     3.9  2021-01-05T20:00:00\n",
       " 117 │     2.9  2021-01-05T21:00:00\n",
       " 118 │     1.5  2021-01-05T22:00:00\n",
       " 119 │     2.3  2021-01-05T23:00:00\n",
       " 120 │     2.3  2021-01-06T00:00:00\n",
       "\u001b[36m                     99 rows omitted\u001b[0m"
      ]
     },
     "execution_count": 2,
     "metadata": {},
     "output_type": "execute_result"
    }
   ],
   "source": [
    "data = CSV.File(\n",
    "    open(\"data/Grazalema_AEMET_2021-2022.csv\");\n",
    "    normalizenames=true,\n",
    "    select=[:ts, :value],\n",
    "    types=Dict(:ts => DateTime),\n",
    "    dateformat=\"yyyy-mm-dd HH:MM:SS.s\"\n",
    ") |> DataFrame\n",
    "\n",
    "data = data[1:24*5, :]"
   ]
  },
  {
   "cell_type": "code",
   "execution_count": 4,
   "metadata": {},
   "outputs": [
    {
     "data": {
      "application/vnd.plotly.v1+json": {
       "config": {
        "editable": false,
        "responsive": true,
        "scrollZoom": true,
        "showLink": false,
        "staticPlot": false
       },
       "data": [
        {
         "type": "scatter",
         "x": [
          "2021-01-01T01:00:00",
          "2021-01-01T02:00:00",
          "2021-01-01T03:00:00",
          "2021-01-01T04:00:00",
          "2021-01-01T05:00:00",
          "2021-01-01T06:00:00",
          "2021-01-01T07:00:00",
          "2021-01-01T08:00:00",
          "2021-01-01T09:00:00",
          "2021-01-01T10:00:00",
          "2021-01-01T11:00:00",
          "2021-01-01T12:00:00",
          "2021-01-01T13:00:00",
          "2021-01-01T14:00:00",
          "2021-01-01T15:00:00",
          "2021-01-01T16:00:00",
          "2021-01-01T17:00:00",
          "2021-01-01T18:00:00",
          "2021-01-01T19:00:00",
          "2021-01-01T20:00:00",
          "2021-01-01T21:00:00",
          "2021-01-01T22:00:00",
          "2021-01-01T23:00:00",
          "2021-01-02T00:00:00",
          "2021-01-02T01:00:00",
          "2021-01-02T02:00:00",
          "2021-01-02T03:00:00",
          "2021-01-02T04:00:00",
          "2021-01-02T05:00:00",
          "2021-01-02T06:00:00",
          "2021-01-02T07:00:00",
          "2021-01-02T08:00:00",
          "2021-01-02T09:00:00",
          "2021-01-02T10:00:00",
          "2021-01-02T11:00:00",
          "2021-01-02T12:00:00",
          "2021-01-02T13:00:00",
          "2021-01-02T14:00:00",
          "2021-01-02T15:00:00",
          "2021-01-02T16:00:00",
          "2021-01-02T17:00:00",
          "2021-01-02T18:00:00",
          "2021-01-02T19:00:00",
          "2021-01-02T20:00:00",
          "2021-01-02T21:00:00",
          "2021-01-02T22:00:00",
          "2021-01-02T23:00:00",
          "2021-01-03T00:00:00",
          "2021-01-03T01:00:00",
          "2021-01-03T02:00:00",
          "2021-01-03T03:00:00",
          "2021-01-03T04:00:00",
          "2021-01-03T05:00:00",
          "2021-01-03T06:00:00",
          "2021-01-03T07:00:00",
          "2021-01-03T08:00:00",
          "2021-01-03T09:00:00",
          "2021-01-03T10:00:00",
          "2021-01-03T11:00:00",
          "2021-01-03T12:00:00",
          "2021-01-03T13:00:00",
          "2021-01-03T14:00:00",
          "2021-01-03T15:00:00",
          "2021-01-03T16:00:00",
          "2021-01-03T17:00:00",
          "2021-01-03T18:00:00",
          "2021-01-03T19:00:00",
          "2021-01-03T20:00:00",
          "2021-01-03T21:00:00",
          "2021-01-03T22:00:00",
          "2021-01-03T23:00:00",
          "2021-01-04T00:00:00",
          "2021-01-04T01:00:00",
          "2021-01-04T02:00:00",
          "2021-01-04T03:00:00",
          "2021-01-04T04:00:00",
          "2021-01-04T05:00:00",
          "2021-01-04T06:00:00",
          "2021-01-04T07:00:00",
          "2021-01-04T08:00:00",
          "2021-01-04T09:00:00",
          "2021-01-04T10:00:00",
          "2021-01-04T11:00:00",
          "2021-01-04T12:00:00",
          "2021-01-04T13:00:00",
          "2021-01-04T14:00:00",
          "2021-01-04T15:00:00",
          "2021-01-04T16:00:00",
          "2021-01-04T17:00:00",
          "2021-01-04T18:00:00",
          "2021-01-04T19:00:00",
          "2021-01-04T20:00:00",
          "2021-01-04T21:00:00",
          "2021-01-04T22:00:00",
          "2021-01-04T23:00:00",
          "2021-01-05T00:00:00",
          "2021-01-05T01:00:00",
          "2021-01-05T02:00:00",
          "2021-01-05T03:00:00",
          "2021-01-05T04:00:00",
          "2021-01-05T05:00:00",
          "2021-01-05T06:00:00",
          "2021-01-05T07:00:00",
          "2021-01-05T08:00:00",
          "2021-01-05T09:00:00",
          "2021-01-05T10:00:00",
          "2021-01-05T11:00:00",
          "2021-01-05T12:00:00",
          "2021-01-05T13:00:00",
          "2021-01-05T14:00:00",
          "2021-01-05T15:00:00",
          "2021-01-05T16:00:00",
          "2021-01-05T17:00:00",
          "2021-01-05T18:00:00",
          "2021-01-05T19:00:00",
          "2021-01-05T20:00:00",
          "2021-01-05T21:00:00",
          "2021-01-05T22:00:00",
          "2021-01-05T23:00:00",
          "2021-01-06T00:00:00"
         ],
         "xaxis": "x",
         "y": [
          5.4,
          4.2,
          4.1,
          4.1,
          3.8,
          3.3,
          2.7,
          2.9,
          3.6,
          4.2,
          4.8,
          5.5,
          6.5,
          6.4,
          4.3,
          3.4,
          3.5,
          3.6,
          3.6,
          3.7,
          3.7,
          3.6,
          3.5,
          3,
          2.4,
          2,
          1.6,
          1,
          0.4,
          1,
          1,
          1.4,
          2.7,
          4.4,
          5.3,
          6.1,
          6.2,
          6.3,
          4.7,
          3.4,
          2.3,
          2,
          1.7,
          2.3,
          2.5,
          1.4,
          1.1,
          1.3,
          0.7,
          -0.9,
          -1.1,
          -1.9,
          -1.5,
          0.3,
          0.4,
          1.2,
          3.5,
          4.4,
          5,
          5.8,
          6,
          6.7,
          4.5,
          3.2,
          2.3,
          1.2,
          1,
          0.7,
          0.3,
          0.6,
          0.8,
          0.5,
          1.2,
          1.3,
          1.4,
          1.9,
          1,
          1.9,
          2,
          1.9,
          4,
          4.1,
          5.8,
          6.1,
          5.9,
          5.4,
          4.6,
          4.2,
          3.5,
          1.4,
          0.9,
          1.5,
          1.2,
          2,
          3,
          2.7,
          2.3,
          2.6,
          2.7,
          3,
          3.1,
          2.8,
          1.6,
          1.1,
          3.4,
          5.6,
          6.6,
          7.6,
          7.3,
          6.6,
          6.9,
          6.1,
          5.6,
          5.1,
          4.7,
          3.9,
          2.9,
          1.5,
          2.3,
          2.3
         ],
         "yaxis": "y"
        }
       ],
       "frames": [],
       "layout": {
        "legend": {
         "tracegroupgap": 0
        },
        "margin": {
         "b": 50,
         "l": 50,
         "r": 50,
         "t": 60
        },
        "template": {
         "data": {
          "bar": [
           {
            "error_x": {
             "color": "#2a3f5f"
            },
            "error_y": {
             "color": "#2a3f5f"
            },
            "marker": {
             "line": {
              "color": "#E5ECF6",
              "width": 0.5
             }
            },
            "type": "bar"
           }
          ],
          "barpolar": [
           {
            "marker": {
             "line": {
              "color": "#E5ECF6",
              "width": 0.5
             }
            },
            "type": "barpolar"
           }
          ],
          "carpet": [
           {
            "aaxis": {
             "endlinecolor": "#2a3f5f",
             "gridcolor": "white",
             "linecolor": "white",
             "minorgridcolor": "white",
             "startlinecolor": "#2a3f5f"
            },
            "baxis": {
             "endlinecolor": "#2a3f5f",
             "gridcolor": "white",
             "linecolor": "white",
             "minorgridcolor": "white",
             "startlinecolor": "#2a3f5f"
            },
            "type": "carpet"
           }
          ],
          "choropleth": [
           {
            "colorbar": {
             "outlinewidth": 0,
             "ticks": ""
            },
            "type": "choropleth"
           }
          ],
          "contour": [
           {
            "colorbar": {
             "outlinewidth": 0,
             "ticks": ""
            },
            "colorscale": [
             [
              0,
              "#0d0887"
             ],
             [
              0.1111111111111111,
              "#46039f"
             ],
             [
              0.2222222222222222,
              "#7201a8"
             ],
             [
              0.3333333333333333,
              "#9c179e"
             ],
             [
              0.4444444444444444,
              "#bd3786"
             ],
             [
              0.5555555555555556,
              "#d8576b"
             ],
             [
              0.6666666666666666,
              "#ed7953"
             ],
             [
              0.7777777777777778,
              "#fb9f3a"
             ],
             [
              0.8888888888888888,
              "#fdca26"
             ],
             [
              1,
              "#f0f921"
             ]
            ],
            "type": "contour"
           }
          ],
          "contourcarpet": [
           {
            "colorbar": {
             "outlinewidth": 0,
             "ticks": ""
            },
            "type": "contourcarpet"
           }
          ],
          "heatmap": [
           {
            "colorbar": {
             "outlinewidth": 0,
             "ticks": ""
            },
            "colorscale": [
             [
              0,
              "#0d0887"
             ],
             [
              0.1111111111111111,
              "#46039f"
             ],
             [
              0.2222222222222222,
              "#7201a8"
             ],
             [
              0.3333333333333333,
              "#9c179e"
             ],
             [
              0.4444444444444444,
              "#bd3786"
             ],
             [
              0.5555555555555556,
              "#d8576b"
             ],
             [
              0.6666666666666666,
              "#ed7953"
             ],
             [
              0.7777777777777778,
              "#fb9f3a"
             ],
             [
              0.8888888888888888,
              "#fdca26"
             ],
             [
              1,
              "#f0f921"
             ]
            ],
            "type": "heatmap"
           }
          ],
          "heatmapgl": [
           {
            "colorbar": {
             "outlinewidth": 0,
             "ticks": ""
            },
            "colorscale": [
             [
              0,
              "#0d0887"
             ],
             [
              0.1111111111111111,
              "#46039f"
             ],
             [
              0.2222222222222222,
              "#7201a8"
             ],
             [
              0.3333333333333333,
              "#9c179e"
             ],
             [
              0.4444444444444444,
              "#bd3786"
             ],
             [
              0.5555555555555556,
              "#d8576b"
             ],
             [
              0.6666666666666666,
              "#ed7953"
             ],
             [
              0.7777777777777778,
              "#fb9f3a"
             ],
             [
              0.8888888888888888,
              "#fdca26"
             ],
             [
              1,
              "#f0f921"
             ]
            ],
            "type": "heatmapgl"
           }
          ],
          "histogram": [
           {
            "marker": {
             "colorbar": {
              "outlinewidth": 0,
              "ticks": ""
             }
            },
            "type": "histogram"
           }
          ],
          "histogram2d": [
           {
            "colorbar": {
             "outlinewidth": 0,
             "ticks": ""
            },
            "colorscale": [
             [
              0,
              "#0d0887"
             ],
             [
              0.1111111111111111,
              "#46039f"
             ],
             [
              0.2222222222222222,
              "#7201a8"
             ],
             [
              0.3333333333333333,
              "#9c179e"
             ],
             [
              0.4444444444444444,
              "#bd3786"
             ],
             [
              0.5555555555555556,
              "#d8576b"
             ],
             [
              0.6666666666666666,
              "#ed7953"
             ],
             [
              0.7777777777777778,
              "#fb9f3a"
             ],
             [
              0.8888888888888888,
              "#fdca26"
             ],
             [
              1,
              "#f0f921"
             ]
            ],
            "type": "histogram2d"
           }
          ],
          "histogram2dcontour": [
           {
            "colorbar": {
             "outlinewidth": 0,
             "ticks": ""
            },
            "colorscale": [
             [
              0,
              "#0d0887"
             ],
             [
              0.1111111111111111,
              "#46039f"
             ],
             [
              0.2222222222222222,
              "#7201a8"
             ],
             [
              0.3333333333333333,
              "#9c179e"
             ],
             [
              0.4444444444444444,
              "#bd3786"
             ],
             [
              0.5555555555555556,
              "#d8576b"
             ],
             [
              0.6666666666666666,
              "#ed7953"
             ],
             [
              0.7777777777777778,
              "#fb9f3a"
             ],
             [
              0.8888888888888888,
              "#fdca26"
             ],
             [
              1,
              "#f0f921"
             ]
            ],
            "type": "histogram2dcontour"
           }
          ],
          "mesh3d": [
           {
            "colorbar": {
             "outlinewidth": 0,
             "ticks": ""
            },
            "type": "mesh3d"
           }
          ],
          "parcoords": [
           {
            "line": {
             "colorbar": {
              "outlinewidth": 0,
              "ticks": ""
             }
            },
            "type": "parcoords"
           }
          ],
          "pie": [
           {
            "automargin": true,
            "type": "pie"
           }
          ],
          "scatter": [
           {
            "marker": {
             "colorbar": {
              "outlinewidth": 0,
              "ticks": ""
             }
            },
            "type": "scatter"
           }
          ],
          "scatter3d": [
           {
            "line": {
             "colorbar": {
              "outlinewidth": 0,
              "ticks": ""
             }
            },
            "marker": {
             "colorbar": {
              "outlinewidth": 0,
              "ticks": ""
             }
            },
            "type": "scatter3d"
           }
          ],
          "scattercarpet": [
           {
            "marker": {
             "colorbar": {
              "outlinewidth": 0,
              "ticks": ""
             }
            },
            "type": "scattercarpet"
           }
          ],
          "scattergeo": [
           {
            "marker": {
             "colorbar": {
              "outlinewidth": 0,
              "ticks": ""
             }
            },
            "type": "scattergeo"
           }
          ],
          "scattergl": [
           {
            "marker": {
             "colorbar": {
              "outlinewidth": 0,
              "ticks": ""
             }
            },
            "type": "scattergl"
           }
          ],
          "scattermapbox": [
           {
            "marker": {
             "colorbar": {
              "outlinewidth": 0,
              "ticks": ""
             }
            },
            "type": "scattermapbox"
           }
          ],
          "scatterpolar": [
           {
            "marker": {
             "colorbar": {
              "outlinewidth": 0,
              "ticks": ""
             }
            },
            "type": "scatterpolar"
           }
          ],
          "scatterpolargl": [
           {
            "marker": {
             "colorbar": {
              "outlinewidth": 0,
              "ticks": ""
             }
            },
            "type": "scatterpolargl"
           }
          ],
          "scatterternary": [
           {
            "marker": {
             "colorbar": {
              "outlinewidth": 0,
              "ticks": ""
             }
            },
            "type": "scatterternary"
           }
          ],
          "surface": [
           {
            "colorbar": {
             "outlinewidth": 0,
             "ticks": ""
            },
            "colorscale": [
             [
              0,
              "#0d0887"
             ],
             [
              0.1111111111111111,
              "#46039f"
             ],
             [
              0.2222222222222222,
              "#7201a8"
             ],
             [
              0.3333333333333333,
              "#9c179e"
             ],
             [
              0.4444444444444444,
              "#bd3786"
             ],
             [
              0.5555555555555556,
              "#d8576b"
             ],
             [
              0.6666666666666666,
              "#ed7953"
             ],
             [
              0.7777777777777778,
              "#fb9f3a"
             ],
             [
              0.8888888888888888,
              "#fdca26"
             ],
             [
              1,
              "#f0f921"
             ]
            ],
            "type": "surface"
           }
          ],
          "table": [
           {
            "cells": {
             "fill": {
              "color": "#EBF0F8"
             },
             "line": {
              "color": "white"
             }
            },
            "header": {
             "fill": {
              "color": "#C8D4E3"
             },
             "line": {
              "color": "white"
             }
            },
            "type": "table"
           }
          ]
         },
         "layout": {
          "annotationdefaults": {
           "arrowcolor": "#2a3f5f",
           "arrowhead": 0,
           "arrowwidth": 1
          },
          "autotypenumbers": "strict",
          "coloraxis": {
           "colorbar": {
            "outlinewidth": 0,
            "ticks": ""
           }
          },
          "colorscale": {
           "diverging": [
            [
             0,
             "#8e0152"
            ],
            [
             0.1,
             "#c51b7d"
            ],
            [
             0.2,
             "#de77ae"
            ],
            [
             0.3,
             "#f1b6da"
            ],
            [
             0.4,
             "#fde0ef"
            ],
            [
             0.5,
             "#f7f7f7"
            ],
            [
             0.6,
             "#e6f5d0"
            ],
            [
             0.7,
             "#b8e186"
            ],
            [
             0.8,
             "#7fbc41"
            ],
            [
             0.9,
             "#4d9221"
            ],
            [
             1,
             "#276419"
            ]
           ],
           "sequential": [
            [
             0,
             "#0d0887"
            ],
            [
             0.1111111111111111,
             "#46039f"
            ],
            [
             0.2222222222222222,
             "#7201a8"
            ],
            [
             0.3333333333333333,
             "#9c179e"
            ],
            [
             0.4444444444444444,
             "#bd3786"
            ],
            [
             0.5555555555555556,
             "#d8576b"
            ],
            [
             0.6666666666666666,
             "#ed7953"
            ],
            [
             0.7777777777777778,
             "#fb9f3a"
            ],
            [
             0.8888888888888888,
             "#fdca26"
            ],
            [
             1,
             "#f0f921"
            ]
           ],
           "sequentialminus": [
            [
             0,
             "#0d0887"
            ],
            [
             0.1111111111111111,
             "#46039f"
            ],
            [
             0.2222222222222222,
             "#7201a8"
            ],
            [
             0.3333333333333333,
             "#9c179e"
            ],
            [
             0.4444444444444444,
             "#bd3786"
            ],
            [
             0.5555555555555556,
             "#d8576b"
            ],
            [
             0.6666666666666666,
             "#ed7953"
            ],
            [
             0.7777777777777778,
             "#fb9f3a"
            ],
            [
             0.8888888888888888,
             "#fdca26"
            ],
            [
             1,
             "#f0f921"
            ]
           ]
          },
          "colorway": [
           "#636efa",
           "#EF553B",
           "#00cc96",
           "#ab63fa",
           "#FFA15A",
           "#19d3f3",
           "#FF6692",
           "#B6E880",
           "#FF97FF",
           "#FECB52"
          ],
          "font": {
           "color": "#2a3f5f"
          },
          "geo": {
           "bgcolor": "white",
           "lakecolor": "white",
           "landcolor": "#E5ECF6",
           "showlakes": true,
           "showland": true,
           "subunitcolor": "white"
          },
          "hoverlabel": {
           "align": "left"
          },
          "hovermode": "closest",
          "mapbox": {
           "style": "light"
          },
          "paper_bgcolor": "white",
          "plot_bgcolor": "#E5ECF6",
          "polar": {
           "angularaxis": {
            "gridcolor": "white",
            "linecolor": "white",
            "ticks": ""
           },
           "bgcolor": "#E5ECF6",
           "radialaxis": {
            "gridcolor": "white",
            "linecolor": "white",
            "ticks": ""
           }
          },
          "scene": {
           "xaxis": {
            "backgroundcolor": "#E5ECF6",
            "gridcolor": "white",
            "gridwidth": 2,
            "linecolor": "white",
            "showbackground": true,
            "ticks": "",
            "zerolinecolor": "white"
           },
           "yaxis": {
            "backgroundcolor": "#E5ECF6",
            "gridcolor": "white",
            "gridwidth": 2,
            "linecolor": "white",
            "showbackground": true,
            "ticks": "",
            "zerolinecolor": "white"
           },
           "zaxis": {
            "backgroundcolor": "#E5ECF6",
            "gridcolor": "white",
            "gridwidth": 2,
            "linecolor": "white",
            "showbackground": true,
            "ticks": "",
            "zerolinecolor": "white"
           }
          },
          "shapedefaults": {
           "line": {
            "color": "#2a3f5f"
           }
          },
          "ternary": {
           "aaxis": {
            "gridcolor": "white",
            "linecolor": "white",
            "ticks": ""
           },
           "baxis": {
            "gridcolor": "white",
            "linecolor": "white",
            "ticks": ""
           },
           "bgcolor": "#E5ECF6",
           "caxis": {
            "gridcolor": "white",
            "linecolor": "white",
            "ticks": ""
           }
          },
          "title": {
           "x": 0.05
          },
          "xaxis": {
           "automargin": true,
           "gridcolor": "white",
           "linecolor": "white",
           "ticks": "",
           "title": {
            "standoff": 15
           },
           "zerolinecolor": "white",
           "zerolinewidth": 2
          },
          "yaxis": {
           "automargin": true,
           "gridcolor": "white",
           "linecolor": "white",
           "ticks": "",
           "title": {
            "standoff": 15
           },
           "zerolinecolor": "white",
           "zerolinewidth": 2
          }
         }
        },
        "xaxis": {
         "title": {
          "text": "ts"
         }
        },
        "yaxis": {
         "title": {
          "text": "value"
         }
        }
       }
      },
      "text/html": [
       "<div\n",
       "    class=\"webio-mountpoint\"\n",
       "    data-webio-mountpoint=\"15019378539826337291\"\n",
       ">\n",
       "    <script>\n",
       "    (function(){\n",
       "    // Some integrations (namely, IJulia/Jupyter) use an alternate render pathway than\n",
       "    // just putting the html on the page. If WebIO isn't defined, then it's pretty likely\n",
       "    // that we're in one of those situations and the integration just isn't installed\n",
       "    // correctly.\n",
       "    if (typeof window.WebIO === \"undefined\") {\n",
       "        document\n",
       "            .querySelector('[data-webio-mountpoint=\"15019378539826337291\"]')\n",
       "            .innerHTML = (\n",
       "                '<div style=\"padding: 1em; background-color: #f8d6da; border: 1px solid #f5c6cb; font-weight: bold;\">' +\n",
       "                '<p><strong>WebIO not detected.</strong></p>' +\n",
       "                '<p>Please read ' +\n",
       "                '<a href=\"https://juliagizmos.github.io/WebIO.jl/latest/troubleshooting/not-detected/\" target=\"_blank\">the troubleshooting guide</a> ' +\n",
       "                'for more information on how to resolve this issue.</p>' +\n",
       "                '<p><a href=\"https://juliagizmos.github.io/WebIO.jl/latest/troubleshooting/not-detected/\" target=\"_blank\">https://juliagizmos.github.io/WebIO.jl/latest/troubleshooting/not-detected/</a></p>' +\n",
       "                '</div>'\n",
       "            );\n",
       "        return;\n",
       "    }\n",
       "    WebIO.mount(\n",
       "        document.querySelector('[data-webio-mountpoint=\"15019378539826337291\"]'),\n",
       "        {\"props\":{},\"nodeType\":\"Scope\",\"type\":\"node\",\"instanceArgs\":{\"imports\":{\"data\":[{\"name\":\"Plotly\",\"type\":\"js\",\"url\":\"\\/assetserver\\/94bc3a2ffae8712a125270c78497a449a3cbfd1f-plotly.min.js\"},{\"name\":null,\"type\":\"js\",\"url\":\"\\/assetserver\\/71f21601054fa6cadfd8aff3b677aecf1c1653ab-plotly_webio.bundle.js\"}],\"type\":\"async_block\"},\"id\":\"5382174735536601955\",\"handlers\":{\"_toImage\":[\"(function (options){return this.Plotly.toImage(this.plotElem,options).then((function (data){return WebIO.setval({\\\"name\\\":\\\"image\\\",\\\"scope\\\":\\\"5382174735536601955\\\",\\\"id\\\":\\\"5034937559173228217\\\",\\\"type\\\":\\\"observable\\\"},data)}))})\"],\"__get_gd_contents\":[\"(function (prop){prop==\\\"data\\\" ? (WebIO.setval({\\\"name\\\":\\\"__gd_contents\\\",\\\"scope\\\":\\\"5382174735536601955\\\",\\\"id\\\":\\\"8575524951137732527\\\",\\\"type\\\":\\\"observable\\\"},this.plotElem.data)) : undefined; return prop==\\\"layout\\\" ? (WebIO.setval({\\\"name\\\":\\\"__gd_contents\\\",\\\"scope\\\":\\\"5382174735536601955\\\",\\\"id\\\":\\\"8575524951137732527\\\",\\\"type\\\":\\\"observable\\\"},this.plotElem.layout)) : undefined})\"],\"_downloadImage\":[\"(function (options){return this.Plotly.downloadImage(this.plotElem,options)})\"],\"_commands\":[\"(function (args){var fn=args.shift(); var elem=this.plotElem; var Plotly=this.Plotly; args.unshift(elem); return Plotly[fn].apply(this,args)})\"]},\"systemjs_options\":null,\"mount_callbacks\":[\"function () {\\n    var handler = ((function (Plotly,PlotlyWebIO){PlotlyWebIO.init(WebIO); var gd=this.dom.querySelector(\\\"#plot-8b52b022-d31f-4ba3-a55d-b425d7d2b3c7\\\"); this.plotElem=gd; this.Plotly=Plotly; (window.Blink!==undefined) ? (gd.style.width=\\\"100%\\\", gd.style.height=\\\"100vh\\\", gd.style.marginLeft=\\\"0%\\\", gd.style.marginTop=\\\"0vh\\\") : undefined; window.onresize=(function (){return Plotly.Plots.resize(gd)}); Plotly.newPlot(gd,[{\\\"xaxis\\\":\\\"x\\\",\\\"y\\\":[5.4,4.2,4.1,4.1,3.8,3.3,2.7,2.9,3.6,4.2,4.8,5.5,6.5,6.4,4.3,3.4,3.5,3.6,3.6,3.7,3.7,3.6,3.5,3.0,2.4,2.0,1.6,1.0,0.4,1.0,1.0,1.4,2.7,4.4,5.3,6.1,6.2,6.3,4.7,3.4,2.3,2.0,1.7,2.3,2.5,1.4,1.1,1.3,0.7,-0.9,-1.1,-1.9,-1.5,0.3,0.4,1.2,3.5,4.4,5.0,5.8,6.0,6.7,4.5,3.2,2.3,1.2,1.0,0.7,0.3,0.6,0.8,0.5,1.2,1.3,1.4,1.9,1.0,1.9,2.0,1.9,4.0,4.1,5.8,6.1,5.9,5.4,4.6,4.2,3.5,1.4,0.9,1.5,1.2,2.0,3.0,2.7,2.3,2.6,2.7,3.0,3.1,2.8,1.6,1.1,3.4,5.6,6.6,7.6,7.3,6.6,6.9,6.1,5.6,5.1,4.7,3.9,2.9,1.5,2.3,2.3],\\\"type\\\":\\\"scatter\\\",\\\"yaxis\\\":\\\"y\\\",\\\"x\\\":[\\\"2021-01-01T01:00:00\\\",\\\"2021-01-01T02:00:00\\\",\\\"2021-01-01T03:00:00\\\",\\\"2021-01-01T04:00:00\\\",\\\"2021-01-01T05:00:00\\\",\\\"2021-01-01T06:00:00\\\",\\\"2021-01-01T07:00:00\\\",\\\"2021-01-01T08:00:00\\\",\\\"2021-01-01T09:00:00\\\",\\\"2021-01-01T10:00:00\\\",\\\"2021-01-01T11:00:00\\\",\\\"2021-01-01T12:00:00\\\",\\\"2021-01-01T13:00:00\\\",\\\"2021-01-01T14:00:00\\\",\\\"2021-01-01T15:00:00\\\",\\\"2021-01-01T16:00:00\\\",\\\"2021-01-01T17:00:00\\\",\\\"2021-01-01T18:00:00\\\",\\\"2021-01-01T19:00:00\\\",\\\"2021-01-01T20:00:00\\\",\\\"2021-01-01T21:00:00\\\",\\\"2021-01-01T22:00:00\\\",\\\"2021-01-01T23:00:00\\\",\\\"2021-01-02T00:00:00\\\",\\\"2021-01-02T01:00:00\\\",\\\"2021-01-02T02:00:00\\\",\\\"2021-01-02T03:00:00\\\",\\\"2021-01-02T04:00:00\\\",\\\"2021-01-02T05:00:00\\\",\\\"2021-01-02T06:00:00\\\",\\\"2021-01-02T07:00:00\\\",\\\"2021-01-02T08:00:00\\\",\\\"2021-01-02T09:00:00\\\",\\\"2021-01-02T10:00:00\\\",\\\"2021-01-02T11:00:00\\\",\\\"2021-01-02T12:00:00\\\",\\\"2021-01-02T13:00:00\\\",\\\"2021-01-02T14:00:00\\\",\\\"2021-01-02T15:00:00\\\",\\\"2021-01-02T16:00:00\\\",\\\"2021-01-02T17:00:00\\\",\\\"2021-01-02T18:00:00\\\",\\\"2021-01-02T19:00:00\\\",\\\"2021-01-02T20:00:00\\\",\\\"2021-01-02T21:00:00\\\",\\\"2021-01-02T22:00:00\\\",\\\"2021-01-02T23:00:00\\\",\\\"2021-01-03T00:00:00\\\",\\\"2021-01-03T01:00:00\\\",\\\"2021-01-03T02:00:00\\\",\\\"2021-01-03T03:00:00\\\",\\\"2021-01-03T04:00:00\\\",\\\"2021-01-03T05:00:00\\\",\\\"2021-01-03T06:00:00\\\",\\\"2021-01-03T07:00:00\\\",\\\"2021-01-03T08:00:00\\\",\\\"2021-01-03T09:00:00\\\",\\\"2021-01-03T10:00:00\\\",\\\"2021-01-03T11:00:00\\\",\\\"2021-01-03T12:00:00\\\",\\\"2021-01-03T13:00:00\\\",\\\"2021-01-03T14:00:00\\\",\\\"2021-01-03T15:00:00\\\",\\\"2021-01-03T16:00:00\\\",\\\"2021-01-03T17:00:00\\\",\\\"2021-01-03T18:00:00\\\",\\\"2021-01-03T19:00:00\\\",\\\"2021-01-03T20:00:00\\\",\\\"2021-01-03T21:00:00\\\",\\\"2021-01-03T22:00:00\\\",\\\"2021-01-03T23:00:00\\\",\\\"2021-01-04T00:00:00\\\",\\\"2021-01-04T01:00:00\\\",\\\"2021-01-04T02:00:00\\\",\\\"2021-01-04T03:00:00\\\",\\\"2021-01-04T04:00:00\\\",\\\"2021-01-04T05:00:00\\\",\\\"2021-01-04T06:00:00\\\",\\\"2021-01-04T07:00:00\\\",\\\"2021-01-04T08:00:00\\\",\\\"2021-01-04T09:00:00\\\",\\\"2021-01-04T10:00:00\\\",\\\"2021-01-04T11:00:00\\\",\\\"2021-01-04T12:00:00\\\",\\\"2021-01-04T13:00:00\\\",\\\"2021-01-04T14:00:00\\\",\\\"2021-01-04T15:00:00\\\",\\\"2021-01-04T16:00:00\\\",\\\"2021-01-04T17:00:00\\\",\\\"2021-01-04T18:00:00\\\",\\\"2021-01-04T19:00:00\\\",\\\"2021-01-04T20:00:00\\\",\\\"2021-01-04T21:00:00\\\",\\\"2021-01-04T22:00:00\\\",\\\"2021-01-04T23:00:00\\\",\\\"2021-01-05T00:00:00\\\",\\\"2021-01-05T01:00:00\\\",\\\"2021-01-05T02:00:00\\\",\\\"2021-01-05T03:00:00\\\",\\\"2021-01-05T04:00:00\\\",\\\"2021-01-05T05:00:00\\\",\\\"2021-01-05T06:00:00\\\",\\\"2021-01-05T07:00:00\\\",\\\"2021-01-05T08:00:00\\\",\\\"2021-01-05T09:00:00\\\",\\\"2021-01-05T10:00:00\\\",\\\"2021-01-05T11:00:00\\\",\\\"2021-01-05T12:00:00\\\",\\\"2021-01-05T13:00:00\\\",\\\"2021-01-05T14:00:00\\\",\\\"2021-01-05T15:00:00\\\",\\\"2021-01-05T16:00:00\\\",\\\"2021-01-05T17:00:00\\\",\\\"2021-01-05T18:00:00\\\",\\\"2021-01-05T19:00:00\\\",\\\"2021-01-05T20:00:00\\\",\\\"2021-01-05T21:00:00\\\",\\\"2021-01-05T22:00:00\\\",\\\"2021-01-05T23:00:00\\\",\\\"2021-01-06T00:00:00\\\"]}],{\\\"xaxis\\\":{\\\"title\\\":{\\\"text\\\":\\\"ts\\\"}},\\\"template\\\":{\\\"layout\\\":{\\\"coloraxis\\\":{\\\"colorbar\\\":{\\\"ticks\\\":\\\"\\\",\\\"outlinewidth\\\":0}},\\\"xaxis\\\":{\\\"gridcolor\\\":\\\"white\\\",\\\"zerolinewidth\\\":2,\\\"title\\\":{\\\"standoff\\\":15},\\\"ticks\\\":\\\"\\\",\\\"zerolinecolor\\\":\\\"white\\\",\\\"automargin\\\":true,\\\"linecolor\\\":\\\"white\\\"},\\\"hovermode\\\":\\\"closest\\\",\\\"paper_bgcolor\\\":\\\"white\\\",\\\"geo\\\":{\\\"showlakes\\\":true,\\\"showland\\\":true,\\\"landcolor\\\":\\\"#E5ECF6\\\",\\\"bgcolor\\\":\\\"white\\\",\\\"subunitcolor\\\":\\\"white\\\",\\\"lakecolor\\\":\\\"white\\\"},\\\"colorscale\\\":{\\\"sequential\\\":[[0.0,\\\"#0d0887\\\"],[0.1111111111111111,\\\"#46039f\\\"],[0.2222222222222222,\\\"#7201a8\\\"],[0.3333333333333333,\\\"#9c179e\\\"],[0.4444444444444444,\\\"#bd3786\\\"],[0.5555555555555556,\\\"#d8576b\\\"],[0.6666666666666666,\\\"#ed7953\\\"],[0.7777777777777778,\\\"#fb9f3a\\\"],[0.8888888888888888,\\\"#fdca26\\\"],[1.0,\\\"#f0f921\\\"]],\\\"diverging\\\":[[0,\\\"#8e0152\\\"],[0.1,\\\"#c51b7d\\\"],[0.2,\\\"#de77ae\\\"],[0.3,\\\"#f1b6da\\\"],[0.4,\\\"#fde0ef\\\"],[0.5,\\\"#f7f7f7\\\"],[0.6,\\\"#e6f5d0\\\"],[0.7,\\\"#b8e186\\\"],[0.8,\\\"#7fbc41\\\"],[0.9,\\\"#4d9221\\\"],[1,\\\"#276419\\\"]],\\\"sequentialminus\\\":[[0.0,\\\"#0d0887\\\"],[0.1111111111111111,\\\"#46039f\\\"],[0.2222222222222222,\\\"#7201a8\\\"],[0.3333333333333333,\\\"#9c179e\\\"],[0.4444444444444444,\\\"#bd3786\\\"],[0.5555555555555556,\\\"#d8576b\\\"],[0.6666666666666666,\\\"#ed7953\\\"],[0.7777777777777778,\\\"#fb9f3a\\\"],[0.8888888888888888,\\\"#fdca26\\\"],[1.0,\\\"#f0f921\\\"]]},\\\"yaxis\\\":{\\\"gridcolor\\\":\\\"white\\\",\\\"zerolinewidth\\\":2,\\\"title\\\":{\\\"standoff\\\":15},\\\"ticks\\\":\\\"\\\",\\\"zerolinecolor\\\":\\\"white\\\",\\\"automargin\\\":true,\\\"linecolor\\\":\\\"white\\\"},\\\"shapedefaults\\\":{\\\"line\\\":{\\\"color\\\":\\\"#2a3f5f\\\"}},\\\"hoverlabel\\\":{\\\"align\\\":\\\"left\\\"},\\\"mapbox\\\":{\\\"style\\\":\\\"light\\\"},\\\"polar\\\":{\\\"angularaxis\\\":{\\\"gridcolor\\\":\\\"white\\\",\\\"ticks\\\":\\\"\\\",\\\"linecolor\\\":\\\"white\\\"},\\\"bgcolor\\\":\\\"#E5ECF6\\\",\\\"radialaxis\\\":{\\\"gridcolor\\\":\\\"white\\\",\\\"ticks\\\":\\\"\\\",\\\"linecolor\\\":\\\"white\\\"}},\\\"autotypenumbers\\\":\\\"strict\\\",\\\"font\\\":{\\\"color\\\":\\\"#2a3f5f\\\"},\\\"ternary\\\":{\\\"baxis\\\":{\\\"gridcolor\\\":\\\"white\\\",\\\"ticks\\\":\\\"\\\",\\\"linecolor\\\":\\\"white\\\"},\\\"bgcolor\\\":\\\"#E5ECF6\\\",\\\"caxis\\\":{\\\"gridcolor\\\":\\\"white\\\",\\\"ticks\\\":\\\"\\\",\\\"linecolor\\\":\\\"white\\\"},\\\"aaxis\\\":{\\\"gridcolor\\\":\\\"white\\\",\\\"ticks\\\":\\\"\\\",\\\"linecolor\\\":\\\"white\\\"}},\\\"annotationdefaults\\\":{\\\"arrowhead\\\":0,\\\"arrowwidth\\\":1,\\\"arrowcolor\\\":\\\"#2a3f5f\\\"},\\\"plot_bgcolor\\\":\\\"#E5ECF6\\\",\\\"title\\\":{\\\"x\\\":0.05},\\\"scene\\\":{\\\"xaxis\\\":{\\\"gridcolor\\\":\\\"white\\\",\\\"gridwidth\\\":2,\\\"backgroundcolor\\\":\\\"#E5ECF6\\\",\\\"ticks\\\":\\\"\\\",\\\"showbackground\\\":true,\\\"zerolinecolor\\\":\\\"white\\\",\\\"linecolor\\\":\\\"white\\\"},\\\"zaxis\\\":{\\\"gridcolor\\\":\\\"white\\\",\\\"gridwidth\\\":2,\\\"backgroundcolor\\\":\\\"#E5ECF6\\\",\\\"ticks\\\":\\\"\\\",\\\"showbackground\\\":true,\\\"zerolinecolor\\\":\\\"white\\\",\\\"linecolor\\\":\\\"white\\\"},\\\"yaxis\\\":{\\\"gridcolor\\\":\\\"white\\\",\\\"gridwidth\\\":2,\\\"backgroundcolor\\\":\\\"#E5ECF6\\\",\\\"ticks\\\":\\\"\\\",\\\"showbackground\\\":true,\\\"zerolinecolor\\\":\\\"white\\\",\\\"linecolor\\\":\\\"white\\\"}},\\\"colorway\\\":[\\\"#636efa\\\",\\\"#EF553B\\\",\\\"#00cc96\\\",\\\"#ab63fa\\\",\\\"#FFA15A\\\",\\\"#19d3f3\\\",\\\"#FF6692\\\",\\\"#B6E880\\\",\\\"#FF97FF\\\",\\\"#FECB52\\\"]},\\\"data\\\":{\\\"barpolar\\\":[{\\\"type\\\":\\\"barpolar\\\",\\\"marker\\\":{\\\"line\\\":{\\\"color\\\":\\\"#E5ECF6\\\",\\\"width\\\":0.5}}}],\\\"carpet\\\":[{\\\"aaxis\\\":{\\\"gridcolor\\\":\\\"white\\\",\\\"endlinecolor\\\":\\\"#2a3f5f\\\",\\\"minorgridcolor\\\":\\\"white\\\",\\\"startlinecolor\\\":\\\"#2a3f5f\\\",\\\"linecolor\\\":\\\"white\\\"},\\\"type\\\":\\\"carpet\\\",\\\"baxis\\\":{\\\"gridcolor\\\":\\\"white\\\",\\\"endlinecolor\\\":\\\"#2a3f5f\\\",\\\"minorgridcolor\\\":\\\"white\\\",\\\"startlinecolor\\\":\\\"#2a3f5f\\\",\\\"linecolor\\\":\\\"white\\\"}}],\\\"scatterpolar\\\":[{\\\"type\\\":\\\"scatterpolar\\\",\\\"marker\\\":{\\\"colorbar\\\":{\\\"ticks\\\":\\\"\\\",\\\"outlinewidth\\\":0}}}],\\\"parcoords\\\":[{\\\"line\\\":{\\\"colorbar\\\":{\\\"ticks\\\":\\\"\\\",\\\"outlinewidth\\\":0}},\\\"type\\\":\\\"parcoords\\\"}],\\\"scatter\\\":[{\\\"type\\\":\\\"scatter\\\",\\\"marker\\\":{\\\"colorbar\\\":{\\\"ticks\\\":\\\"\\\",\\\"outlinewidth\\\":0}}}],\\\"histogram2dcontour\\\":[{\\\"colorbar\\\":{\\\"ticks\\\":\\\"\\\",\\\"outlinewidth\\\":0},\\\"type\\\":\\\"histogram2dcontour\\\",\\\"colorscale\\\":[[0.0,\\\"#0d0887\\\"],[0.1111111111111111,\\\"#46039f\\\"],[0.2222222222222222,\\\"#7201a8\\\"],[0.3333333333333333,\\\"#9c179e\\\"],[0.4444444444444444,\\\"#bd3786\\\"],[0.5555555555555556,\\\"#d8576b\\\"],[0.6666666666666666,\\\"#ed7953\\\"],[0.7777777777777778,\\\"#fb9f3a\\\"],[0.8888888888888888,\\\"#fdca26\\\"],[1.0,\\\"#f0f921\\\"]]}],\\\"contour\\\":[{\\\"colorbar\\\":{\\\"ticks\\\":\\\"\\\",\\\"outlinewidth\\\":0},\\\"type\\\":\\\"contour\\\",\\\"colorscale\\\":[[0.0,\\\"#0d0887\\\"],[0.1111111111111111,\\\"#46039f\\\"],[0.2222222222222222,\\\"#7201a8\\\"],[0.3333333333333333,\\\"#9c179e\\\"],[0.4444444444444444,\\\"#bd3786\\\"],[0.5555555555555556,\\\"#d8576b\\\"],[0.6666666666666666,\\\"#ed7953\\\"],[0.7777777777777778,\\\"#fb9f3a\\\"],[0.8888888888888888,\\\"#fdca26\\\"],[1.0,\\\"#f0f921\\\"]]}],\\\"scattercarpet\\\":[{\\\"type\\\":\\\"scattercarpet\\\",\\\"marker\\\":{\\\"colorbar\\\":{\\\"ticks\\\":\\\"\\\",\\\"outlinewidth\\\":0}}}],\\\"mesh3d\\\":[{\\\"colorbar\\\":{\\\"ticks\\\":\\\"\\\",\\\"outlinewidth\\\":0},\\\"type\\\":\\\"mesh3d\\\"}],\\\"surface\\\":[{\\\"colorbar\\\":{\\\"ticks\\\":\\\"\\\",\\\"outlinewidth\\\":0},\\\"type\\\":\\\"surface\\\",\\\"colorscale\\\":[[0.0,\\\"#0d0887\\\"],[0.1111111111111111,\\\"#46039f\\\"],[0.2222222222222222,\\\"#7201a8\\\"],[0.3333333333333333,\\\"#9c179e\\\"],[0.4444444444444444,\\\"#bd3786\\\"],[0.5555555555555556,\\\"#d8576b\\\"],[0.6666666666666666,\\\"#ed7953\\\"],[0.7777777777777778,\\\"#fb9f3a\\\"],[0.8888888888888888,\\\"#fdca26\\\"],[1.0,\\\"#f0f921\\\"]]}],\\\"scattermapbox\\\":[{\\\"type\\\":\\\"scattermapbox\\\",\\\"marker\\\":{\\\"colorbar\\\":{\\\"ticks\\\":\\\"\\\",\\\"outlinewidth\\\":0}}}],\\\"scattergeo\\\":[{\\\"type\\\":\\\"scattergeo\\\",\\\"marker\\\":{\\\"colorbar\\\":{\\\"ticks\\\":\\\"\\\",\\\"outlinewidth\\\":0}}}],\\\"histogram\\\":[{\\\"type\\\":\\\"histogram\\\",\\\"marker\\\":{\\\"colorbar\\\":{\\\"ticks\\\":\\\"\\\",\\\"outlinewidth\\\":0}}}],\\\"pie\\\":[{\\\"type\\\":\\\"pie\\\",\\\"automargin\\\":true}],\\\"choropleth\\\":[{\\\"colorbar\\\":{\\\"ticks\\\":\\\"\\\",\\\"outlinewidth\\\":0},\\\"type\\\":\\\"choropleth\\\"}],\\\"heatmapgl\\\":[{\\\"colorbar\\\":{\\\"ticks\\\":\\\"\\\",\\\"outlinewidth\\\":0},\\\"type\\\":\\\"heatmapgl\\\",\\\"colorscale\\\":[[0.0,\\\"#0d0887\\\"],[0.1111111111111111,\\\"#46039f\\\"],[0.2222222222222222,\\\"#7201a8\\\"],[0.3333333333333333,\\\"#9c179e\\\"],[0.4444444444444444,\\\"#bd3786\\\"],[0.5555555555555556,\\\"#d8576b\\\"],[0.6666666666666666,\\\"#ed7953\\\"],[0.7777777777777778,\\\"#fb9f3a\\\"],[0.8888888888888888,\\\"#fdca26\\\"],[1.0,\\\"#f0f921\\\"]]}],\\\"bar\\\":[{\\\"type\\\":\\\"bar\\\",\\\"error_y\\\":{\\\"color\\\":\\\"#2a3f5f\\\"},\\\"error_x\\\":{\\\"color\\\":\\\"#2a3f5f\\\"},\\\"marker\\\":{\\\"line\\\":{\\\"color\\\":\\\"#E5ECF6\\\",\\\"width\\\":0.5}}}],\\\"heatmap\\\":[{\\\"colorbar\\\":{\\\"ticks\\\":\\\"\\\",\\\"outlinewidth\\\":0},\\\"type\\\":\\\"heatmap\\\",\\\"colorscale\\\":[[0.0,\\\"#0d0887\\\"],[0.1111111111111111,\\\"#46039f\\\"],[0.2222222222222222,\\\"#7201a8\\\"],[0.3333333333333333,\\\"#9c179e\\\"],[0.4444444444444444,\\\"#bd3786\\\"],[0.5555555555555556,\\\"#d8576b\\\"],[0.6666666666666666,\\\"#ed7953\\\"],[0.7777777777777778,\\\"#fb9f3a\\\"],[0.8888888888888888,\\\"#fdca26\\\"],[1.0,\\\"#f0f921\\\"]]}],\\\"contourcarpet\\\":[{\\\"colorbar\\\":{\\\"ticks\\\":\\\"\\\",\\\"outlinewidth\\\":0},\\\"type\\\":\\\"contourcarpet\\\"}],\\\"table\\\":[{\\\"type\\\":\\\"table\\\",\\\"header\\\":{\\\"line\\\":{\\\"color\\\":\\\"white\\\"},\\\"fill\\\":{\\\"color\\\":\\\"#C8D4E3\\\"}},\\\"cells\\\":{\\\"line\\\":{\\\"color\\\":\\\"white\\\"},\\\"fill\\\":{\\\"color\\\":\\\"#EBF0F8\\\"}}}],\\\"scatter3d\\\":[{\\\"line\\\":{\\\"colorbar\\\":{\\\"ticks\\\":\\\"\\\",\\\"outlinewidth\\\":0}},\\\"type\\\":\\\"scatter3d\\\",\\\"marker\\\":{\\\"colorbar\\\":{\\\"ticks\\\":\\\"\\\",\\\"outlinewidth\\\":0}}}],\\\"scattergl\\\":[{\\\"type\\\":\\\"scattergl\\\",\\\"marker\\\":{\\\"colorbar\\\":{\\\"ticks\\\":\\\"\\\",\\\"outlinewidth\\\":0}}}],\\\"histogram2d\\\":[{\\\"colorbar\\\":{\\\"ticks\\\":\\\"\\\",\\\"outlinewidth\\\":0},\\\"type\\\":\\\"histogram2d\\\",\\\"colorscale\\\":[[0.0,\\\"#0d0887\\\"],[0.1111111111111111,\\\"#46039f\\\"],[0.2222222222222222,\\\"#7201a8\\\"],[0.3333333333333333,\\\"#9c179e\\\"],[0.4444444444444444,\\\"#bd3786\\\"],[0.5555555555555556,\\\"#d8576b\\\"],[0.6666666666666666,\\\"#ed7953\\\"],[0.7777777777777778,\\\"#fb9f3a\\\"],[0.8888888888888888,\\\"#fdca26\\\"],[1.0,\\\"#f0f921\\\"]]}],\\\"scatterternary\\\":[{\\\"type\\\":\\\"scatterternary\\\",\\\"marker\\\":{\\\"colorbar\\\":{\\\"ticks\\\":\\\"\\\",\\\"outlinewidth\\\":0}}}],\\\"scatterpolargl\\\":[{\\\"type\\\":\\\"scatterpolargl\\\",\\\"marker\\\":{\\\"colorbar\\\":{\\\"ticks\\\":\\\"\\\",\\\"outlinewidth\\\":0}}}]}},\\\"legend\\\":{\\\"tracegroupgap\\\":0},\\\"margin\\\":{\\\"l\\\":50,\\\"b\\\":50,\\\"r\\\":50,\\\"t\\\":60},\\\"yaxis\\\":{\\\"title\\\":{\\\"text\\\":\\\"value\\\"}}},{\\\"showLink\\\":false,\\\"editable\\\":false,\\\"responsive\\\":true,\\\"staticPlot\\\":false,\\\"scrollZoom\\\":true}); gd.on(\\\"plotly_hover\\\",(function (data){var filtered_data=WebIO.PlotlyCommands.filterEventData(gd,data,\\\"hover\\\"); return !(filtered_data.isnil) ? (WebIO.setval({\\\"name\\\":\\\"hover\\\",\\\"scope\\\":\\\"5382174735536601955\\\",\\\"id\\\":\\\"2672884280337613363\\\",\\\"type\\\":\\\"observable\\\"},filtered_data.out)) : undefined})); gd.on(\\\"plotly_unhover\\\",(function (){return WebIO.setval({\\\"name\\\":\\\"hover\\\",\\\"scope\\\":\\\"5382174735536601955\\\",\\\"id\\\":\\\"2672884280337613363\\\",\\\"type\\\":\\\"observable\\\"},{})})); gd.on(\\\"plotly_selected\\\",(function (data){var filtered_data=WebIO.PlotlyCommands.filterEventData(gd,data,\\\"selected\\\"); return !(filtered_data.isnil) ? (WebIO.setval({\\\"name\\\":\\\"selected\\\",\\\"scope\\\":\\\"5382174735536601955\\\",\\\"id\\\":\\\"7000037633771818475\\\",\\\"type\\\":\\\"observable\\\"},filtered_data.out)) : undefined})); gd.on(\\\"plotly_deselect\\\",(function (){return WebIO.setval({\\\"name\\\":\\\"selected\\\",\\\"scope\\\":\\\"5382174735536601955\\\",\\\"id\\\":\\\"7000037633771818475\\\",\\\"type\\\":\\\"observable\\\"},{})})); gd.on(\\\"plotly_relayout\\\",(function (data){var filtered_data=WebIO.PlotlyCommands.filterEventData(gd,data,\\\"relayout\\\"); return !(filtered_data.isnil) ? (WebIO.setval({\\\"name\\\":\\\"relayout\\\",\\\"scope\\\":\\\"5382174735536601955\\\",\\\"id\\\":\\\"7232262443945678739\\\",\\\"type\\\":\\\"observable\\\"},filtered_data.out)) : undefined})); return gd.on(\\\"plotly_click\\\",(function (data){var filtered_data=WebIO.PlotlyCommands.filterEventData(gd,data,\\\"click\\\"); return !(filtered_data.isnil) ? (WebIO.setval({\\\"name\\\":\\\"click\\\",\\\"scope\\\":\\\"5382174735536601955\\\",\\\"id\\\":\\\"8297718357404835447\\\",\\\"type\\\":\\\"observable\\\"},filtered_data.out)) : undefined}))}));\\n    (WebIO.importBlock({\\\"data\\\":[{\\\"name\\\":\\\"Plotly\\\",\\\"type\\\":\\\"js\\\",\\\"url\\\":\\\"\\/assetserver\\/94bc3a2ffae8712a125270c78497a449a3cbfd1f-plotly.min.js\\\"},{\\\"name\\\":null,\\\"type\\\":\\\"js\\\",\\\"url\\\":\\\"\\/assetserver\\/71f21601054fa6cadfd8aff3b677aecf1c1653ab-plotly_webio.bundle.js\\\"}],\\\"type\\\":\\\"async_block\\\"})).then((imports) => handler.apply(this, imports));\\n}\\n\"],\"observables\":{\"_toImage\":{\"sync\":false,\"id\":\"3755283425322979402\",\"value\":{}},\"hover\":{\"sync\":false,\"id\":\"2672884280337613363\",\"value\":{}},\"selected\":{\"sync\":false,\"id\":\"7000037633771818475\",\"value\":{}},\"__gd_contents\":{\"sync\":false,\"id\":\"8575524951137732527\",\"value\":{}},\"click\":{\"sync\":false,\"id\":\"8297718357404835447\",\"value\":{}},\"image\":{\"sync\":true,\"id\":\"5034937559173228217\",\"value\":\"\"},\"__get_gd_contents\":{\"sync\":false,\"id\":\"8629468847047636591\",\"value\":\"\"},\"_downloadImage\":{\"sync\":false,\"id\":\"13641610735802933746\",\"value\":{}},\"relayout\":{\"sync\":false,\"id\":\"7232262443945678739\",\"value\":{}},\"_commands\":{\"sync\":false,\"id\":\"800670091250763814\",\"value\":[]}}},\"children\":[{\"props\":{\"id\":\"plot-8b52b022-d31f-4ba3-a55d-b425d7d2b3c7\"},\"nodeType\":\"DOM\",\"type\":\"node\",\"instanceArgs\":{\"namespace\":\"html\",\"tag\":\"div\"},\"children\":[]}]},\n",
       "        window,\n",
       "    );\n",
       "    })()\n",
       "    </script>\n",
       "</div>\n"
      ],
      "text/plain": [
       "data: [\n",
       "  \"scatter with fields type, x, xaxis, y, and yaxis\"\n",
       "]\n",
       "\n",
       "layout: \"layout with fields legend, margin, template, xaxis, and yaxis\"\n",
       "\n"
      ]
     },
     "execution_count": 4,
     "metadata": {},
     "output_type": "execute_result"
    }
   ],
   "source": [
    "# @df data plot(:ts, :value, \n",
    "#     label=\"Measured\", \n",
    "#     marker=:circle,\n",
    "#     markersize=2,\n",
    "#     # layout= Layout(;title=\"Horizontal Box Plot\")\n",
    "# )\n",
    "plot(data, :ts, :value)\n",
    "\n",
    "# macro plot_common()\n",
    "#     return quote\n",
    "#         (-5, 15) |> ylims!\n",
    "#         \"Date\" |> xlabel!\n",
    "#         \"Temperature\" |> ylabel!\n",
    "#     end\n",
    "# end\n",
    "\n",
    "# @plot_common()\n"
   ]
  },
  {
   "cell_type": "code",
   "execution_count": 12,
   "metadata": {},
   "outputs": [],
   "source": [
    "# import SingularSpectrumAnalysis as SSA\n",
    "\n",
    "# data_trend, data_season = SSA.analyze(\n",
    "#     data[:, :value],\n",
    "#     20,\n",
    "# ) \n",
    "\n",
    "\n",
    "# plot(data[:, :ts], data_trend, lab=\"Trend\")\n",
    "# plot!(data[:, :ts], data_season, lab=\"Seasonality\")\n",
    "# @lims()"
   ]
  }
 ],
 "metadata": {
  "kernelspec": {
   "display_name": "Julia 1.8.5",
   "language": "julia",
   "name": "julia-1.8"
  },
  "language_info": {
   "file_extension": ".jl",
   "mimetype": "application/julia",
   "name": "julia",
   "version": "1.8.5"
  }
 },
 "nbformat": 4,
 "nbformat_minor": 2
}
