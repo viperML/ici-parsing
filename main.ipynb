{
 "cells": [
  {
   "cell_type": "code",
   "execution_count": 22,
   "metadata": {},
   "outputs": [],
   "source": [
    "import pandas as pd\n",
    "from vega import Vega"
   ]
  },
  {
   "cell_type": "code",
   "execution_count": 24,
   "metadata": {},
   "outputs": [
    {
     "data": {
      "application/javascript": "const spec = {\"$schema\": \"https://vega.github.io/schema/vega-lite/v4.json\", \"description\": \"A simple bar chart with embedded data.\", \"data\": {\"values\": [{\"a\": \"A\", \"b\": 28}, {\"a\": \"B\", \"b\": 55}, {\"a\": \"C\", \"b\": 43}, {\"a\": \"D\", \"b\": 91}]}, \"mark\": \"bar\", \"encoding\": {\"x\": {\"field\": \"b\", \"type\": \"quantitative\"}, \"y\": {\"field\": \"a\", \"type\": \"nominal\"}}};\nconst opt = {};\nconst type = \"vega\";\nconst id = \"24b697c9-d714-4e34-9ea3-519c0a4be5e8\";\n\nconst output_area = this;\n\nrequire([\"jupyter-vega\"], function(vega) {\n  const target = document.createElement(\"div\");\n  target.id = id;\n  target.className = \"vega-embed\";\n\n  const style = document.createElement(\"style\");\n  style.textContent = [\n    \".vega-embed .error p {\",\n    \"  color: firebrick;\",\n    \"  font-size: 14px;\",\n    \"}\",\n  ].join(\"\\\\n\");\n\n  // element is a jQuery wrapped DOM element inside the output area\n  // see http://ipython.readthedocs.io/en/stable/api/generated/\\\n  // IPython.display.html#IPython.display.Javascript.__init__\n  element[0].appendChild(target);\n  element[0].appendChild(style);\n\n  vega.render(`#$24b697c9-d714-4e34-9ea3-519c0a4be5e8`, spec, type, opt, output_area);\n}, function (err) {\n  if (err.requireType !== \"scripterror\") {\n    throw(err);\n  }\n});\n",
      "text/plain": [
       "<vega.vega.Vega at 0xffff568bceb0>"
      ]
     },
     "execution_count": 24,
     "metadata": {
      "jupyter-vega": "#24b697c9-d714-4e34-9ea3-519c0a4be5e8"
     },
     "output_type": "execute_result"
    }
   ],
   "source": [
    "spec = {\n",
    "    \"$schema\": \"https://vega.github.io/schema/vega-lite/v4.json\",\n",
    "    \"description\": \"A simple bar chart with embedded data.\",\n",
    "    \"data\": {\n",
    "      \"values\": [\n",
    "        {\"a\": \"A\", \"b\": 28},\n",
    "        {\"a\": \"B\", \"b\": 55},\n",
    "        {\"a\": \"C\", \"b\": 43},\n",
    "        {\"a\": \"D\", \"b\": 91}\n",
    "      ]\n",
    "    },\n",
    "    \"mark\": \"bar\",\n",
    "    \"encoding\": {\n",
    "      \"x\": {\"field\": \"b\", \"type\": \"quantitative\"},\n",
    "      \"y\": {\"field\": \"a\", \"type\": \"nominal\"}\n",
    "    }\n",
    "  }\n",
    "\n",
    "Vega(spec)\n"
   ]
  }
 ],
 "metadata": {
  "kernelspec": {
   "display_name": ".venv",
   "language": "python",
   "name": "python3"
  },
  "language_info": {
   "codemirror_mode": {
    "name": "ipython",
    "version": 3
   },
   "file_extension": ".py",
   "mimetype": "text/x-python",
   "name": "python",
   "nbconvert_exporter": "python",
   "pygments_lexer": "ipython3",
   "version": "3.10.10"
  },
  "orig_nbformat": 4,
  "vscode": {
   "interpreter": {
    "hash": "029d7a0313fb9f55954f471941d7ab64e884709d7330c79b6a478e5ccb484ea0"
   }
  }
 },
 "nbformat": 4,
 "nbformat_minor": 2
}
