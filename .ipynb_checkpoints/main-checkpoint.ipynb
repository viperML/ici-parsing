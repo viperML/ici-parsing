{
 "cells": [
  {
   "cell_type": "markdown",
   "metadata": {},
   "source": [
    "![Alt text](data/Screenshot%202023-04-03%20100217.png)"
   ]
  },
  {
   "cell_type": "code",
   "execution_count": null,
   "metadata": {},
   "outputs": [],
   "source": [
    "using Pkg\n",
    "Pkg.activate(@__DIR__)\n",
    "Pkg.instantiate()\n",
    "\n",
    "using CSV\n",
    "using DataFrames\n",
    "\n",
    "import Base: tryparse\n",
    "import Dates: DateTime"
   ]
  },
  {
   "cell_type": "code",
   "execution_count": null,
   "metadata": {},
   "outputs": [],
   "source": [
    "@enum Station begin\n",
    "    RíoSanPedro\n",
    "    Montecoche\n",
    "    Grazalema\n",
    "    Estepona\n",
    "end\n",
    "\n",
    "\n",
    "function tryparse(::Type{Station}, s::String)\n",
    "    if s == \"ESTEPONA\"\n",
    "        Estepona::Station\n",
    "    elseif s == \"ES2 - La Teja - Montecoche\"\n",
    "        Montecoche::Station\n",
    "    else\n",
    "        nothing\n",
    "    end\n",
    "end\n",
    "\n",
    "\n",
    "data = CSV.File(\n",
    "    open(\"data/Grazalema_AEMET_2021-2022.csv\");\n",
    "    normalizenames=true,\n",
    "    select=[:value, :ts],\n",
    "    types=Dict(:ts => DateTime),\n",
    "    dateformat=\"yyyy-mm-dd HH:MM:SS.s\"\n",
    ") |> DataFrame\n"
   ]
  },
  {
   "cell_type": "code",
   "execution_count": null,
   "metadata": {},
   "outputs": [],
   "source": [
    "using StatsPlots\n",
    "\n",
    "@df data scatter(\n",
    "    :ts, \n",
    "    :value,\n",
    "    xlabel = \"Date\",\n",
    "    ylabel = \"Temperature\",\n",
    "    )\n",
    "    \n",
    "xlims!(data[1,:ts], data[10,:ts])"
   ]
  },
  {
   "cell_type": "code",
   "execution_count": null,
   "metadata": {},
   "outputs": [],
   "source": []
  }
 ],
 "metadata": {
  "kernelspec": {
   "display_name": "Julia 1.8.5",
   "language": "julia",
   "name": "julia-1.8"
  },
  "language_info": {
   "file_extension": ".jl",
   "mimetype": "application/julia",
   "name": "julia",
   "version": "1.8.5"
  }
 },
 "nbformat": 4,
 "nbformat_minor": 2
}
